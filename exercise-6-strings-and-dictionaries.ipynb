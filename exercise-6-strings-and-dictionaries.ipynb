{
 "cells": [
  {
   "cell_type": "markdown",
   "id": "85fefee8",
   "metadata": {
    "papermill": {
     "duration": 0.0071,
     "end_time": "2023-02-03T13:41:14.302957",
     "exception": false,
     "start_time": "2023-02-03T13:41:14.295857",
     "status": "completed"
    },
    "tags": []
   },
   "source": [
    "**This notebook is an exercise in the [Python](https://www.kaggle.com/learn/python) course.  You can reference the tutorial at [this link](https://www.kaggle.com/colinmorris/strings-and-dictionaries).**\n",
    "\n",
    "---\n"
   ]
  },
  {
   "cell_type": "markdown",
   "id": "3c7370f7",
   "metadata": {
    "papermill": {
     "duration": 0.005306,
     "end_time": "2023-02-03T13:41:14.314493",
     "exception": false,
     "start_time": "2023-02-03T13:41:14.309187",
     "status": "completed"
    },
    "tags": []
   },
   "source": [
    "You are almost done with the course. Nice job!\n",
    "\n",
    "We have a couple more interesting problems for you before you go. \n",
    "\n",
    "As always, run the setup code below before working on the questions."
   ]
  },
  {
   "cell_type": "code",
   "execution_count": 1,
   "id": "def807cc",
   "metadata": {
    "execution": {
     "iopub.execute_input": "2023-02-03T13:41:14.327556Z",
     "iopub.status.busy": "2023-02-03T13:41:14.327072Z",
     "iopub.status.idle": "2023-02-03T13:41:14.395779Z",
     "shell.execute_reply": "2023-02-03T13:41:14.394674Z"
    },
    "papermill": {
     "duration": 0.078574,
     "end_time": "2023-02-03T13:41:14.398600",
     "exception": false,
     "start_time": "2023-02-03T13:41:14.320026",
     "status": "completed"
    },
    "tags": []
   },
   "outputs": [
    {
     "name": "stdout",
     "output_type": "stream",
     "text": [
      "Setup complete.\n"
     ]
    }
   ],
   "source": [
    "from learntools.core import binder; binder.bind(globals())\n",
    "from learntools.python.ex6 import *\n",
    "print('Setup complete.')"
   ]
  },
  {
   "cell_type": "markdown",
   "id": "9c8bbef7",
   "metadata": {
    "papermill": {
     "duration": 0.00534,
     "end_time": "2023-02-03T13:41:14.410198",
     "exception": false,
     "start_time": "2023-02-03T13:41:14.404858",
     "status": "completed"
    },
    "tags": []
   },
   "source": [
    "Let's start with a string lightning round to warm up. What are the lengths of the strings below?\n",
    "\n",
    "For each of the five strings below, predict what `len()` would return when passed that string. Use the variable `length` to record your answer, then run the cell to check whether you were right.  \n",
    "\n",
    "# 0a."
   ]
  },
  {
   "cell_type": "code",
   "execution_count": 2,
   "id": "ab284217",
   "metadata": {
    "execution": {
     "iopub.execute_input": "2023-02-03T13:41:14.423145Z",
     "iopub.status.busy": "2023-02-03T13:41:14.422708Z",
     "iopub.status.idle": "2023-02-03T13:41:14.436850Z",
     "shell.execute_reply": "2023-02-03T13:41:14.435265Z"
    },
    "papermill": {
     "duration": 0.024039,
     "end_time": "2023-02-03T13:41:14.439868",
     "exception": false,
     "start_time": "2023-02-03T13:41:14.415829",
     "status": "completed"
    },
    "tags": []
   },
   "outputs": [
    {
     "name": "stdout",
     "output_type": "stream",
     "text": [
      "0\n"
     ]
    },
    {
     "data": {
      "application/javascript": [
       "parent.postMessage({\"jupyterEvent\": \"custom.exercise_interaction\", \"data\": {\"outcomeType\": 1, \"valueTowardsCompletion\": 0.3333333333333333, \"interactionType\": 1, \"questionType\": 1, \"questionId\": \"0.1_ZA\", \"learnToolsVersion\": \"0.3.4\", \"failureMessage\": \"\", \"exceptionClass\": \"\", \"trace\": \"\"}}, \"*\")"
      ],
      "text/plain": [
       "<IPython.core.display.Javascript object>"
      ]
     },
     "metadata": {},
     "output_type": "display_data"
    },
    {
     "data": {
      "text/markdown": [
       "<span style=\"color:#33cc33\">Correct:</span> \n",
       "\n",
       "The empty string has length zero. Note that the empty string is also the only string that Python considers as False when converting to boolean."
      ],
      "text/plain": [
       "Correct: \n",
       "\n",
       "The empty string has length zero. Note that the empty string is also the only string that Python considers as False when converting to boolean."
      ]
     },
     "metadata": {},
     "output_type": "display_data"
    }
   ],
   "source": [
    "a = \"\"\n",
    "length = len(a)\n",
    "print(length)\n",
    "q0.a.check()"
   ]
  },
  {
   "cell_type": "markdown",
   "id": "1a71b8b1",
   "metadata": {
    "papermill": {
     "duration": 0.005555,
     "end_time": "2023-02-03T13:41:14.451542",
     "exception": false,
     "start_time": "2023-02-03T13:41:14.445987",
     "status": "completed"
    },
    "tags": []
   },
   "source": [
    "# 0b."
   ]
  },
  {
   "cell_type": "code",
   "execution_count": 3,
   "id": "c010acf1",
   "metadata": {
    "execution": {
     "iopub.execute_input": "2023-02-03T13:41:14.464881Z",
     "iopub.status.busy": "2023-02-03T13:41:14.464473Z",
     "iopub.status.idle": "2023-02-03T13:41:14.475565Z",
     "shell.execute_reply": "2023-02-03T13:41:14.474287Z"
    },
    "papermill": {
     "duration": 0.020603,
     "end_time": "2023-02-03T13:41:14.477930",
     "exception": false,
     "start_time": "2023-02-03T13:41:14.457327",
     "status": "completed"
    },
    "tags": []
   },
   "outputs": [
    {
     "name": "stdout",
     "output_type": "stream",
     "text": [
      "7\n"
     ]
    },
    {
     "data": {
      "application/javascript": [
       "parent.postMessage({\"jupyterEvent\": \"custom.exercise_interaction\", \"data\": {\"outcomeType\": 1, \"valueTowardsCompletion\": 0.3333333333333333, \"interactionType\": 1, \"questionType\": 1, \"questionId\": \"0.2_ZB\", \"learnToolsVersion\": \"0.3.4\", \"failureMessage\": \"\", \"exceptionClass\": \"\", \"trace\": \"\"}}, \"*\")"
      ],
      "text/plain": [
       "<IPython.core.display.Javascript object>"
      ]
     },
     "metadata": {},
     "output_type": "display_data"
    },
    {
     "data": {
      "text/markdown": [
       "<span style=\"color:#33cc33\">Correct:</span> \n",
       "\n",
       "Keep in mind Python includes spaces (and punctuation) when counting string length."
      ],
      "text/plain": [
       "Correct: \n",
       "\n",
       "Keep in mind Python includes spaces (and punctuation) when counting string length."
      ]
     },
     "metadata": {},
     "output_type": "display_data"
    }
   ],
   "source": [
    "b = \"it's ok\"\n",
    "length = len(b)\n",
    "print(length)\n",
    "q0.b.check()"
   ]
  },
  {
   "cell_type": "markdown",
   "id": "1cf2ab8e",
   "metadata": {
    "papermill": {
     "duration": 0.00599,
     "end_time": "2023-02-03T13:41:14.490272",
     "exception": false,
     "start_time": "2023-02-03T13:41:14.484282",
     "status": "completed"
    },
    "tags": []
   },
   "source": [
    "# 0c."
   ]
  },
  {
   "cell_type": "code",
   "execution_count": 4,
   "id": "78fe246e",
   "metadata": {
    "execution": {
     "iopub.execute_input": "2023-02-03T13:41:14.504937Z",
     "iopub.status.busy": "2023-02-03T13:41:14.504496Z",
     "iopub.status.idle": "2023-02-03T13:41:14.516175Z",
     "shell.execute_reply": "2023-02-03T13:41:14.514189Z"
    },
    "papermill": {
     "duration": 0.022334,
     "end_time": "2023-02-03T13:41:14.519046",
     "exception": false,
     "start_time": "2023-02-03T13:41:14.496712",
     "status": "completed"
    },
    "tags": []
   },
   "outputs": [
    {
     "name": "stdout",
     "output_type": "stream",
     "text": [
      "7\n"
     ]
    },
    {
     "data": {
      "application/javascript": [
       "parent.postMessage({\"jupyterEvent\": \"custom.exercise_interaction\", \"data\": {\"outcomeType\": 1, \"valueTowardsCompletion\": 0.3333333333333333, \"interactionType\": 1, \"questionType\": 1, \"questionId\": \"0.3_ZC\", \"learnToolsVersion\": \"0.3.4\", \"failureMessage\": \"\", \"exceptionClass\": \"\", \"trace\": \"\"}}, \"*\")"
      ],
      "text/plain": [
       "<IPython.core.display.Javascript object>"
      ]
     },
     "metadata": {},
     "output_type": "display_data"
    },
    {
     "data": {
      "text/markdown": [
       "<span style=\"color:#33cc33\">Correct:</span> \n",
       "\n",
       "Even though we use different syntax to create it, the string `c` is identical to `b`. In particular, note that the backslash is not part of the string, so it doesn't contribute to its length."
      ],
      "text/plain": [
       "Correct: \n",
       "\n",
       "Even though we use different syntax to create it, the string `c` is identical to `b`. In particular, note that the backslash is not part of the string, so it doesn't contribute to its length."
      ]
     },
     "metadata": {},
     "output_type": "display_data"
    }
   ],
   "source": [
    "c = 'it\\'s ok'\n",
    "length = len(c)\n",
    "print(length)\n",
    "q0.c.check()"
   ]
  },
  {
   "cell_type": "markdown",
   "id": "f3a9256d",
   "metadata": {
    "papermill": {
     "duration": 0.006247,
     "end_time": "2023-02-03T13:41:14.531995",
     "exception": false,
     "start_time": "2023-02-03T13:41:14.525748",
     "status": "completed"
    },
    "tags": []
   },
   "source": [
    "# 0d."
   ]
  },
  {
   "cell_type": "code",
   "execution_count": 5,
   "id": "6ae84990",
   "metadata": {
    "execution": {
     "iopub.execute_input": "2023-02-03T13:41:14.546864Z",
     "iopub.status.busy": "2023-02-03T13:41:14.546399Z",
     "iopub.status.idle": "2023-02-03T13:41:14.558850Z",
     "shell.execute_reply": "2023-02-03T13:41:14.557297Z"
    },
    "papermill": {
     "duration": 0.022719,
     "end_time": "2023-02-03T13:41:14.561295",
     "exception": false,
     "start_time": "2023-02-03T13:41:14.538576",
     "status": "completed"
    },
    "tags": []
   },
   "outputs": [
    {
     "name": "stdout",
     "output_type": "stream",
     "text": [
      "3\n"
     ]
    },
    {
     "data": {
      "application/javascript": [
       "parent.postMessage({\"jupyterEvent\": \"custom.exercise_interaction\", \"data\": {\"outcomeType\": 1, \"valueTowardsCompletion\": 0.3333333333333333, \"interactionType\": 1, \"questionType\": 1, \"questionId\": \"0.4_ZD\", \"learnToolsVersion\": \"0.3.4\", \"failureMessage\": \"\", \"exceptionClass\": \"\", \"trace\": \"\"}}, \"*\")"
      ],
      "text/plain": [
       "<IPython.core.display.Javascript object>"
      ]
     },
     "metadata": {},
     "output_type": "display_data"
    },
    {
     "data": {
      "text/markdown": [
       "<span style=\"color:#33cc33\">Correct:</span> \n",
       "\n",
       "The fact that this string was created using triple-quote syntax doesn't make any difference in terms of its content or length. This string is exactly the same as `'hey'`."
      ],
      "text/plain": [
       "Correct: \n",
       "\n",
       "The fact that this string was created using triple-quote syntax doesn't make any difference in terms of its content or length. This string is exactly the same as `'hey'`."
      ]
     },
     "metadata": {},
     "output_type": "display_data"
    }
   ],
   "source": [
    "d = \"\"\"hey\"\"\"\n",
    "length = len(d)\n",
    "print(length)\n",
    "q0.d.check()"
   ]
  },
  {
   "cell_type": "markdown",
   "id": "ba3a4648",
   "metadata": {
    "papermill": {
     "duration": 0.006499,
     "end_time": "2023-02-03T13:41:14.574770",
     "exception": false,
     "start_time": "2023-02-03T13:41:14.568271",
     "status": "completed"
    },
    "tags": []
   },
   "source": [
    "# 0e."
   ]
  },
  {
   "cell_type": "code",
   "execution_count": 6,
   "id": "1a439ecc",
   "metadata": {
    "execution": {
     "iopub.execute_input": "2023-02-03T13:41:14.590205Z",
     "iopub.status.busy": "2023-02-03T13:41:14.589801Z",
     "iopub.status.idle": "2023-02-03T13:41:14.600032Z",
     "shell.execute_reply": "2023-02-03T13:41:14.598341Z"
    },
    "papermill": {
     "duration": 0.021279,
     "end_time": "2023-02-03T13:41:14.602721",
     "exception": false,
     "start_time": "2023-02-03T13:41:14.581442",
     "status": "completed"
    },
    "tags": []
   },
   "outputs": [
    {
     "name": "stdout",
     "output_type": "stream",
     "text": [
      "1\n"
     ]
    },
    {
     "data": {
      "application/javascript": [
       "parent.postMessage({\"jupyterEvent\": \"custom.exercise_interaction\", \"data\": {\"outcomeType\": 1, \"valueTowardsCompletion\": 0.3333333333333333, \"interactionType\": 1, \"questionType\": 1, \"questionId\": \"0.5_ZE\", \"learnToolsVersion\": \"0.3.4\", \"failureMessage\": \"\", \"exceptionClass\": \"\", \"trace\": \"\"}}, \"*\")"
      ],
      "text/plain": [
       "<IPython.core.display.Javascript object>"
      ]
     },
     "metadata": {},
     "output_type": "display_data"
    },
    {
     "data": {
      "text/markdown": [
       "<span style=\"color:#33cc33\">Correct:</span> \n",
       "\n",
       "The newline character is just a single character! (Even though we represent it to Python using a combination of two characters.)"
      ],
      "text/plain": [
       "Correct: \n",
       "\n",
       "The newline character is just a single character! (Even though we represent it to Python using a combination of two characters.)"
      ]
     },
     "metadata": {},
     "output_type": "display_data"
    }
   ],
   "source": [
    "e = '\\n'\n",
    "length = len(e)\n",
    "print(length)\n",
    "q0.e.check()"
   ]
  },
  {
   "cell_type": "markdown",
   "id": "3d27949f",
   "metadata": {
    "papermill": {
     "duration": 0.00771,
     "end_time": "2023-02-03T13:41:14.617574",
     "exception": false,
     "start_time": "2023-02-03T13:41:14.609864",
     "status": "completed"
    },
    "tags": []
   },
   "source": [
    "# 1.\n",
    "\n",
    "There is a saying that \"Data scientists spend 80% of their time cleaning data, and 20% of their time complaining about cleaning data.\" Let's see if you can write a function to help clean US zip code data. Given a string, it should return whether or not that string represents a valid zip code. For our purposes, a valid zip code is any string consisting of exactly 5 digits.\n",
    "\n",
    "HINT: `str` has a method that will be useful here. Use `help(str)` to review a list of string methods."
   ]
  },
  {
   "cell_type": "code",
   "execution_count": 7,
   "id": "ab34d480",
   "metadata": {
    "execution": {
     "iopub.execute_input": "2023-02-03T13:41:14.634000Z",
     "iopub.status.busy": "2023-02-03T13:41:14.633627Z",
     "iopub.status.idle": "2023-02-03T13:41:14.643527Z",
     "shell.execute_reply": "2023-02-03T13:41:14.642206Z"
    },
    "papermill": {
     "duration": 0.021432,
     "end_time": "2023-02-03T13:41:14.646055",
     "exception": false,
     "start_time": "2023-02-03T13:41:14.624623",
     "status": "completed"
    },
    "tags": []
   },
   "outputs": [
    {
     "data": {
      "application/javascript": [
       "parent.postMessage({\"jupyterEvent\": \"custom.exercise_interaction\", \"data\": {\"outcomeType\": 1, \"valueTowardsCompletion\": 0.3333333333333333, \"interactionType\": 1, \"questionType\": 2, \"questionId\": \"1_ZipValidator\", \"learnToolsVersion\": \"0.3.4\", \"failureMessage\": \"\", \"exceptionClass\": \"\", \"trace\": \"\"}}, \"*\")"
      ],
      "text/plain": [
       "<IPython.core.display.Javascript object>"
      ]
     },
     "metadata": {},
     "output_type": "display_data"
    },
    {
     "data": {
      "text/markdown": [
       "<span style=\"color:#33cc33\">Correct</span>"
      ],
      "text/plain": [
       "Correct"
      ]
     },
     "metadata": {},
     "output_type": "display_data"
    }
   ],
   "source": [
    "def is_valid_zip(zip_code):\n",
    "    \"\"\"Returns whether the input string is a valid (5 digit) zip code\n",
    "    \"\"\"\n",
    "    if zip_code.isdigit() == True:\n",
    "        if len(zip_code) == 5:\n",
    "            return True\n",
    "        else:\n",
    "            return False\n",
    "    else:\n",
    "        return False\n",
    "# Check your answer\n",
    "q1.check()"
   ]
  },
  {
   "cell_type": "code",
   "execution_count": 8,
   "id": "097ce516",
   "metadata": {
    "execution": {
     "iopub.execute_input": "2023-02-03T13:41:14.663314Z",
     "iopub.status.busy": "2023-02-03T13:41:14.662865Z",
     "iopub.status.idle": "2023-02-03T13:41:14.667719Z",
     "shell.execute_reply": "2023-02-03T13:41:14.666376Z"
    },
    "papermill": {
     "duration": 0.016935,
     "end_time": "2023-02-03T13:41:14.670344",
     "exception": false,
     "start_time": "2023-02-03T13:41:14.653409",
     "status": "completed"
    },
    "tags": []
   },
   "outputs": [],
   "source": [
    "#q1.hint()\n",
    "#q1.solution()"
   ]
  },
  {
   "cell_type": "markdown",
   "id": "4b023d4a",
   "metadata": {
    "papermill": {
     "duration": 0.007397,
     "end_time": "2023-02-03T13:41:14.685304",
     "exception": false,
     "start_time": "2023-02-03T13:41:14.677907",
     "status": "completed"
    },
    "tags": []
   },
   "source": [
    "# 2.\n",
    "\n",
    "A researcher has gathered thousands of news articles. But she wants to focus her attention on articles including a specific word. Complete the function below to help her filter her list of articles.\n",
    "\n",
    "Your function should meet the following criteria:\n",
    "\n",
    "- Do not include documents where the keyword string shows up only as a part of a larger word. For example, if she were looking for the keyword “closed”, you would not include the string “enclosed.” \n",
    "- She does not want you to distinguish upper case from lower case letters. So the phrase “Closed the case.” would be included when the keyword is “closed”\n",
    "- Do not let periods or commas affect what is matched. “It is closed.” would be included when the keyword is “closed”. But you can assume there are no other types of punctuation."
   ]
  },
  {
   "cell_type": "code",
   "execution_count": 9,
   "id": "7b66156b",
   "metadata": {
    "execution": {
     "iopub.execute_input": "2023-02-03T13:41:14.702379Z",
     "iopub.status.busy": "2023-02-03T13:41:14.701909Z",
     "iopub.status.idle": "2023-02-03T13:41:14.715040Z",
     "shell.execute_reply": "2023-02-03T13:41:14.713420Z"
    },
    "papermill": {
     "duration": 0.024821,
     "end_time": "2023-02-03T13:41:14.717462",
     "exception": false,
     "start_time": "2023-02-03T13:41:14.692641",
     "status": "completed"
    },
    "tags": []
   },
   "outputs": [
    {
     "data": {
      "application/javascript": [
       "parent.postMessage({\"jupyterEvent\": \"custom.exercise_interaction\", \"data\": {\"outcomeType\": 1, \"valueTowardsCompletion\": 0.3333333333333333, \"interactionType\": 1, \"questionType\": 2, \"questionId\": \"2_WordSearch\", \"learnToolsVersion\": \"0.3.4\", \"failureMessage\": \"\", \"exceptionClass\": \"\", \"trace\": \"\"}}, \"*\")"
      ],
      "text/plain": [
       "<IPython.core.display.Javascript object>"
      ]
     },
     "metadata": {},
     "output_type": "display_data"
    },
    {
     "data": {
      "text/markdown": [
       "<span style=\"color:#33cc33\">Correct</span>"
      ],
      "text/plain": [
       "Correct"
      ]
     },
     "metadata": {},
     "output_type": "display_data"
    }
   ],
   "source": [
    "def word_search(doc_list, keyword):\n",
    "    \"\"\"\n",
    "    Takes a list of documents (each document is a string) and a keyword. \n",
    "    Returns list of the index values into the original list for all documents \n",
    "    containing the keyword.\n",
    "\n",
    "    Example:\n",
    "    doc_list = [\"The Learn Python Challenge Casino.\", \"They bought a car\", \"Casinoville\"]\n",
    "    >>> word_search(doc_list, 'casino')\n",
    "    >>> [0]\n",
    "    \"\"\"\n",
    "    index_list = []\n",
    "    for n, doc in enumerate(doc_list):\n",
    "        # Split the string doc into a list of words (according to whitespace)\n",
    "        marks = doc.split()\n",
    "        # Make a transformed list where we 'normalize' each word to facilitate matching.\n",
    "        # Periods and commas are removed from the end of each word, and it's set to all lowercase.\n",
    "        normalized = [mark.rstrip('.,').lower() for mark in marks]\n",
    "        # Is there a match? If so, update the list of matching indices.\n",
    "        if keyword.lower() in normalized:\n",
    "            index_list.append(n)\n",
    "    return index_list\n",
    "\n",
    "# Check your answer\n",
    "q2.check()"
   ]
  },
  {
   "cell_type": "code",
   "execution_count": 10,
   "id": "d36b27fa",
   "metadata": {
    "execution": {
     "iopub.execute_input": "2023-02-03T13:41:14.734729Z",
     "iopub.status.busy": "2023-02-03T13:41:14.734192Z",
     "iopub.status.idle": "2023-02-03T13:41:14.739033Z",
     "shell.execute_reply": "2023-02-03T13:41:14.737867Z"
    },
    "papermill": {
     "duration": 0.0167,
     "end_time": "2023-02-03T13:41:14.741732",
     "exception": false,
     "start_time": "2023-02-03T13:41:14.725032",
     "status": "completed"
    },
    "tags": []
   },
   "outputs": [],
   "source": [
    "#q2.hint()\n",
    "#q2.solution()"
   ]
  },
  {
   "cell_type": "markdown",
   "id": "cc329454",
   "metadata": {
    "papermill": {
     "duration": 0.007418,
     "end_time": "2023-02-03T13:41:14.756851",
     "exception": false,
     "start_time": "2023-02-03T13:41:14.749433",
     "status": "completed"
    },
    "tags": []
   },
   "source": [
    "# 3.\n",
    "\n",
    "Now the researcher wants to supply multiple keywords to search for. Complete the function below to help her.\n",
    "\n",
    "(You're encouraged to use the `word_search` function you just wrote when implementing this function. Reusing code in this way makes your programs more robust and readable - and it saves typing!)"
   ]
  },
  {
   "cell_type": "code",
   "execution_count": 11,
   "id": "97f3805c",
   "metadata": {
    "execution": {
     "iopub.execute_input": "2023-02-03T13:41:14.775396Z",
     "iopub.status.busy": "2023-02-03T13:41:14.774948Z",
     "iopub.status.idle": "2023-02-03T13:41:14.786071Z",
     "shell.execute_reply": "2023-02-03T13:41:14.785183Z"
    },
    "papermill": {
     "duration": 0.023377,
     "end_time": "2023-02-03T13:41:14.788516",
     "exception": false,
     "start_time": "2023-02-03T13:41:14.765139",
     "status": "completed"
    },
    "tags": []
   },
   "outputs": [
    {
     "data": {
      "application/javascript": [
       "parent.postMessage({\"jupyterEvent\": \"custom.exercise_interaction\", \"data\": {\"outcomeType\": 1, \"valueTowardsCompletion\": 0.3333333333333333, \"interactionType\": 1, \"questionType\": 2, \"questionId\": \"3_MultiWordSearch\", \"learnToolsVersion\": \"0.3.4\", \"failureMessage\": \"\", \"exceptionClass\": \"\", \"trace\": \"\"}}, \"*\")"
      ],
      "text/plain": [
       "<IPython.core.display.Javascript object>"
      ]
     },
     "metadata": {},
     "output_type": "display_data"
    },
    {
     "data": {
      "text/markdown": [
       "<span style=\"color:#33cc33\">Correct</span>"
      ],
      "text/plain": [
       "Correct"
      ]
     },
     "metadata": {},
     "output_type": "display_data"
    }
   ],
   "source": [
    "\n",
    "def multi_word_search(doc_list, keywords):\n",
    "    \"\"\"\n",
    "    Takes list of documents (each document is a string) and a list of keywords.  \n",
    "    Returns a dictionary where each key is a keyword, and the value is a list of indices\n",
    "    (from doc_list) of the documents containing that keyword\n",
    "\n",
    "    >>> doc_list = [\"The Learn Python Challenge Casino.\", \"They bought a car and a casino\", \"Casinoville\"]\n",
    "    >>> keywords = ['casino', 'they']\n",
    "    >>> multi_word_search(doc_list, keywords)\n",
    "    {'casino': [0, 1], 'they': [1]}\n",
    "    \"\"\"\n",
    "    documents = {}\n",
    "    for key in keywords:\n",
    "        documents[key] = word_search(doc_list, key)\n",
    "    return documents\n",
    "\n",
    "\n",
    "# Check your answer\n",
    "q3.check()"
   ]
  },
  {
   "cell_type": "code",
   "execution_count": 12,
   "id": "c27ac5c6",
   "metadata": {
    "execution": {
     "iopub.execute_input": "2023-02-03T13:41:14.806992Z",
     "iopub.status.busy": "2023-02-03T13:41:14.806590Z",
     "iopub.status.idle": "2023-02-03T13:41:14.811822Z",
     "shell.execute_reply": "2023-02-03T13:41:14.810401Z"
    },
    "papermill": {
     "duration": 0.017851,
     "end_time": "2023-02-03T13:41:14.814629",
     "exception": false,
     "start_time": "2023-02-03T13:41:14.796778",
     "status": "completed"
    },
    "tags": []
   },
   "outputs": [],
   "source": [
    "#q3.solution()"
   ]
  },
  {
   "cell_type": "markdown",
   "id": "3002d005",
   "metadata": {
    "papermill": {
     "duration": 0.007839,
     "end_time": "2023-02-03T13:41:14.830371",
     "exception": false,
     "start_time": "2023-02-03T13:41:14.822532",
     "status": "completed"
    },
    "tags": []
   },
   "source": [
    "# Keep Going\n",
    "\n",
    "You've learned a lot. But even the best programmers rely heavily on \"libraries\" of code from other programmers. You'll learn about that in **[the last lesson](https://www.kaggle.com/colinmorris/working-with-external-libraries)**.\n"
   ]
  },
  {
   "cell_type": "markdown",
   "id": "3972d2cc",
   "metadata": {
    "papermill": {
     "duration": 0.008083,
     "end_time": "2023-02-03T13:41:14.846357",
     "exception": false,
     "start_time": "2023-02-03T13:41:14.838274",
     "status": "completed"
    },
    "tags": []
   },
   "source": [
    "---\n",
    "\n",
    "\n",
    "\n",
    "\n",
    "*Have questions or comments? Visit the [course discussion forum](https://www.kaggle.com/learn/python/discussion) to chat with other learners.*"
   ]
  }
 ],
 "metadata": {
  "kernelspec": {
   "display_name": "Python 3",
   "language": "python",
   "name": "python3"
  },
  "language_info": {
   "codemirror_mode": {
    "name": "ipython",
    "version": 3
   },
   "file_extension": ".py",
   "mimetype": "text/x-python",
   "name": "python",
   "nbconvert_exporter": "python",
   "pygments_lexer": "ipython3",
   "version": "3.7.12"
  },
  "papermill": {
   "default_parameters": {},
   "duration": 11.114396,
   "end_time": "2023-02-03T13:41:15.576953",
   "environment_variables": {},
   "exception": null,
   "input_path": "__notebook__.ipynb",
   "output_path": "__notebook__.ipynb",
   "parameters": {},
   "start_time": "2023-02-03T13:41:04.462557",
   "version": "2.3.4"
  }
 },
 "nbformat": 4,
 "nbformat_minor": 5
}
