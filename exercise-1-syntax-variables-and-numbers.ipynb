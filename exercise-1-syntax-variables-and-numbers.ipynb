{
 "cells": [
  {
   "cell_type": "markdown",
   "id": "3fba3d8e",
   "metadata": {
    "papermill": {
     "duration": 0.006499,
     "end_time": "2023-01-05T06:37:00.747031",
     "exception": false,
     "start_time": "2023-01-05T06:37:00.740532",
     "status": "completed"
    },
    "tags": []
   },
   "source": [
    "**This notebook is an exercise in the [Python](https://www.kaggle.com/learn/python) course.  You can reference the tutorial at [this link](https://www.kaggle.com/colinmorris/hello-python).**\n",
    "\n",
    "---\n"
   ]
  },
  {
   "cell_type": "code",
   "execution_count": 1,
   "id": "97d6244e",
   "metadata": {
    "execution": {
     "iopub.execute_input": "2023-01-05T06:37:00.760784Z",
     "iopub.status.busy": "2023-01-05T06:37:00.760293Z",
     "iopub.status.idle": "2023-01-05T06:37:00.772060Z",
     "shell.execute_reply": "2023-01-05T06:37:00.770440Z"
    },
    "papermill": {
     "duration": 0.021897,
     "end_time": "2023-01-05T06:37:00.774733",
     "exception": false,
     "start_time": "2023-01-05T06:37:00.752836",
     "status": "completed"
    },
    "tags": []
   },
   "outputs": [
    {
     "name": "stdout",
     "output_type": "stream",
     "text": [
      "GG GG GG GG \n"
     ]
    }
   ],
   "source": [
    "print(\"GG \"*4)"
   ]
  },
  {
   "cell_type": "markdown",
   "id": "834656c6",
   "metadata": {
    "papermill": {
     "duration": 0.005682,
     "end_time": "2023-01-05T06:37:00.786427",
     "exception": false,
     "start_time": "2023-01-05T06:37:00.780745",
     "status": "completed"
    },
    "tags": []
   },
   "source": [
    "Welcome to your first set of Python coding problems.  If this is your first time using Kaggle Notebooks, welcome! \n",
    "\n",
    "Notebooks are composed of blocks (called \"cells\") of text and code. Each of these is editable, though you'll mainly be editing the code cells to answer some questions.\n",
    "\n",
    "To get started, try running the code cell below (by pressing the ► button, or clicking on the cell and pressing ctrl+enter on your keyboard)."
   ]
  },
  {
   "cell_type": "code",
   "execution_count": 2,
   "id": "b9bad8e5",
   "metadata": {
    "execution": {
     "iopub.execute_input": "2023-01-05T06:37:00.800451Z",
     "iopub.status.busy": "2023-01-05T06:37:00.799504Z",
     "iopub.status.idle": "2023-01-05T06:37:00.805930Z",
     "shell.execute_reply": "2023-01-05T06:37:00.804354Z"
    },
    "papermill": {
     "duration": 0.015807,
     "end_time": "2023-01-05T06:37:00.808207",
     "exception": false,
     "start_time": "2023-01-05T06:37:00.792400",
     "status": "completed"
    },
    "tags": []
   },
   "outputs": [
    {
     "name": "stdout",
     "output_type": "stream",
     "text": [
      "You've successfully run some Python code\n",
      "Congratulations!\n"
     ]
    }
   ],
   "source": [
    "print(\"You've successfully run some Python code\")\n",
    "print(\"Congratulations!\")"
   ]
  },
  {
   "cell_type": "markdown",
   "id": "d2c32288",
   "metadata": {
    "papermill": {
     "duration": 0.00568,
     "end_time": "2023-01-05T06:37:00.820089",
     "exception": false,
     "start_time": "2023-01-05T06:37:00.814409",
     "status": "completed"
    },
    "tags": []
   },
   "source": [
    "Try adding another line of code in the cell above and re-running it. \n",
    "\n",
    "Now let's get a little fancier:  Add a new code cell by clicking on an existing code cell, hitting the escape key, and then hitting the `a` or `b` key.  The `a` key will add a cell above the current cell, and `b` adds a cell below.\n",
    "\n",
    "Great! Now you know how to use Notebooks.\n",
    "\n",
    "Each hands-on exercise starts by setting up our feedback and code checking mechanism. Run the code cell below to do that. Then you'll be ready to move on to question 0."
   ]
  },
  {
   "cell_type": "code",
   "execution_count": 3,
   "id": "5edb5c3e",
   "metadata": {
    "_kg_hide-input": true,
    "_kg_hide-output": true,
    "execution": {
     "iopub.execute_input": "2023-01-05T06:37:00.834298Z",
     "iopub.status.busy": "2023-01-05T06:37:00.833544Z",
     "iopub.status.idle": "2023-01-05T06:37:00.879952Z",
     "shell.execute_reply": "2023-01-05T06:37:00.878140Z"
    },
    "papermill": {
     "duration": 0.056457,
     "end_time": "2023-01-05T06:37:00.882491",
     "exception": false,
     "start_time": "2023-01-05T06:37:00.826034",
     "status": "completed"
    },
    "tags": []
   },
   "outputs": [
    {
     "name": "stdout",
     "output_type": "stream",
     "text": [
      "Setup complete! You're ready to start question 0.\n"
     ]
    }
   ],
   "source": [
    "from learntools.core import binder; binder.bind(globals())\n",
    "from learntools.python.ex1 import *\n",
    "print(\"Setup complete! You're ready to start question 0.\")"
   ]
  },
  {
   "cell_type": "markdown",
   "id": "96800918",
   "metadata": {
    "papermill": {
     "duration": 0.006361,
     "end_time": "2023-01-05T06:37:00.895190",
     "exception": false,
     "start_time": "2023-01-05T06:37:00.888829",
     "status": "completed"
    },
    "tags": []
   },
   "source": [
    "# 0.\n",
    "\n",
    "*This is a silly question intended as an introduction to the format we use for hands-on exercises throughout all Kaggle courses.*\n",
    "\n",
    "**What is your favorite color? **\n",
    "\n",
    "To complete this question, create a variable called `color` in the cell below with an appropriate value. The function call `q0.check()` (which we've already provided in the cell below) will check your answer."
   ]
  },
  {
   "cell_type": "code",
   "execution_count": 4,
   "id": "3ab2825d",
   "metadata": {
    "execution": {
     "iopub.execute_input": "2023-01-05T06:37:00.911019Z",
     "iopub.status.busy": "2023-01-05T06:37:00.910554Z",
     "iopub.status.idle": "2023-01-05T06:37:00.921076Z",
     "shell.execute_reply": "2023-01-05T06:37:00.919631Z"
    },
    "papermill": {
     "duration": 0.019876,
     "end_time": "2023-01-05T06:37:00.922925",
     "exception": false,
     "start_time": "2023-01-05T06:37:00.903049",
     "status": "completed"
    },
    "tags": []
   },
   "outputs": [
    {
     "data": {
      "application/javascript": [
       "parent.postMessage({\"jupyterEvent\": \"custom.exercise_interaction\", \"data\": {\"outcomeType\": 1, \"valueTowardsCompletion\": 0.25, \"interactionType\": 1, \"questionType\": 2, \"questionId\": \"0_ExerciseFormatTutorial\", \"learnToolsVersion\": \"0.3.4\", \"failureMessage\": \"\", \"exceptionClass\": \"\", \"trace\": \"\"}}, \"*\")"
      ],
      "text/plain": [
       "<IPython.core.display.Javascript object>"
      ]
     },
     "metadata": {},
     "output_type": "display_data"
    },
    {
     "data": {
      "text/markdown": [
       "<span style=\"color:#33cc33\">Correct:</span> What?! You got it right without needing a hint or anything? Drats. Well hey, you should still continue to the next step to get some practice asking for a hint and checking solutions. (Even though you obviously don't need any help here.)"
      ],
      "text/plain": [
       "Correct: What?! You got it right without needing a hint or anything? Drats. Well hey, you should still continue to the next step to get some practice asking for a hint and checking solutions. (Even though you obviously don't need any help here.)"
      ]
     },
     "metadata": {},
     "output_type": "display_data"
    }
   ],
   "source": [
    "# create a variable called color with an appropriate value on the line below\n",
    "# (Remember, strings in Python must be enclosed in 'single' or \"double\" quotes)\n",
    "____\n",
    "color = 'blue'\n",
    "\n",
    "# Check your answer\n",
    "q0.check()"
   ]
  },
  {
   "cell_type": "markdown",
   "id": "c58588e3",
   "metadata": {
    "papermill": {
     "duration": 0.00596,
     "end_time": "2023-01-05T06:37:00.935186",
     "exception": false,
     "start_time": "2023-01-05T06:37:00.929226",
     "status": "completed"
    },
    "tags": []
   },
   "source": [
    "Didn't get the right answer? How do you not even know your own favorite color?!\n",
    "\n",
    "Delete the `#` in the line below to make one of the lines run. You can choose between getting a hint or the full answer by choosing which line to remove the `#` from. \n",
    "\n",
    "Removing the `#` is called uncommenting, because it changes that line from a \"comment\" which Python doesn't run to code, which Python does run."
   ]
  },
  {
   "cell_type": "code",
   "execution_count": 5,
   "id": "c3ea2e14",
   "metadata": {
    "execution": {
     "iopub.execute_input": "2023-01-05T06:37:00.949854Z",
     "iopub.status.busy": "2023-01-05T06:37:00.949197Z",
     "iopub.status.idle": "2023-01-05T06:37:00.952762Z",
     "shell.execute_reply": "2023-01-05T06:37:00.952021Z"
    },
    "papermill": {
     "duration": 0.013221,
     "end_time": "2023-01-05T06:37:00.954623",
     "exception": false,
     "start_time": "2023-01-05T06:37:00.941402",
     "status": "completed"
    },
    "tags": []
   },
   "outputs": [],
   "source": [
    "#q0.hint()\n",
    "#q0.solution()"
   ]
  },
  {
   "cell_type": "markdown",
   "id": "763d9f47",
   "metadata": {
    "papermill": {
     "duration": 0.005853,
     "end_time": "2023-01-05T06:37:00.967304",
     "exception": false,
     "start_time": "2023-01-05T06:37:00.961451",
     "status": "completed"
    },
    "tags": []
   },
   "source": [
    "The upcoming questions work the same way. The only thing that will change are the question numbers. For the next question, you'll call `q1.check()`, `q1.hint()`, `q1.solution()`, for question 2, you'll call `q2.check()`, and so on."
   ]
  },
  {
   "cell_type": "markdown",
   "id": "8d90730b",
   "metadata": {
    "papermill": {
     "duration": 0.006045,
     "end_time": "2023-01-05T06:37:00.980186",
     "exception": false,
     "start_time": "2023-01-05T06:37:00.974141",
     "status": "completed"
    },
    "tags": []
   },
   "source": [
    "<hr/>\n",
    "\n",
    "# 1.\n",
    "\n",
    "Complete the code below. In case it's helpful, here is the table of available arithmetic operations:\n",
    "\n",
    "\n",
    "\n",
    "| Operator     | Name           | Description                                            |\n",
    "|--------------|----------------|--------------------------------------------------------|\n",
    "| ``a + b``    | Addition       | Sum of ``a`` and ``b``                                 |\n",
    "| ``a - b``    | Subtraction    | Difference of ``a`` and ``b``                          |\n",
    "| ``a * b``    | Multiplication | Product of ``a`` and ``b``                             |\n",
    "| ``a / b``    | True division  | Quotient of ``a`` and ``b``                            |\n",
    "| ``a // b``   | Floor division | Quotient of ``a`` and ``b``, removing fractional parts |\n",
    "| ``a % b``    | Modulus        | Integer remainder after division of ``a`` by ``b``     |\n",
    "| ``a ** b``   | Exponentiation | ``a`` raised to the power of ``b``                     |\n",
    "| ``-a``       | Negation       | The negative of ``a``                                  |\n",
    "\n",
    "<span style=\"display:none\"></span>\n"
   ]
  },
  {
   "cell_type": "code",
   "execution_count": 6,
   "id": "6acbafac",
   "metadata": {
    "execution": {
     "iopub.execute_input": "2023-01-05T06:37:00.994772Z",
     "iopub.status.busy": "2023-01-05T06:37:00.994378Z",
     "iopub.status.idle": "2023-01-05T06:37:01.004152Z",
     "shell.execute_reply": "2023-01-05T06:37:01.002642Z"
    },
    "papermill": {
     "duration": 0.020345,
     "end_time": "2023-01-05T06:37:01.006802",
     "exception": false,
     "start_time": "2023-01-05T06:37:00.986457",
     "status": "completed"
    },
    "tags": []
   },
   "outputs": [
    {
     "data": {
      "application/javascript": [
       "parent.postMessage({\"jupyterEvent\": \"custom.exercise_interaction\", \"data\": {\"outcomeType\": 1, \"valueTowardsCompletion\": 0.25, \"interactionType\": 1, \"questionType\": 1, \"questionId\": \"1_CircleArea\", \"learnToolsVersion\": \"0.3.4\", \"failureMessage\": \"\", \"exceptionClass\": \"\", \"trace\": \"\"}}, \"*\")"
      ],
      "text/plain": [
       "<IPython.core.display.Javascript object>"
      ]
     },
     "metadata": {},
     "output_type": "display_data"
    },
    {
     "data": {
      "text/markdown": [
       "<span style=\"color:#33cc33\">Correct</span>"
      ],
      "text/plain": [
       "Correct"
      ]
     },
     "metadata": {},
     "output_type": "display_data"
    }
   ],
   "source": [
    "pi = 3.14159 # approximate\n",
    "diameter = 3\n",
    "\n",
    "# Create a variable called 'radius' equal to half the diameter\n",
    "____\n",
    "radius = diameter/2\n",
    "\n",
    "# Create a variable called 'area', using the formula for the area of a circle: pi times the radius squared\n",
    "____\n",
    "area =  pi * (radius**2)\n",
    "\n",
    "# Check your answer\n",
    "q1.check()"
   ]
  },
  {
   "cell_type": "code",
   "execution_count": 7,
   "id": "41df9a03",
   "metadata": {
    "execution": {
     "iopub.execute_input": "2023-01-05T06:37:01.022099Z",
     "iopub.status.busy": "2023-01-05T06:37:01.021740Z",
     "iopub.status.idle": "2023-01-05T06:37:01.027121Z",
     "shell.execute_reply": "2023-01-05T06:37:01.025870Z"
    },
    "papermill": {
     "duration": 0.016301,
     "end_time": "2023-01-05T06:37:01.029758",
     "exception": false,
     "start_time": "2023-01-05T06:37:01.013457",
     "status": "completed"
    },
    "tags": []
   },
   "outputs": [],
   "source": [
    "# Uncomment and run the lines below if you need help.\n",
    "#q1.hint()\n",
    "#q1.solution()"
   ]
  },
  {
   "cell_type": "markdown",
   "id": "883debeb",
   "metadata": {
    "papermill": {
     "duration": 0.00608,
     "end_time": "2023-01-05T06:37:01.042889",
     "exception": false,
     "start_time": "2023-01-05T06:37:01.036809",
     "status": "completed"
    },
    "tags": []
   },
   "source": [
    "<hr/>\n",
    "\n",
    "# 2.\n",
    "\n",
    "Add code to the following cell to swap variables `a` and `b` (so that `a` refers to the object previously referred to by `b` and vice versa)."
   ]
  },
  {
   "cell_type": "code",
   "execution_count": 8,
   "id": "7f3447ba",
   "metadata": {
    "execution": {
     "iopub.execute_input": "2023-01-05T06:37:01.058777Z",
     "iopub.status.busy": "2023-01-05T06:37:01.057852Z",
     "iopub.status.idle": "2023-01-05T06:37:01.069014Z",
     "shell.execute_reply": "2023-01-05T06:37:01.067703Z"
    },
    "papermill": {
     "duration": 0.022058,
     "end_time": "2023-01-05T06:37:01.071856",
     "exception": false,
     "start_time": "2023-01-05T06:37:01.049798",
     "status": "completed"
    },
    "tags": []
   },
   "outputs": [
    {
     "data": {
      "application/javascript": [
       "parent.postMessage({\"jupyterEvent\": \"custom.exercise_interaction\", \"data\": {\"outcomeType\": 1, \"valueTowardsCompletion\": 0.25, \"interactionType\": 1, \"questionType\": 2, \"questionId\": \"2_VariableSwap\", \"learnToolsVersion\": \"0.3.4\", \"failureMessage\": \"\", \"exceptionClass\": \"\", \"trace\": \"\"}}, \"*\")"
      ],
      "text/plain": [
       "<IPython.core.display.Javascript object>"
      ]
     },
     "metadata": {},
     "output_type": "display_data"
    },
    {
     "data": {
      "text/markdown": [
       "<span style=\"color:#33cc33\">Correct:</span> \n",
       "\n",
       "The most straightforward solution is to use a third variable to temporarily store one of the old values. e.g.:\n",
       "\n",
       "    tmp = a\n",
       "    a = b\n",
       "    b = tmp\n",
       "\n",
       "If you've read lots of Python code, you might have seen the following trick to swap two variables in one line:\n",
       "\n",
       "    a, b = b, a\n",
       "\n",
       "We'll demystify this bit of Python magic later when we talk about *tuples*."
      ],
      "text/plain": [
       "Correct: \n",
       "\n",
       "The most straightforward solution is to use a third variable to temporarily store one of the old values. e.g.:\n",
       "\n",
       "    tmp = a\n",
       "    a = b\n",
       "    b = tmp\n",
       "\n",
       "If you've read lots of Python code, you might have seen the following trick to swap two variables in one line:\n",
       "\n",
       "    a, b = b, a\n",
       "\n",
       "We'll demystify this bit of Python magic later when we talk about *tuples*."
      ]
     },
     "metadata": {},
     "output_type": "display_data"
    }
   ],
   "source": [
    "########### Setup code - don't touch this part ######################\n",
    "# If you're curious, these are examples of lists. We'll talk about \n",
    "# them in depth a few lessons from now. For now, just know that they're\n",
    "# yet another type of Python object, like int or float.\n",
    "a = [1, 2, 3]\n",
    "b = [3, 2, 1]\n",
    "q2.store_original_ids()\n",
    "######################################################################\n",
    "\n",
    "# Your code goes here. Swap the values to which a and b refer.\n",
    "# If you get stuck, you can always uncomment one or both of the lines in\n",
    "# the next cell for a hint, or to peek at the solution.\n",
    "\n",
    "######################################################################\n",
    "value = a\n",
    "a = b\n",
    "b = value\n",
    "\n",
    "\n",
    "\n",
    "# Check your answer\n",
    "q2.check()"
   ]
  },
  {
   "cell_type": "code",
   "execution_count": 9,
   "id": "80c38e03",
   "metadata": {
    "execution": {
     "iopub.execute_input": "2023-01-05T06:37:01.086983Z",
     "iopub.status.busy": "2023-01-05T06:37:01.086576Z",
     "iopub.status.idle": "2023-01-05T06:37:01.090102Z",
     "shell.execute_reply": "2023-01-05T06:37:01.089443Z"
    },
    "papermill": {
     "duration": 0.013155,
     "end_time": "2023-01-05T06:37:01.091676",
     "exception": false,
     "start_time": "2023-01-05T06:37:01.078521",
     "status": "completed"
    },
    "tags": []
   },
   "outputs": [],
   "source": [
    "#q2.hint()"
   ]
  },
  {
   "cell_type": "code",
   "execution_count": 10,
   "id": "3460cb6e",
   "metadata": {
    "execution": {
     "iopub.execute_input": "2023-01-05T06:37:01.107842Z",
     "iopub.status.busy": "2023-01-05T06:37:01.107417Z",
     "iopub.status.idle": "2023-01-05T06:37:01.111554Z",
     "shell.execute_reply": "2023-01-05T06:37:01.110666Z"
    },
    "papermill": {
     "duration": 0.015346,
     "end_time": "2023-01-05T06:37:01.113889",
     "exception": false,
     "start_time": "2023-01-05T06:37:01.098543",
     "status": "completed"
    },
    "tags": []
   },
   "outputs": [],
   "source": [
    "#q2.solution()"
   ]
  },
  {
   "cell_type": "markdown",
   "id": "3b11f42b",
   "metadata": {
    "papermill": {
     "duration": 0.006705,
     "end_time": "2023-01-05T06:37:01.127631",
     "exception": false,
     "start_time": "2023-01-05T06:37:01.120926",
     "status": "completed"
    },
    "tags": []
   },
   "source": [
    "<hr/>\n",
    "\n",
    "# 3a.\n",
    "\n",
    "Add parentheses to the following expression so that it evaluates to 1."
   ]
  },
  {
   "cell_type": "code",
   "execution_count": 11,
   "id": "820d455b",
   "metadata": {
    "execution": {
     "iopub.execute_input": "2023-01-05T06:37:01.143607Z",
     "iopub.status.busy": "2023-01-05T06:37:01.143213Z",
     "iopub.status.idle": "2023-01-05T06:37:01.149344Z",
     "shell.execute_reply": "2023-01-05T06:37:01.148297Z"
    },
    "papermill": {
     "duration": 0.017042,
     "end_time": "2023-01-05T06:37:01.152081",
     "exception": false,
     "start_time": "2023-01-05T06:37:01.135039",
     "status": "completed"
    },
    "tags": []
   },
   "outputs": [
    {
     "data": {
      "text/plain": [
       "1"
      ]
     },
     "execution_count": 11,
     "metadata": {},
     "output_type": "execute_result"
    }
   ],
   "source": [
    "(5 - 3 )// 2"
   ]
  },
  {
   "cell_type": "code",
   "execution_count": 12,
   "id": "fe513c7e",
   "metadata": {
    "execution": {
     "iopub.execute_input": "2023-01-05T06:37:01.168133Z",
     "iopub.status.busy": "2023-01-05T06:37:01.167810Z",
     "iopub.status.idle": "2023-01-05T06:37:01.171561Z",
     "shell.execute_reply": "2023-01-05T06:37:01.170677Z"
    },
    "papermill": {
     "duration": 0.014519,
     "end_time": "2023-01-05T06:37:01.174080",
     "exception": false,
     "start_time": "2023-01-05T06:37:01.159561",
     "status": "completed"
    },
    "tags": []
   },
   "outputs": [],
   "source": [
    "#q3.a.hint()"
   ]
  },
  {
   "cell_type": "code",
   "execution_count": 13,
   "id": "d028f154",
   "metadata": {
    "execution": {
     "iopub.execute_input": "2023-01-05T06:37:01.190702Z",
     "iopub.status.busy": "2023-01-05T06:37:01.190312Z",
     "iopub.status.idle": "2023-01-05T06:37:01.197722Z",
     "shell.execute_reply": "2023-01-05T06:37:01.196708Z"
    },
    "papermill": {
     "duration": 0.018964,
     "end_time": "2023-01-05T06:37:01.200147",
     "exception": false,
     "start_time": "2023-01-05T06:37:01.181183",
     "status": "completed"
    },
    "tags": []
   },
   "outputs": [
    {
     "data": {
      "application/javascript": [
       "parent.postMessage({\"jupyterEvent\": \"custom.exercise_interaction\", \"data\": {\"interactionType\": 3, \"questionType\": 4, \"questionId\": \"3.1_ArithmeticParensEasy\", \"learnToolsVersion\": \"0.3.4\", \"valueTowardsCompletion\": 0.0, \"failureMessage\": \"\", \"exceptionClass\": \"\", \"trace\": \"\", \"outcomeType\": 4}}, \"*\")"
      ],
      "text/plain": [
       "<IPython.core.display.Javascript object>"
      ]
     },
     "metadata": {},
     "output_type": "display_data"
    },
    {
     "data": {
      "text/markdown": [
       "<span style=\"color:#33cc99\">Solution:</span> \n",
       "```python\n",
       "(5 - 3) // 2\n",
       "```"
      ],
      "text/plain": [
       "Solution: \n",
       "```python\n",
       "(5 - 3) // 2\n",
       "```"
      ]
     },
     "metadata": {},
     "output_type": "display_data"
    }
   ],
   "source": [
    "# Check your answer (Run this code cell to receive credit!)\n",
    "q3.a.solution()"
   ]
  },
  {
   "cell_type": "markdown",
   "id": "34cf93d0",
   "metadata": {
    "papermill": {
     "duration": 0.007787,
     "end_time": "2023-01-05T06:37:01.215370",
     "exception": false,
     "start_time": "2023-01-05T06:37:01.207583",
     "status": "completed"
    },
    "tags": []
   },
   "source": [
    "# 3b.  <span title=\"A bit spicy\" style=\"color: darkgreen \">🌶️</span>\n",
    "\n",
    "<small>Questions, like this one, marked a spicy pepper are a bit harder.</small>\n",
    "\n",
    "Add parentheses to the following expression so that it evaluates to 0."
   ]
  },
  {
   "cell_type": "code",
   "execution_count": 14,
   "id": "3828e673",
   "metadata": {
    "execution": {
     "iopub.execute_input": "2023-01-05T06:37:01.231287Z",
     "iopub.status.busy": "2023-01-05T06:37:01.230906Z",
     "iopub.status.idle": "2023-01-05T06:37:01.237981Z",
     "shell.execute_reply": "2023-01-05T06:37:01.236710Z"
    },
    "papermill": {
     "duration": 0.017195,
     "end_time": "2023-01-05T06:37:01.239781",
     "exception": false,
     "start_time": "2023-01-05T06:37:01.222586",
     "status": "completed"
    },
    "tags": []
   },
   "outputs": [
    {
     "data": {
      "text/plain": [
       "0"
      ]
     },
     "execution_count": 14,
     "metadata": {},
     "output_type": "execute_result"
    }
   ],
   "source": [
    "(8 - 3) * (2 - (1 + 1))"
   ]
  },
  {
   "cell_type": "code",
   "execution_count": 15,
   "id": "e3de5018",
   "metadata": {
    "execution": {
     "iopub.execute_input": "2023-01-05T06:37:01.256687Z",
     "iopub.status.busy": "2023-01-05T06:37:01.256147Z",
     "iopub.status.idle": "2023-01-05T06:37:01.260866Z",
     "shell.execute_reply": "2023-01-05T06:37:01.259511Z"
    },
    "papermill": {
     "duration": 0.015646,
     "end_time": "2023-01-05T06:37:01.262727",
     "exception": false,
     "start_time": "2023-01-05T06:37:01.247081",
     "status": "completed"
    },
    "tags": []
   },
   "outputs": [],
   "source": [
    "#q3.b.hint()"
   ]
  },
  {
   "cell_type": "code",
   "execution_count": 16,
   "id": "e6baff30",
   "metadata": {
    "execution": {
     "iopub.execute_input": "2023-01-05T06:37:01.282358Z",
     "iopub.status.busy": "2023-01-05T06:37:01.281946Z",
     "iopub.status.idle": "2023-01-05T06:37:01.289828Z",
     "shell.execute_reply": "2023-01-05T06:37:01.288556Z"
    },
    "papermill": {
     "duration": 0.020074,
     "end_time": "2023-01-05T06:37:01.292292",
     "exception": false,
     "start_time": "2023-01-05T06:37:01.272218",
     "status": "completed"
    },
    "tags": []
   },
   "outputs": [
    {
     "data": {
      "application/javascript": [
       "parent.postMessage({\"jupyterEvent\": \"custom.exercise_interaction\", \"data\": {\"interactionType\": 3, \"questionType\": 4, \"questionId\": \"3.2_ArithmeticParensHard\", \"learnToolsVersion\": \"0.3.4\", \"valueTowardsCompletion\": 0.0, \"failureMessage\": \"\", \"exceptionClass\": \"\", \"trace\": \"\", \"outcomeType\": 4}}, \"*\")"
      ],
      "text/plain": [
       "<IPython.core.display.Javascript object>"
      ]
     },
     "metadata": {},
     "output_type": "display_data"
    },
    {
     "data": {
      "text/markdown": [
       "<span style=\"color:#33cc99\">Solution:</span> `(8 - 3) * (2 - (1 + 1))` is one solution. There may be others."
      ],
      "text/plain": [
       "Solution: `(8 - 3) * (2 - (1 + 1))` is one solution. There may be others."
      ]
     },
     "metadata": {},
     "output_type": "display_data"
    }
   ],
   "source": [
    "# Check your answer (Run this code cell to receive credit!)\n",
    "q3.b.solution()"
   ]
  },
  {
   "cell_type": "markdown",
   "id": "4ccf6eed",
   "metadata": {
    "papermill": {
     "duration": 0.008905,
     "end_time": "2023-01-05T06:37:01.309132",
     "exception": false,
     "start_time": "2023-01-05T06:37:01.300227",
     "status": "completed"
    },
    "tags": []
   },
   "source": [
    "<hr/>\n",
    "\n",
    "# 4. \n",
    "Alice, Bob and Carol have agreed to pool their Halloween candy and split it evenly among themselves.\n",
    "For the sake of their friendship, any candies left over will be smashed. For example, if they collectively\n",
    "bring home 91 candies, they'll take 30 each and smash 1.\n",
    "\n",
    "Write an arithmetic expression below to calculate how many candies they must smash for a given haul."
   ]
  },
  {
   "cell_type": "code",
   "execution_count": 17,
   "id": "642cb05c",
   "metadata": {
    "execution": {
     "iopub.execute_input": "2023-01-05T06:37:01.327298Z",
     "iopub.status.busy": "2023-01-05T06:37:01.326929Z",
     "iopub.status.idle": "2023-01-05T06:37:01.334994Z",
     "shell.execute_reply": "2023-01-05T06:37:01.333998Z"
    },
    "papermill": {
     "duration": 0.019834,
     "end_time": "2023-01-05T06:37:01.337352",
     "exception": false,
     "start_time": "2023-01-05T06:37:01.317518",
     "status": "completed"
    },
    "tags": []
   },
   "outputs": [
    {
     "name": "stdout",
     "output_type": "stream",
     "text": [
      "1\n"
     ]
    },
    {
     "data": {
      "application/javascript": [
       "parent.postMessage({\"jupyterEvent\": \"custom.exercise_interaction\", \"data\": {\"outcomeType\": 1, \"valueTowardsCompletion\": 0.25, \"interactionType\": 1, \"questionType\": 1, \"questionId\": \"4_CandySplitting\", \"learnToolsVersion\": \"0.3.4\", \"failureMessage\": \"\", \"exceptionClass\": \"\", \"trace\": \"\"}}, \"*\")"
      ],
      "text/plain": [
       "<IPython.core.display.Javascript object>"
      ]
     },
     "metadata": {},
     "output_type": "display_data"
    },
    {
     "data": {
      "text/markdown": [
       "<span style=\"color:#33cc33\">Correct</span>"
      ],
      "text/plain": [
       "Correct"
      ]
     },
     "metadata": {},
     "output_type": "display_data"
    }
   ],
   "source": [
    "# Variables representing the number of candies collected by alice, bob, and carol\n",
    "alice_candies = 121\n",
    "bob_candies = 77\n",
    "carol_candies = 109\n",
    "\n",
    "# Your code goes here! Replace the right-hand side of this assignment with an expression\n",
    "# involving alice_candies, bob_candies, and carol_candies\n",
    "\n",
    "to_smash = (alice_candies + bob_candies + carol_candies)%3\n",
    "print(to_smash)\n",
    "# Check your answer\n",
    "q4.check()"
   ]
  },
  {
   "cell_type": "code",
   "execution_count": 18,
   "id": "c6acf2e7",
   "metadata": {
    "execution": {
     "iopub.execute_input": "2023-01-05T06:37:01.356828Z",
     "iopub.status.busy": "2023-01-05T06:37:01.356482Z",
     "iopub.status.idle": "2023-01-05T06:37:01.361209Z",
     "shell.execute_reply": "2023-01-05T06:37:01.360010Z"
    },
    "papermill": {
     "duration": 0.017706,
     "end_time": "2023-01-05T06:37:01.363818",
     "exception": false,
     "start_time": "2023-01-05T06:37:01.346112",
     "status": "completed"
    },
    "tags": []
   },
   "outputs": [],
   "source": [
    "#q4.hint()\n",
    "#q4.solution()"
   ]
  },
  {
   "cell_type": "markdown",
   "id": "b498e9a9",
   "metadata": {
    "papermill": {
     "duration": 0.008275,
     "end_time": "2023-01-05T06:37:01.380411",
     "exception": false,
     "start_time": "2023-01-05T06:37:01.372136",
     "status": "completed"
    },
    "tags": []
   },
   "source": [
    "# Keep Going\n",
    "\n",
    "Next up, you'll **[learn to write new functions and understand functions others write](https://www.kaggle.com/colinmorris/functions-and-getting-help)**. This will make you at least 10 times more productive as a Python programmer. "
   ]
  },
  {
   "cell_type": "markdown",
   "id": "7f5e5427",
   "metadata": {
    "papermill": {
     "duration": 0.008573,
     "end_time": "2023-01-05T06:37:01.397797",
     "exception": false,
     "start_time": "2023-01-05T06:37:01.389224",
     "status": "completed"
    },
    "tags": []
   },
   "source": [
    "---\n",
    "\n",
    "\n",
    "\n",
    "\n",
    "*Have questions or comments? Visit the [course discussion forum](https://www.kaggle.com/learn/python/discussion) to chat with other learners.*"
   ]
  }
 ],
 "metadata": {
  "kernelspec": {
   "display_name": "Python 3",
   "language": "python",
   "name": "python3"
  },
  "language_info": {
   "codemirror_mode": {
    "name": "ipython",
    "version": 3
   },
   "file_extension": ".py",
   "mimetype": "text/x-python",
   "name": "python",
   "nbconvert_exporter": "python",
   "pygments_lexer": "ipython3",
   "version": "3.7.12"
  },
  "papermill": {
   "default_parameters": {},
   "duration": 9.531714,
   "end_time": "2023-01-05T06:37:02.129876",
   "environment_variables": {},
   "exception": null,
   "input_path": "__notebook__.ipynb",
   "output_path": "__notebook__.ipynb",
   "parameters": {},
   "start_time": "2023-01-05T06:36:52.598162",
   "version": "2.3.4"
  }
 },
 "nbformat": 4,
 "nbformat_minor": 5
}
