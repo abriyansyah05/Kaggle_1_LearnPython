{
 "cells": [
  {
   "cell_type": "markdown",
   "id": "ee0cbcfc",
   "metadata": {
    "papermill": {
     "duration": 0.005952,
     "end_time": "2023-01-05T07:20:04.317588",
     "exception": false,
     "start_time": "2023-01-05T07:20:04.311636",
     "status": "completed"
    },
    "tags": []
   },
   "source": [
    "**This notebook is an exercise in the [Python](https://www.kaggle.com/learn/python) course.  You can reference the tutorial at [this link](https://www.kaggle.com/colinmorris/functions-and-getting-help).**\n",
    "\n",
    "---\n"
   ]
  },
  {
   "cell_type": "markdown",
   "id": "426bb821",
   "metadata": {
    "papermill": {
     "duration": 0.00449,
     "end_time": "2023-01-05T07:20:04.327137",
     "exception": false,
     "start_time": "2023-01-05T07:20:04.322647",
     "status": "completed"
    },
    "tags": []
   },
   "source": [
    "Functions are powerful. Try writing some yourself.\n",
    "\n",
    "As before, don't forget to run the setup code below before jumping into question 1."
   ]
  },
  {
   "cell_type": "code",
   "execution_count": 1,
   "id": "0c5dffac",
   "metadata": {
    "_kg_hide-input": true,
    "_kg_hide-output": true,
    "execution": {
     "iopub.execute_input": "2023-01-05T07:20:04.339682Z",
     "iopub.status.busy": "2023-01-05T07:20:04.338341Z",
     "iopub.status.idle": "2023-01-05T07:20:04.397491Z",
     "shell.execute_reply": "2023-01-05T07:20:04.395879Z"
    },
    "papermill": {
     "duration": 0.068521,
     "end_time": "2023-01-05T07:20:04.400502",
     "exception": false,
     "start_time": "2023-01-05T07:20:04.331981",
     "status": "completed"
    },
    "tags": []
   },
   "outputs": [
    {
     "name": "stdout",
     "output_type": "stream",
     "text": [
      "Setup complete.\n"
     ]
    }
   ],
   "source": [
    "# SETUP. You don't need to worry for now about what this code does or how it works.\n",
    "from learntools.core import binder; binder.bind(globals())\n",
    "from learntools.python.ex2 import *\n",
    "print('Setup complete.')"
   ]
  },
  {
   "cell_type": "markdown",
   "id": "75fac67f",
   "metadata": {
    "papermill": {
     "duration": 0.004638,
     "end_time": "2023-01-05T07:20:04.410126",
     "exception": false,
     "start_time": "2023-01-05T07:20:04.405488",
     "status": "completed"
    },
    "tags": []
   },
   "source": [
    "# 1.\n",
    "\n",
    "Complete the body of the following function according to its docstring.\n",
    "\n",
    "HINT: Python has a built-in function `round`."
   ]
  },
  {
   "cell_type": "code",
   "execution_count": 2,
   "id": "cd1751ef",
   "metadata": {
    "execution": {
     "iopub.execute_input": "2023-01-05T07:20:04.421632Z",
     "iopub.status.busy": "2023-01-05T07:20:04.421206Z",
     "iopub.status.idle": "2023-01-05T07:20:04.436181Z",
     "shell.execute_reply": "2023-01-05T07:20:04.434938Z"
    },
    "papermill": {
     "duration": 0.023516,
     "end_time": "2023-01-05T07:20:04.438499",
     "exception": false,
     "start_time": "2023-01-05T07:20:04.414983",
     "status": "completed"
    },
    "tags": []
   },
   "outputs": [
    {
     "name": "stdout",
     "output_type": "stream",
     "text": [
      "3.14\n"
     ]
    },
    {
     "data": {
      "application/javascript": [
       "parent.postMessage({\"jupyterEvent\": \"custom.exercise_interaction\", \"data\": {\"outcomeType\": 1, \"valueTowardsCompletion\": 0.16666666666666666, \"interactionType\": 1, \"questionType\": 2, \"questionId\": \"1_RoundFunctionProblem\", \"learnToolsVersion\": \"0.3.4\", \"failureMessage\": \"\", \"exceptionClass\": \"\", \"trace\": \"\"}}, \"*\")"
      ],
      "text/plain": [
       "<IPython.core.display.Javascript object>"
      ]
     },
     "metadata": {},
     "output_type": "display_data"
    },
    {
     "data": {
      "text/markdown": [
       "<span style=\"color:#33cc33\">Correct</span>"
      ],
      "text/plain": [
       "Correct"
      ]
     },
     "metadata": {},
     "output_type": "display_data"
    }
   ],
   "source": [
    "def round_to_two_places(num):\n",
    "    \"\"\"Return the given number rounded to two decimal places. \n",
    "    \n",
    "    >>> round_to_two_places(3.14159)\n",
    "    3.14\n",
    "    \"\"\"\n",
    "    # Replace this body with your own code.\n",
    "    # (\"pass\" is a keyword that does literally nothing. We used it as a placeholder\n",
    "    # because after we begin a code block, Python requires at least one line of code)\n",
    "    return round(num, ndigits = 2)\n",
    "\n",
    "round_to_two_places(3.14159)\n",
    "print(round_to_two_places(3.14159))\n",
    "# Check your answer\n",
    "q1.check()"
   ]
  },
  {
   "cell_type": "code",
   "execution_count": 3,
   "id": "7df458fc",
   "metadata": {
    "execution": {
     "iopub.execute_input": "2023-01-05T07:20:04.451618Z",
     "iopub.status.busy": "2023-01-05T07:20:04.450255Z",
     "iopub.status.idle": "2023-01-05T07:20:04.455727Z",
     "shell.execute_reply": "2023-01-05T07:20:04.454633Z"
    },
    "papermill": {
     "duration": 0.014462,
     "end_time": "2023-01-05T07:20:04.458171",
     "exception": false,
     "start_time": "2023-01-05T07:20:04.443709",
     "status": "completed"
    },
    "tags": []
   },
   "outputs": [],
   "source": [
    "# Uncomment the following for a hint\n",
    "#q1.hint()\n",
    "# Or uncomment the following to peek at the solution\n",
    "#q1.solution()"
   ]
  },
  {
   "cell_type": "markdown",
   "id": "59f1f080",
   "metadata": {
    "papermill": {
     "duration": 0.005033,
     "end_time": "2023-01-05T07:20:04.468560",
     "exception": false,
     "start_time": "2023-01-05T07:20:04.463527",
     "status": "completed"
    },
    "tags": []
   },
   "source": [
    "# 2.\n",
    "The help for `round` says that `ndigits` (the second argument) may be negative.\n",
    "What do you think will happen when it is? Try some examples in the following cell."
   ]
  },
  {
   "cell_type": "code",
   "execution_count": 4,
   "id": "a9e0e159",
   "metadata": {
    "execution": {
     "iopub.execute_input": "2023-01-05T07:20:04.480977Z",
     "iopub.status.busy": "2023-01-05T07:20:04.480541Z",
     "iopub.status.idle": "2023-01-05T07:20:04.487092Z",
     "shell.execute_reply": "2023-01-05T07:20:04.485968Z"
    },
    "papermill": {
     "duration": 0.015645,
     "end_time": "2023-01-05T07:20:04.489447",
     "exception": false,
     "start_time": "2023-01-05T07:20:04.473802",
     "status": "completed"
    },
    "tags": []
   },
   "outputs": [
    {
     "data": {
      "text/plain": [
       "10.0"
      ]
     },
     "execution_count": 4,
     "metadata": {},
     "output_type": "execute_result"
    }
   ],
   "source": [
    "# Put your test code here\n",
    "round(13.14159,ndigits = -1)"
   ]
  },
  {
   "cell_type": "markdown",
   "id": "1be1ff0c",
   "metadata": {
    "papermill": {
     "duration": 0.005025,
     "end_time": "2023-01-05T07:20:04.499782",
     "exception": false,
     "start_time": "2023-01-05T07:20:04.494757",
     "status": "completed"
    },
    "tags": []
   },
   "source": [
    "Can you think of a case where this would be useful?  Once you're ready, run the code cell below to see the answer and to receive credit for completing the problem."
   ]
  },
  {
   "cell_type": "code",
   "execution_count": 5,
   "id": "1c18b6ee",
   "metadata": {
    "execution": {
     "iopub.execute_input": "2023-01-05T07:20:04.512180Z",
     "iopub.status.busy": "2023-01-05T07:20:04.511742Z",
     "iopub.status.idle": "2023-01-05T07:20:04.519611Z",
     "shell.execute_reply": "2023-01-05T07:20:04.518781Z"
    },
    "papermill": {
     "duration": 0.016801,
     "end_time": "2023-01-05T07:20:04.521836",
     "exception": false,
     "start_time": "2023-01-05T07:20:04.505035",
     "status": "completed"
    },
    "tags": []
   },
   "outputs": [
    {
     "data": {
      "application/javascript": [
       "parent.postMessage({\"jupyterEvent\": \"custom.exercise_interaction\", \"data\": {\"interactionType\": 3, \"questionType\": 4, \"questionId\": \"2_RoundNdigitsProblem\", \"learnToolsVersion\": \"0.3.4\", \"valueTowardsCompletion\": 0.0, \"failureMessage\": \"\", \"exceptionClass\": \"\", \"trace\": \"\", \"outcomeType\": 4}}, \"*\")"
      ],
      "text/plain": [
       "<IPython.core.display.Javascript object>"
      ]
     },
     "metadata": {},
     "output_type": "display_data"
    },
    {
     "data": {
      "text/markdown": [
       "<span style=\"color:#33cc99\">Solution:</span> As you've seen, `ndigits=-1` rounds to the nearest 10, `ndigits=-2` rounds to the nearest 100 and so on. Where might this be useful? Suppose we're dealing with large numbers:\n",
       "\n",
       "> The area of Finland is 338,424 km²  \n",
       "> The area of Greenland is 2,166,086 km²\n",
       "\n",
       "We probably don't care whether it's really 338,424, or 338,425, or 338,177. All those digits of accuracy are just distracting. We can chop them off by calling `round()` with `ndigits=-3`:\n",
       "\n",
       "> The area of Finland is 338,000 km²  \n",
       "> The area of Greenland is 2,166,000 km²\n",
       "\n",
       "(We'll talk about how we would get the commas later when we talk about string formatting :))\n"
      ],
      "text/plain": [
       "Solution: As you've seen, `ndigits=-1` rounds to the nearest 10, `ndigits=-2` rounds to the nearest 100 and so on. Where might this be useful? Suppose we're dealing with large numbers:\n",
       "\n",
       "> The area of Finland is 338,424 km²  \n",
       "> The area of Greenland is 2,166,086 km²\n",
       "\n",
       "We probably don't care whether it's really 338,424, or 338,425, or 338,177. All those digits of accuracy are just distracting. We can chop them off by calling `round()` with `ndigits=-3`:\n",
       "\n",
       "> The area of Finland is 338,000 km²  \n",
       "> The area of Greenland is 2,166,000 km²\n",
       "\n",
       "(We'll talk about how we would get the commas later when we talk about string formatting :))"
      ]
     },
     "metadata": {},
     "output_type": "display_data"
    }
   ],
   "source": [
    "# Check your answer (Run this code cell to receive credit!)\n",
    "q2.solution()"
   ]
  },
  {
   "cell_type": "markdown",
   "id": "bfe053f0",
   "metadata": {
    "papermill": {
     "duration": 0.005289,
     "end_time": "2023-01-05T07:20:04.534364",
     "exception": false,
     "start_time": "2023-01-05T07:20:04.529075",
     "status": "completed"
    },
    "tags": []
   },
   "source": [
    "# 3.\n",
    "\n",
    "In the previous exercise, the candy-sharing friends Alice, Bob and Carol tried to split candies evenly. For the sake of their friendship, any candies left over would be smashed. For example, if they collectively bring home 91 candies, they'll take 30 each and smash 1.\n",
    "\n",
    "Below is a simple function that will calculate the number of candies to smash for *any* number of total candies.\n",
    "\n",
    "Modify it so that it optionally takes a second argument representing the number of friends the candies are being split between. If no second argument is provided, it should assume 3 friends, as before.\n",
    "\n",
    "Update the docstring to reflect this new behaviour."
   ]
  },
  {
   "cell_type": "code",
   "execution_count": 6,
   "id": "17cb15e0",
   "metadata": {
    "execution": {
     "iopub.execute_input": "2023-01-05T07:20:04.547198Z",
     "iopub.status.busy": "2023-01-05T07:20:04.546776Z",
     "iopub.status.idle": "2023-01-05T07:20:04.557357Z",
     "shell.execute_reply": "2023-01-05T07:20:04.556261Z"
    },
    "papermill": {
     "duration": 0.01986,
     "end_time": "2023-01-05T07:20:04.559687",
     "exception": false,
     "start_time": "2023-01-05T07:20:04.539827",
     "status": "completed"
    },
    "tags": []
   },
   "outputs": [
    {
     "data": {
      "application/javascript": [
       "parent.postMessage({\"jupyterEvent\": \"custom.exercise_interaction\", \"data\": {\"outcomeType\": 1, \"valueTowardsCompletion\": 0.16666666666666666, \"interactionType\": 1, \"questionType\": 2, \"questionId\": \"3_CandySmashingFunctionProblem\", \"learnToolsVersion\": \"0.3.4\", \"failureMessage\": \"\", \"exceptionClass\": \"\", \"trace\": \"\"}}, \"*\")"
      ],
      "text/plain": [
       "<IPython.core.display.Javascript object>"
      ]
     },
     "metadata": {},
     "output_type": "display_data"
    },
    {
     "data": {
      "text/markdown": [
       "<span style=\"color:#33cc33\">Correct</span>"
      ],
      "text/plain": [
       "Correct"
      ]
     },
     "metadata": {},
     "output_type": "display_data"
    }
   ],
   "source": [
    "def to_smash(total_candies,friends = 3):\n",
    "    \"\"\"Return the number of leftover candies that must be smashed after distributing\n",
    "    the given number of candies evenly between 3 friends.\n",
    "    \n",
    "    >>> to_smash(91)\n",
    "    1\n",
    "    \"\"\"\n",
    "    smash_out = total_candies % friends\n",
    "    return smash_out\n",
    "to_smash(91,6)\n",
    "\n",
    "# Check your answer\n",
    "q3.check()"
   ]
  },
  {
   "cell_type": "code",
   "execution_count": 7,
   "id": "b4f69c9c",
   "metadata": {
    "execution": {
     "iopub.execute_input": "2023-01-05T07:20:04.573469Z",
     "iopub.status.busy": "2023-01-05T07:20:04.573095Z",
     "iopub.status.idle": "2023-01-05T07:20:04.577569Z",
     "shell.execute_reply": "2023-01-05T07:20:04.576385Z"
    },
    "papermill": {
     "duration": 0.014396,
     "end_time": "2023-01-05T07:20:04.580124",
     "exception": false,
     "start_time": "2023-01-05T07:20:04.565728",
     "status": "completed"
    },
    "tags": []
   },
   "outputs": [],
   "source": [
    "#q3.hint()"
   ]
  },
  {
   "cell_type": "code",
   "execution_count": 8,
   "id": "5414586f",
   "metadata": {
    "execution": {
     "iopub.execute_input": "2023-01-05T07:20:04.593819Z",
     "iopub.status.busy": "2023-01-05T07:20:04.593432Z",
     "iopub.status.idle": "2023-01-05T07:20:04.597720Z",
     "shell.execute_reply": "2023-01-05T07:20:04.596645Z"
    },
    "papermill": {
     "duration": 0.013818,
     "end_time": "2023-01-05T07:20:04.599857",
     "exception": false,
     "start_time": "2023-01-05T07:20:04.586039",
     "status": "completed"
    },
    "tags": []
   },
   "outputs": [],
   "source": [
    "#q3.solution()"
   ]
  },
  {
   "cell_type": "markdown",
   "id": "bc88235a",
   "metadata": {
    "papermill": {
     "duration": 0.005575,
     "end_time": "2023-01-05T07:20:04.611616",
     "exception": false,
     "start_time": "2023-01-05T07:20:04.606041",
     "status": "completed"
    },
    "tags": []
   },
   "source": [
    "# 4. (Optional)\n",
    "\n",
    "It may not be fun, but reading and understanding error messages will be an important part of your Python career.\n",
    "\n",
    "Each code cell below contains some commented buggy code. For each cell...\n",
    "\n",
    "1. Read the code and predict what you think will happen when it's run.\n",
    "2. Then uncomment the code and run it to see what happens. (**Tip**: In the kernel editor, you can highlight several lines and press `ctrl`+`/` to toggle commenting.)\n",
    "3. Fix the code (so that it accomplishes its intended purpose without throwing an exception)\n",
    "\n",
    "<!-- TODO: should this be autochecked? Delta is probably pretty small. -->"
   ]
  },
  {
   "cell_type": "code",
   "execution_count": 9,
   "id": "94b8310f",
   "metadata": {
    "execution": {
     "iopub.execute_input": "2023-01-05T07:20:04.626255Z",
     "iopub.status.busy": "2023-01-05T07:20:04.625830Z",
     "iopub.status.idle": "2023-01-05T07:20:04.633248Z",
     "shell.execute_reply": "2023-01-05T07:20:04.632117Z"
    },
    "papermill": {
     "duration": 0.017809,
     "end_time": "2023-01-05T07:20:04.635472",
     "exception": false,
     "start_time": "2023-01-05T07:20:04.617663",
     "status": "completed"
    },
    "tags": []
   },
   "outputs": [
    {
     "data": {
      "text/plain": [
       "10.0"
      ]
     },
     "execution_count": 9,
     "metadata": {},
     "output_type": "execute_result"
    }
   ],
   "source": [
    "def ruound_to_two_places(value):\n",
    "    return round (value, ndigits = 2)\n",
    "\n",
    "ruound_to_two_places(9.9999)\n"
   ]
  },
  {
   "cell_type": "code",
   "execution_count": 10,
   "id": "b1af26d8",
   "metadata": {
    "execution": {
     "iopub.execute_input": "2023-01-05T07:20:04.649495Z",
     "iopub.status.busy": "2023-01-05T07:20:04.649030Z",
     "iopub.status.idle": "2023-01-05T07:20:04.656080Z",
     "shell.execute_reply": "2023-01-05T07:20:04.654755Z"
    },
    "papermill": {
     "duration": 0.016817,
     "end_time": "2023-01-05T07:20:04.658306",
     "exception": false,
     "start_time": "2023-01-05T07:20:04.641489",
     "status": "completed"
    },
    "tags": []
   },
   "outputs": [
    {
     "name": "stdout",
     "output_type": "stream",
     "text": [
      "5\n"
     ]
    }
   ],
   "source": [
    "x = -10\n",
    "y = 5\n",
    "# # Which of the two variables above has the smallest absolute value?\n",
    "smallest_abs = min(abs(x),abs(y))\n",
    "print (smallest_abs)"
   ]
  },
  {
   "cell_type": "code",
   "execution_count": 11,
   "id": "24aef35c",
   "metadata": {
    "execution": {
     "iopub.execute_input": "2023-01-05T07:20:04.673030Z",
     "iopub.status.busy": "2023-01-05T07:20:04.672558Z",
     "iopub.status.idle": "2023-01-05T07:20:04.679627Z",
     "shell.execute_reply": "2023-01-05T07:20:04.678083Z"
    },
    "papermill": {
     "duration": 0.018245,
     "end_time": "2023-01-05T07:20:04.682629",
     "exception": false,
     "start_time": "2023-01-05T07:20:04.664384",
     "status": "completed"
    },
    "tags": []
   },
   "outputs": [
    {
     "name": "stdout",
     "output_type": "stream",
     "text": [
      "5\n"
     ]
    }
   ],
   "source": [
    "def f(x):\n",
    "    y = abs(x)\n",
    "    return y\n",
    "\n",
    "print(f(-5))"
   ]
  },
  {
   "cell_type": "markdown",
   "id": "5b0c2038",
   "metadata": {
    "papermill": {
     "duration": 0.005929,
     "end_time": "2023-01-05T07:20:04.695669",
     "exception": false,
     "start_time": "2023-01-05T07:20:04.689740",
     "status": "completed"
    },
    "tags": []
   },
   "source": [
    "# Keep Going\n",
    "\n",
    "Nice job with the code. Next up, you'll learn about *conditionals*, which you'll need to **[write interesting programs](https://www.kaggle.com/colinmorris/booleans-and-conditionals)**. "
   ]
  },
  {
   "cell_type": "markdown",
   "id": "d9fa50f2",
   "metadata": {
    "papermill": {
     "duration": 0.00592,
     "end_time": "2023-01-05T07:20:04.707924",
     "exception": false,
     "start_time": "2023-01-05T07:20:04.702004",
     "status": "completed"
    },
    "tags": []
   },
   "source": [
    "---\n",
    "\n",
    "\n",
    "\n",
    "\n",
    "*Have questions or comments? Visit the [course discussion forum](https://www.kaggle.com/learn/python/discussion) to chat with other learners.*"
   ]
  }
 ],
 "metadata": {
  "kernelspec": {
   "display_name": "Python 3",
   "language": "python",
   "name": "python3"
  },
  "language_info": {
   "codemirror_mode": {
    "name": "ipython",
    "version": 3
   },
   "file_extension": ".py",
   "mimetype": "text/x-python",
   "name": "python",
   "nbconvert_exporter": "python",
   "pygments_lexer": "ipython3",
   "version": "3.7.12"
  },
  "papermill": {
   "default_parameters": {},
   "duration": 12.083555,
   "end_time": "2023-01-05T07:20:05.437308",
   "environment_variables": {},
   "exception": null,
   "input_path": "__notebook__.ipynb",
   "output_path": "__notebook__.ipynb",
   "parameters": {},
   "start_time": "2023-01-05T07:19:53.353753",
   "version": "2.3.4"
  }
 },
 "nbformat": 4,
 "nbformat_minor": 5
}
