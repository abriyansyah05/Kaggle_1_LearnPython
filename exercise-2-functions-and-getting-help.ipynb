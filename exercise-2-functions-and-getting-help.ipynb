{
 "cells": [
  {
   "cell_type": "markdown",
   "id": "f0e16d83",
   "metadata": {
    "papermill": {
     "duration": 0.008532,
     "end_time": "2022-05-29T14:35:29.994589",
     "exception": false,
     "start_time": "2022-05-29T14:35:29.986057",
     "status": "completed"
    },
    "tags": []
   },
   "source": [
    "**This notebook is an exercise in the [Python](https://www.kaggle.com/learn/python) course.  You can reference the tutorial at [this link](https://www.kaggle.com/colinmorris/functions-and-getting-help).**\n",
    "\n",
    "---\n"
   ]
  },
  {
   "cell_type": "markdown",
   "id": "f343eb43",
   "metadata": {
    "papermill": {
     "duration": 0.004905,
     "end_time": "2022-05-29T14:35:30.004902",
     "exception": false,
     "start_time": "2022-05-29T14:35:29.999997",
     "status": "completed"
    },
    "tags": []
   },
   "source": [
    "Functions are powerful. Try writing some yourself.\n",
    "\n",
    "As before, don't forget to run the setup code below before jumping into question 1."
   ]
  },
  {
   "cell_type": "code",
   "execution_count": 1,
   "id": "3b610e82",
   "metadata": {
    "_kg_hide-input": true,
    "_kg_hide-output": true,
    "execution": {
     "iopub.execute_input": "2022-05-29T14:35:30.018435Z",
     "iopub.status.busy": "2022-05-29T14:35:30.017503Z",
     "iopub.status.idle": "2022-05-29T14:35:30.065799Z",
     "shell.execute_reply": "2022-05-29T14:35:30.064536Z"
    },
    "papermill": {
     "duration": 0.058256,
     "end_time": "2022-05-29T14:35:30.068326",
     "exception": false,
     "start_time": "2022-05-29T14:35:30.010070",
     "status": "completed"
    },
    "tags": []
   },
   "outputs": [
    {
     "name": "stdout",
     "output_type": "stream",
     "text": [
      "Setup complete.\n"
     ]
    }
   ],
   "source": [
    "# SETUP. You don't need to worry for now about what this code does or how it works.\n",
    "from learntools.core import binder; binder.bind(globals())\n",
    "from learntools.python.ex2 import *\n",
    "print('Setup complete.')"
   ]
  },
  {
   "cell_type": "markdown",
   "id": "32dea6a7",
   "metadata": {
    "papermill": {
     "duration": 0.005084,
     "end_time": "2022-05-29T14:35:30.078871",
     "exception": false,
     "start_time": "2022-05-29T14:35:30.073787",
     "status": "completed"
    },
    "tags": []
   },
   "source": [
    "# 1.\n",
    "\n",
    "Complete the body of the following function according to its docstring.\n",
    "\n",
    "HINT: Python has a built-in function `round`."
   ]
  },
  {
   "cell_type": "code",
   "execution_count": 2,
   "id": "7ff2329c",
   "metadata": {
    "execution": {
     "iopub.execute_input": "2022-05-29T14:35:30.091655Z",
     "iopub.status.busy": "2022-05-29T14:35:30.090742Z",
     "iopub.status.idle": "2022-05-29T14:35:30.101732Z",
     "shell.execute_reply": "2022-05-29T14:35:30.101098Z"
    },
    "papermill": {
     "duration": 0.019442,
     "end_time": "2022-05-29T14:35:30.103707",
     "exception": false,
     "start_time": "2022-05-29T14:35:30.084265",
     "status": "completed"
    },
    "tags": []
   },
   "outputs": [
    {
     "name": "stdout",
     "output_type": "stream",
     "text": [
      "3.14\n"
     ]
    },
    {
     "data": {
      "application/javascript": [
       "parent.postMessage({\"jupyterEvent\": \"custom.exercise_interaction\", \"data\": {\"outcomeType\": 1, \"valueTowardsCompletion\": 0.16666666666666666, \"interactionType\": 1, \"questionType\": 2, \"questionId\": \"1_RoundFunctionProblem\", \"learnToolsVersion\": \"0.3.4\", \"failureMessage\": \"\", \"exceptionClass\": \"\", \"trace\": \"\"}}, \"*\")"
      ],
      "text/plain": [
       "<IPython.core.display.Javascript object>"
      ]
     },
     "metadata": {},
     "output_type": "display_data"
    },
    {
     "data": {
      "text/markdown": [
       "<span style=\"color:#33cc33\">Correct</span>"
      ],
      "text/plain": [
       "Correct"
      ]
     },
     "metadata": {},
     "output_type": "display_data"
    }
   ],
   "source": [
    "def round_to_two_places(num):\n",
    "    \"\"\"Return the given number rounded to two decimal places. \n",
    "    \n",
    "    >>> round_to_two_places(3.14159)\n",
    "    3.14\n",
    "    \"\"\"\n",
    "    # Replace this body with your own code.\n",
    "    # (\"pass\" is a keyword that does literally nothing. We used it as a placeholder\n",
    "    # because after we begin a code block, Python requires at least one line of code)\n",
    "    return round(num, ndigits = 2)\n",
    "\n",
    "round_to_two_places(3.14159)\n",
    "print(round_to_two_places(3.14159))\n",
    "# Check your answer\n",
    "q1.check()"
   ]
  },
  {
   "cell_type": "code",
   "execution_count": 3,
   "id": "95da84fb",
   "metadata": {
    "execution": {
     "iopub.execute_input": "2022-05-29T14:35:30.117112Z",
     "iopub.status.busy": "2022-05-29T14:35:30.116537Z",
     "iopub.status.idle": "2022-05-29T14:35:30.120948Z",
     "shell.execute_reply": "2022-05-29T14:35:30.120016Z"
    },
    "papermill": {
     "duration": 0.013462,
     "end_time": "2022-05-29T14:35:30.122920",
     "exception": false,
     "start_time": "2022-05-29T14:35:30.109458",
     "status": "completed"
    },
    "tags": []
   },
   "outputs": [],
   "source": [
    "# Uncomment the following for a hint\n",
    "#q1.hint()\n",
    "# Or uncomment the following to peek at the solution\n",
    "#q1.solution()"
   ]
  },
  {
   "cell_type": "markdown",
   "id": "b3372edc",
   "metadata": {
    "papermill": {
     "duration": 0.005489,
     "end_time": "2022-05-29T14:35:30.134386",
     "exception": false,
     "start_time": "2022-05-29T14:35:30.128897",
     "status": "completed"
    },
    "tags": []
   },
   "source": [
    "# 2.\n",
    "The help for `round` says that `ndigits` (the second argument) may be negative.\n",
    "What do you think will happen when it is? Try some examples in the following cell."
   ]
  },
  {
   "cell_type": "code",
   "execution_count": 4,
   "id": "8c72b91f",
   "metadata": {
    "execution": {
     "iopub.execute_input": "2022-05-29T14:35:30.148020Z",
     "iopub.status.busy": "2022-05-29T14:35:30.147224Z",
     "iopub.status.idle": "2022-05-29T14:35:30.152596Z",
     "shell.execute_reply": "2022-05-29T14:35:30.151886Z"
    },
    "papermill": {
     "duration": 0.014382,
     "end_time": "2022-05-29T14:35:30.154617",
     "exception": false,
     "start_time": "2022-05-29T14:35:30.140235",
     "status": "completed"
    },
    "tags": []
   },
   "outputs": [
    {
     "data": {
      "text/plain": [
       "10.0"
      ]
     },
     "execution_count": 4,
     "metadata": {},
     "output_type": "execute_result"
    }
   ],
   "source": [
    "# Put your test code here\n",
    "round(13.14159,ndigits = -1)"
   ]
  },
  {
   "cell_type": "markdown",
   "id": "68a62824",
   "metadata": {
    "papermill": {
     "duration": 0.005863,
     "end_time": "2022-05-29T14:35:30.166384",
     "exception": false,
     "start_time": "2022-05-29T14:35:30.160521",
     "status": "completed"
    },
    "tags": []
   },
   "source": [
    "Can you think of a case where this would be useful?  Once you're ready, run the code cell below to see the answer and to receive credit for completing the problem."
   ]
  },
  {
   "cell_type": "code",
   "execution_count": 5,
   "id": "f3f3565e",
   "metadata": {
    "execution": {
     "iopub.execute_input": "2022-05-29T14:35:30.180526Z",
     "iopub.status.busy": "2022-05-29T14:35:30.179962Z",
     "iopub.status.idle": "2022-05-29T14:35:30.186639Z",
     "shell.execute_reply": "2022-05-29T14:35:30.185931Z"
    },
    "papermill": {
     "duration": 0.015984,
     "end_time": "2022-05-29T14:35:30.188475",
     "exception": false,
     "start_time": "2022-05-29T14:35:30.172491",
     "status": "completed"
    },
    "tags": []
   },
   "outputs": [
    {
     "data": {
      "application/javascript": [
       "parent.postMessage({\"jupyterEvent\": \"custom.exercise_interaction\", \"data\": {\"interactionType\": 3, \"questionType\": 4, \"questionId\": \"2_RoundNdigitsProblem\", \"learnToolsVersion\": \"0.3.4\", \"valueTowardsCompletion\": 0.0, \"failureMessage\": \"\", \"exceptionClass\": \"\", \"trace\": \"\", \"outcomeType\": 4}}, \"*\")"
      ],
      "text/plain": [
       "<IPython.core.display.Javascript object>"
      ]
     },
     "metadata": {},
     "output_type": "display_data"
    },
    {
     "data": {
      "text/markdown": [
       "<span style=\"color:#33cc99\">Solution:</span> As you've seen, `ndigits=-1` rounds to the nearest 10, `ndigits=-2` rounds to the nearest 100 and so on. Where might this be useful? Suppose we're dealing with large numbers:\n",
       "\n",
       "> The area of Finland is 338,424 km²  \n",
       "> The area of Greenland is 2,166,086 km²\n",
       "\n",
       "We probably don't care whether it's really 338,424, or 338,425, or 338,177. All those digits of accuracy are just distracting. We can chop them off by calling `round()` with `ndigits=-3`:\n",
       "\n",
       "> The area of Finland is 338,000 km²  \n",
       "> The area of Greenland is 2,166,000 km²\n",
       "\n",
       "(We'll talk about how we would get the commas later when we talk about string formatting :))\n"
      ],
      "text/plain": [
       "Solution: As you've seen, `ndigits=-1` rounds to the nearest 10, `ndigits=-2` rounds to the nearest 100 and so on. Where might this be useful? Suppose we're dealing with large numbers:\n",
       "\n",
       "> The area of Finland is 338,424 km²  \n",
       "> The area of Greenland is 2,166,086 km²\n",
       "\n",
       "We probably don't care whether it's really 338,424, or 338,425, or 338,177. All those digits of accuracy are just distracting. We can chop them off by calling `round()` with `ndigits=-3`:\n",
       "\n",
       "> The area of Finland is 338,000 km²  \n",
       "> The area of Greenland is 2,166,000 km²\n",
       "\n",
       "(We'll talk about how we would get the commas later when we talk about string formatting :))"
      ]
     },
     "metadata": {},
     "output_type": "display_data"
    }
   ],
   "source": [
    "# Check your answer (Run this code cell to receive credit!)\n",
    "q2.solution()"
   ]
  },
  {
   "cell_type": "markdown",
   "id": "367c8829",
   "metadata": {
    "papermill": {
     "duration": 0.005837,
     "end_time": "2022-05-29T14:35:30.201210",
     "exception": false,
     "start_time": "2022-05-29T14:35:30.195373",
     "status": "completed"
    },
    "tags": []
   },
   "source": [
    "# 3.\n",
    "\n",
    "In the previous exercise, the candy-sharing friends Alice, Bob and Carol tried to split candies evenly. For the sake of their friendship, any candies left over would be smashed. For example, if they collectively bring home 91 candies, they'll take 30 each and smash 1.\n",
    "\n",
    "Below is a simple function that will calculate the number of candies to smash for *any* number of total candies.\n",
    "\n",
    "Modify it so that it optionally takes a second argument representing the number of friends the candies are being split between. If no second argument is provided, it should assume 3 friends, as before.\n",
    "\n",
    "Update the docstring to reflect this new behaviour."
   ]
  },
  {
   "cell_type": "code",
   "execution_count": 6,
   "id": "59e6c5d7",
   "metadata": {
    "execution": {
     "iopub.execute_input": "2022-05-29T14:35:30.215454Z",
     "iopub.status.busy": "2022-05-29T14:35:30.214861Z",
     "iopub.status.idle": "2022-05-29T14:35:30.222514Z",
     "shell.execute_reply": "2022-05-29T14:35:30.221673Z"
    },
    "papermill": {
     "duration": 0.017172,
     "end_time": "2022-05-29T14:35:30.224514",
     "exception": false,
     "start_time": "2022-05-29T14:35:30.207342",
     "status": "completed"
    },
    "tags": []
   },
   "outputs": [
    {
     "data": {
      "application/javascript": [
       "parent.postMessage({\"jupyterEvent\": \"custom.exercise_interaction\", \"data\": {\"outcomeType\": 1, \"valueTowardsCompletion\": 0.16666666666666666, \"interactionType\": 1, \"questionType\": 2, \"questionId\": \"3_CandySmashingFunctionProblem\", \"learnToolsVersion\": \"0.3.4\", \"failureMessage\": \"\", \"exceptionClass\": \"\", \"trace\": \"\"}}, \"*\")"
      ],
      "text/plain": [
       "<IPython.core.display.Javascript object>"
      ]
     },
     "metadata": {},
     "output_type": "display_data"
    },
    {
     "data": {
      "text/markdown": [
       "<span style=\"color:#33cc33\">Correct</span>"
      ],
      "text/plain": [
       "Correct"
      ]
     },
     "metadata": {},
     "output_type": "display_data"
    }
   ],
   "source": [
    "def to_smash(total_candies,friends = 3):\n",
    "    \"\"\"Return the number of leftover candies that must be smashed after distributing\n",
    "    the given number of candies evenly between 3 friends.\n",
    "    \n",
    "    >>> to_smash(91)\n",
    "    1\n",
    "    \"\"\"\n",
    "    smash_out = total_candies % friends\n",
    "    return smash_out\n",
    "to_smash(91,6)\n",
    "\n",
    "# Check your answer\n",
    "q3.check()"
   ]
  },
  {
   "cell_type": "code",
   "execution_count": 7,
   "id": "ba7b6476",
   "metadata": {
    "execution": {
     "iopub.execute_input": "2022-05-29T14:35:30.239416Z",
     "iopub.status.busy": "2022-05-29T14:35:30.238890Z",
     "iopub.status.idle": "2022-05-29T14:35:30.242870Z",
     "shell.execute_reply": "2022-05-29T14:35:30.242031Z"
    },
    "papermill": {
     "duration": 0.013883,
     "end_time": "2022-05-29T14:35:30.244837",
     "exception": false,
     "start_time": "2022-05-29T14:35:30.230954",
     "status": "completed"
    },
    "tags": []
   },
   "outputs": [],
   "source": [
    "#q3.hint()"
   ]
  },
  {
   "cell_type": "code",
   "execution_count": 8,
   "id": "4bef068c",
   "metadata": {
    "execution": {
     "iopub.execute_input": "2022-05-29T14:35:30.259405Z",
     "iopub.status.busy": "2022-05-29T14:35:30.258992Z",
     "iopub.status.idle": "2022-05-29T14:35:30.263090Z",
     "shell.execute_reply": "2022-05-29T14:35:30.262072Z"
    },
    "papermill": {
     "duration": 0.013676,
     "end_time": "2022-05-29T14:35:30.265105",
     "exception": false,
     "start_time": "2022-05-29T14:35:30.251429",
     "status": "completed"
    },
    "tags": []
   },
   "outputs": [],
   "source": [
    "#q3.solution()"
   ]
  },
  {
   "cell_type": "markdown",
   "id": "cb80ad30",
   "metadata": {
    "papermill": {
     "duration": 0.007004,
     "end_time": "2022-05-29T14:35:30.278808",
     "exception": false,
     "start_time": "2022-05-29T14:35:30.271804",
     "status": "completed"
    },
    "tags": []
   },
   "source": [
    "# 4. (Optional)\n",
    "\n",
    "It may not be fun, but reading and understanding error messages will be an important part of your Python career.\n",
    "\n",
    "Each code cell below contains some commented buggy code. For each cell...\n",
    "\n",
    "1. Read the code and predict what you think will happen when it's run.\n",
    "2. Then uncomment the code and run it to see what happens. (**Tip**: In the kernel editor, you can highlight several lines and press `ctrl`+`/` to toggle commenting.)\n",
    "3. Fix the code (so that it accomplishes its intended purpose without throwing an exception)\n",
    "\n",
    "<!-- TODO: should this be autochecked? Delta is probably pretty small. -->"
   ]
  },
  {
   "cell_type": "code",
   "execution_count": 9,
   "id": "ab586fbd",
   "metadata": {
    "execution": {
     "iopub.execute_input": "2022-05-29T14:35:30.294355Z",
     "iopub.status.busy": "2022-05-29T14:35:30.293584Z",
     "iopub.status.idle": "2022-05-29T14:35:30.300670Z",
     "shell.execute_reply": "2022-05-29T14:35:30.299656Z"
    },
    "papermill": {
     "duration": 0.017345,
     "end_time": "2022-05-29T14:35:30.302759",
     "exception": false,
     "start_time": "2022-05-29T14:35:30.285414",
     "status": "completed"
    },
    "tags": []
   },
   "outputs": [
    {
     "data": {
      "text/plain": [
       "10.0"
      ]
     },
     "execution_count": 9,
     "metadata": {},
     "output_type": "execute_result"
    }
   ],
   "source": [
    "def ruound_to_two_places(value):\n",
    "    return round (value, ndigits = 2)\n",
    "\n",
    "ruound_to_two_places(9.9999)\n"
   ]
  },
  {
   "cell_type": "code",
   "execution_count": 10,
   "id": "943d9cde",
   "metadata": {
    "execution": {
     "iopub.execute_input": "2022-05-29T14:35:30.318272Z",
     "iopub.status.busy": "2022-05-29T14:35:30.317313Z",
     "iopub.status.idle": "2022-05-29T14:35:30.323527Z",
     "shell.execute_reply": "2022-05-29T14:35:30.322488Z"
    },
    "papermill": {
     "duration": 0.017399,
     "end_time": "2022-05-29T14:35:30.326880",
     "exception": false,
     "start_time": "2022-05-29T14:35:30.309481",
     "status": "completed"
    },
    "tags": []
   },
   "outputs": [
    {
     "name": "stdout",
     "output_type": "stream",
     "text": [
      "5\n"
     ]
    }
   ],
   "source": [
    "x = -10\n",
    "y = 5\n",
    "# # Which of the two variables above has the smallest absolute value?\n",
    "smallest_abs = min(abs(x),abs(y))\n",
    "print (smallest_abs)"
   ]
  },
  {
   "cell_type": "code",
   "execution_count": 11,
   "id": "a777617a",
   "metadata": {
    "execution": {
     "iopub.execute_input": "2022-05-29T14:35:30.345350Z",
     "iopub.status.busy": "2022-05-29T14:35:30.344201Z",
     "iopub.status.idle": "2022-05-29T14:35:30.350585Z",
     "shell.execute_reply": "2022-05-29T14:35:30.349653Z"
    },
    "papermill": {
     "duration": 0.018059,
     "end_time": "2022-05-29T14:35:30.352589",
     "exception": false,
     "start_time": "2022-05-29T14:35:30.334530",
     "status": "completed"
    },
    "tags": []
   },
   "outputs": [
    {
     "name": "stdout",
     "output_type": "stream",
     "text": [
      "5\n"
     ]
    }
   ],
   "source": [
    "def f(x):\n",
    "    y = abs(x)\n",
    "    return y\n",
    "\n",
    "print(f(-5))"
   ]
  },
  {
   "cell_type": "markdown",
   "id": "25d9b430",
   "metadata": {
    "papermill": {
     "duration": 0.006953,
     "end_time": "2022-05-29T14:35:30.366374",
     "exception": false,
     "start_time": "2022-05-29T14:35:30.359421",
     "status": "completed"
    },
    "tags": []
   },
   "source": [
    "# Keep Going\n",
    "\n",
    "Nice job with the code. Next up, you'll learn about *conditionals*, which you'll need to **[write interesting programs](https://www.kaggle.com/colinmorris/booleans-and-conditionals)**. "
   ]
  },
  {
   "cell_type": "markdown",
   "id": "f7bc712f",
   "metadata": {
    "papermill": {
     "duration": 0.006456,
     "end_time": "2022-05-29T14:35:30.379680",
     "exception": false,
     "start_time": "2022-05-29T14:35:30.373224",
     "status": "completed"
    },
    "tags": []
   },
   "source": [
    "---\n",
    "\n",
    "\n",
    "\n",
    "\n",
    "*Have questions or comments? Visit the [course discussion forum](https://www.kaggle.com/learn/python/discussion) to chat with other learners.*"
   ]
  }
 ],
 "metadata": {
  "kernelspec": {
   "display_name": "Python 3",
   "language": "python",
   "name": "python3"
  },
  "language_info": {
   "codemirror_mode": {
    "name": "ipython",
    "version": 3
   },
   "file_extension": ".py",
   "mimetype": "text/x-python",
   "name": "python",
   "nbconvert_exporter": "python",
   "pygments_lexer": "ipython3",
   "version": "3.7.12"
  },
  "papermill": {
   "default_parameters": {},
   "duration": 10.991457,
   "end_time": "2022-05-29T14:35:31.006896",
   "environment_variables": {},
   "exception": null,
   "input_path": "__notebook__.ipynb",
   "output_path": "__notebook__.ipynb",
   "parameters": {},
   "start_time": "2022-05-29T14:35:20.015439",
   "version": "2.3.4"
  }
 },
 "nbformat": 4,
 "nbformat_minor": 5
}
