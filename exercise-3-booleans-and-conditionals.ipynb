{
 "cells": [
  {
   "cell_type": "markdown",
   "id": "b3f2d8b4",
   "metadata": {
    "papermill": {
     "duration": 0.012426,
     "end_time": "2023-01-05T17:13:43.808648",
     "exception": false,
     "start_time": "2023-01-05T17:13:43.796222",
     "status": "completed"
    },
    "tags": []
   },
   "source": [
    "**This notebook is an exercise in the [Python](https://www.kaggle.com/learn/python) course.  You can reference the tutorial at [this link](https://www.kaggle.com/colinmorris/booleans-and-conditionals).**\n",
    "\n",
    "---\n"
   ]
  },
  {
   "cell_type": "markdown",
   "id": "93cfeb00",
   "metadata": {
    "papermill": {
     "duration": 0.008564,
     "end_time": "2023-01-05T17:13:43.826765",
     "exception": false,
     "start_time": "2023-01-05T17:13:43.818201",
     "status": "completed"
    },
    "tags": []
   },
   "source": [
    "In this exercise, you'll put to work what you have learned about booleans and conditionals.\n",
    "\n",
    "To get started, **run the setup code below** before writing your own code (and if you leave this notebook and come back later, don't forget to run the setup code again)."
   ]
  },
  {
   "cell_type": "code",
   "execution_count": 1,
   "id": "547e6178",
   "metadata": {
    "execution": {
     "iopub.execute_input": "2023-01-05T17:13:43.847508Z",
     "iopub.status.busy": "2023-01-05T17:13:43.846698Z",
     "iopub.status.idle": "2023-01-05T17:13:43.908861Z",
     "shell.execute_reply": "2023-01-05T17:13:43.907501Z"
    },
    "papermill": {
     "duration": 0.076114,
     "end_time": "2023-01-05T17:13:43.911909",
     "exception": false,
     "start_time": "2023-01-05T17:13:43.835795",
     "status": "completed"
    },
    "tags": []
   },
   "outputs": [
    {
     "name": "stdout",
     "output_type": "stream",
     "text": [
      "Setup complete.\n"
     ]
    }
   ],
   "source": [
    "from learntools.core import binder; binder.bind(globals())\n",
    "from learntools.python.ex3 import *\n",
    "print('Setup complete.')"
   ]
  },
  {
   "cell_type": "markdown",
   "id": "dc0c3764",
   "metadata": {
    "papermill": {
     "duration": 0.008869,
     "end_time": "2023-01-05T17:13:43.930240",
     "exception": false,
     "start_time": "2023-01-05T17:13:43.921371",
     "status": "completed"
    },
    "tags": []
   },
   "source": [
    "# 1.\n",
    "\n",
    "Many programming languages have [`sign`](https://en.wikipedia.org/wiki/Sign_function) available as a built-in function. Python doesn't, but we can define our own!\n",
    "\n",
    "In the cell below, define a function called `sign` which takes a numerical argument and returns -1 if it's negative, 1 if it's positive, and 0 if it's 0."
   ]
  },
  {
   "cell_type": "code",
   "execution_count": 2,
   "id": "2c93cdb6",
   "metadata": {
    "execution": {
     "iopub.execute_input": "2023-01-05T17:13:43.951496Z",
     "iopub.status.busy": "2023-01-05T17:13:43.951110Z",
     "iopub.status.idle": "2023-01-05T17:13:43.964032Z",
     "shell.execute_reply": "2023-01-05T17:13:43.962865Z"
    },
    "papermill": {
     "duration": 0.025234,
     "end_time": "2023-01-05T17:13:43.966118",
     "exception": false,
     "start_time": "2023-01-05T17:13:43.940884",
     "status": "completed"
    },
    "tags": []
   },
   "outputs": [
    {
     "data": {
      "application/javascript": [
       "parent.postMessage({\"jupyterEvent\": \"custom.exercise_interaction\", \"data\": {\"outcomeType\": 1, \"valueTowardsCompletion\": 0.2, \"interactionType\": 1, \"questionType\": 2, \"questionId\": \"1_SignFunctionProblem\", \"learnToolsVersion\": \"0.3.4\", \"failureMessage\": \"\", \"exceptionClass\": \"\", \"trace\": \"\"}}, \"*\")"
      ],
      "text/plain": [
       "<IPython.core.display.Javascript object>"
      ]
     },
     "metadata": {},
     "output_type": "display_data"
    },
    {
     "data": {
      "text/markdown": [
       "<span style=\"color:#33cc33\">Correct</span>"
      ],
      "text/plain": [
       "Correct"
      ]
     },
     "metadata": {},
     "output_type": "display_data"
    }
   ],
   "source": [
    "# Your code goes here. Define a function called 'sign'\n",
    "def sign(x):\n",
    "    if x > 0:\n",
    "        a = 1\n",
    "    elif x < 0:\n",
    "        a = -1\n",
    "    else :\n",
    "        a = 0   \n",
    "    return a\n",
    "sign(0)\n",
    "# Check your answer\n",
    "q1.check()"
   ]
  },
  {
   "cell_type": "markdown",
   "id": "454b7c92",
   "metadata": {
    "papermill": {
     "duration": 0.008932,
     "end_time": "2023-01-05T17:13:43.984325",
     "exception": false,
     "start_time": "2023-01-05T17:13:43.975393",
     "status": "completed"
    },
    "tags": []
   },
   "source": [
    "# 2.\n",
    "\n",
    "We've decided to add \"logging\" to our `to_smash` function from the previous exercise."
   ]
  },
  {
   "cell_type": "code",
   "execution_count": 3,
   "id": "ce4ad039",
   "metadata": {
    "execution": {
     "iopub.execute_input": "2023-01-05T17:13:44.004786Z",
     "iopub.status.busy": "2023-01-05T17:13:44.004256Z",
     "iopub.status.idle": "2023-01-05T17:13:44.009965Z",
     "shell.execute_reply": "2023-01-05T17:13:44.008512Z"
    },
    "papermill": {
     "duration": 0.019465,
     "end_time": "2023-01-05T17:13:44.012975",
     "exception": false,
     "start_time": "2023-01-05T17:13:43.993510",
     "status": "completed"
    },
    "tags": []
   },
   "outputs": [],
   "source": [
    "#q1.solution()"
   ]
  },
  {
   "cell_type": "code",
   "execution_count": 4,
   "id": "a4079d7a",
   "metadata": {
    "execution": {
     "iopub.execute_input": "2023-01-05T17:13:44.033749Z",
     "iopub.status.busy": "2023-01-05T17:13:44.033320Z",
     "iopub.status.idle": "2023-01-05T17:13:44.043322Z",
     "shell.execute_reply": "2023-01-05T17:13:44.041786Z"
    },
    "papermill": {
     "duration": 0.023521,
     "end_time": "2023-01-05T17:13:44.046126",
     "exception": false,
     "start_time": "2023-01-05T17:13:44.022605",
     "status": "completed"
    },
    "tags": []
   },
   "outputs": [
    {
     "name": "stdout",
     "output_type": "stream",
     "text": [
      "Splitting 91 candies\n"
     ]
    },
    {
     "data": {
      "text/plain": [
       "1"
      ]
     },
     "execution_count": 4,
     "metadata": {},
     "output_type": "execute_result"
    }
   ],
   "source": [
    "def to_smash(total_candies):\n",
    "    \"\"\"Return the number of leftover candies that must be smashed after distributing\n",
    "    the given number of candies evenly between 3 friends.\n",
    "    \n",
    "    >>> to_smash(91)\n",
    "    1\n",
    "    \"\"\"\n",
    "    if total_candies == 1:\n",
    "        print(\"Splitting 1 candy\")\n",
    "    else:\n",
    "        print(\"Splitting\", total_candies, \"candies\")\n",
    "    return total_candies % 3\n",
    "\n",
    "to_smash(91)\n"
   ]
  },
  {
   "cell_type": "markdown",
   "id": "7d01689c",
   "metadata": {
    "papermill": {
     "duration": 0.009059,
     "end_time": "2023-01-05T17:13:44.064624",
     "exception": false,
     "start_time": "2023-01-05T17:13:44.055565",
     "status": "completed"
    },
    "tags": []
   },
   "source": [
    "What happens if we call it with `total_candies = 1`?"
   ]
  },
  {
   "cell_type": "code",
   "execution_count": 5,
   "id": "f79c253e",
   "metadata": {
    "execution": {
     "iopub.execute_input": "2023-01-05T17:13:44.085611Z",
     "iopub.status.busy": "2023-01-05T17:13:44.085173Z",
     "iopub.status.idle": "2023-01-05T17:13:44.092887Z",
     "shell.execute_reply": "2023-01-05T17:13:44.091430Z"
    },
    "papermill": {
     "duration": 0.021728,
     "end_time": "2023-01-05T17:13:44.095754",
     "exception": false,
     "start_time": "2023-01-05T17:13:44.074026",
     "status": "completed"
    },
    "tags": []
   },
   "outputs": [
    {
     "name": "stdout",
     "output_type": "stream",
     "text": [
      "Splitting 1 candy\n"
     ]
    },
    {
     "data": {
      "text/plain": [
       "1"
      ]
     },
     "execution_count": 5,
     "metadata": {},
     "output_type": "execute_result"
    }
   ],
   "source": [
    "to_smash(1)"
   ]
  },
  {
   "cell_type": "markdown",
   "id": "5e846394",
   "metadata": {
    "papermill": {
     "duration": 0.009838,
     "end_time": "2023-01-05T17:13:44.115389",
     "exception": false,
     "start_time": "2023-01-05T17:13:44.105551",
     "status": "completed"
    },
    "tags": []
   },
   "source": [
    "That isn't great grammar!\n",
    "\n",
    "Modify the definition in the cell below to correct the grammar of our print statement. (If there's only one candy, we should use the singular \"candy\" instead of the plural \"candies\")"
   ]
  },
  {
   "cell_type": "code",
   "execution_count": 6,
   "id": "ef45f9e7",
   "metadata": {
    "execution": {
     "iopub.execute_input": "2023-01-05T17:13:44.136802Z",
     "iopub.status.busy": "2023-01-05T17:13:44.135859Z",
     "iopub.status.idle": "2023-01-05T17:13:44.148516Z",
     "shell.execute_reply": "2023-01-05T17:13:44.146815Z"
    },
    "papermill": {
     "duration": 0.026186,
     "end_time": "2023-01-05T17:13:44.151290",
     "exception": false,
     "start_time": "2023-01-05T17:13:44.125104",
     "status": "completed"
    },
    "tags": []
   },
   "outputs": [
    {
     "name": "stdout",
     "output_type": "stream",
     "text": [
      "Splitting 91 candies\n",
      "Splitting 1 candy\n"
     ]
    },
    {
     "data": {
      "application/javascript": [
       "parent.postMessage({\"jupyterEvent\": \"custom.exercise_interaction\", \"data\": {\"outcomeType\": 1, \"valueTowardsCompletion\": 0.2, \"interactionType\": 1, \"questionType\": 4, \"questionId\": \"2_PluralizationProblem\", \"learnToolsVersion\": \"0.3.4\", \"failureMessage\": \"\", \"exceptionClass\": \"\", \"trace\": \"\"}}, \"*\")"
      ],
      "text/plain": [
       "<IPython.core.display.Javascript object>"
      ]
     },
     "metadata": {},
     "output_type": "display_data"
    },
    {
     "data": {
      "text/markdown": [
       "<span style=\"color:#33cc33\">Correct:</span> \n",
       "\n",
       "A straightforward (and totally fine) solution is to replace the original `print` call with:\n",
       "\n",
       "```python\n",
       "if total_candies == 1:\n",
       "    print(\"Splitting 1 candy\")\n",
       "else:\n",
       "    print(\"Splitting\", total_candies, \"candies\")\n",
       "```\n",
       "\n",
       "Here's a slightly more succinct solution using a conditional expression:\n",
       "\n",
       "```python\n",
       "print(\"Splitting\", total_candies, \"candy\" if total_candies == 1 else \"candies\")\n",
       "```"
      ],
      "text/plain": [
       "Correct: \n",
       "\n",
       "A straightforward (and totally fine) solution is to replace the original `print` call with:\n",
       "\n",
       "```python\n",
       "if total_candies == 1:\n",
       "    print(\"Splitting 1 candy\")\n",
       "else:\n",
       "    print(\"Splitting\", total_candies, \"candies\")\n",
       "```\n",
       "\n",
       "Here's a slightly more succinct solution using a conditional expression:\n",
       "\n",
       "```python\n",
       "print(\"Splitting\", total_candies, \"candy\" if total_candies == 1 else \"candies\")\n",
       "```"
      ]
     },
     "metadata": {},
     "output_type": "display_data"
    }
   ],
   "source": [
    "def to_smash(total_candies):\n",
    "    \"\"\"Return the number of leftover candies that must be smashed after distributing\n",
    "    the given number of candies evenly between 3 friends.\n",
    "    \n",
    "    >>> to_smash(91)\n",
    "    1\n",
    "    \"\"\"\n",
    "    print(\"Splitting\", total_candies,\"candy\"if total_candies == 1 else \"candies\")\n",
    "    return total_candies % 3\n",
    "\n",
    "to_smash(91)\n",
    "to_smash(1)\n",
    "q2.check()"
   ]
  },
  {
   "cell_type": "markdown",
   "id": "21b12252",
   "metadata": {
    "papermill": {
     "duration": 0.009548,
     "end_time": "2023-01-05T17:13:44.170921",
     "exception": false,
     "start_time": "2023-01-05T17:13:44.161373",
     "status": "completed"
    },
    "tags": []
   },
   "source": [
    "To get credit for completing this problem, and to see the official answer, run the code cell below."
   ]
  },
  {
   "cell_type": "code",
   "execution_count": 7,
   "id": "e5907876",
   "metadata": {
    "execution": {
     "iopub.execute_input": "2023-01-05T17:13:44.193201Z",
     "iopub.status.busy": "2023-01-05T17:13:44.192783Z",
     "iopub.status.idle": "2023-01-05T17:13:44.201465Z",
     "shell.execute_reply": "2023-01-05T17:13:44.200481Z"
    },
    "papermill": {
     "duration": 0.022334,
     "end_time": "2023-01-05T17:13:44.203712",
     "exception": false,
     "start_time": "2023-01-05T17:13:44.181378",
     "status": "completed"
    },
    "tags": []
   },
   "outputs": [
    {
     "data": {
      "application/javascript": [
       "parent.postMessage({\"jupyterEvent\": \"custom.exercise_interaction\", \"data\": {\"interactionType\": 3, \"questionType\": 4, \"questionId\": \"2_PluralizationProblem\", \"learnToolsVersion\": \"0.3.4\", \"valueTowardsCompletion\": 0.0, \"failureMessage\": \"\", \"exceptionClass\": \"\", \"trace\": \"\", \"outcomeType\": 4}}, \"*\")"
      ],
      "text/plain": [
       "<IPython.core.display.Javascript object>"
      ]
     },
     "metadata": {},
     "output_type": "display_data"
    },
    {
     "data": {
      "text/markdown": [
       "<span style=\"color:#33cc99\">Solution:</span> A straightforward (and totally fine) solution is to replace the original `print` call with:\n",
       "\n",
       "```python\n",
       "if total_candies == 1:\n",
       "    print(\"Splitting 1 candy\")\n",
       "else:\n",
       "    print(\"Splitting\", total_candies, \"candies\")\n",
       "```\n",
       "\n",
       "Here's a slightly more succinct solution using a conditional expression:\n",
       "\n",
       "```python\n",
       "print(\"Splitting\", total_candies, \"candy\" if total_candies == 1 else \"candies\")\n",
       "```"
      ],
      "text/plain": [
       "Solution: A straightforward (and totally fine) solution is to replace the original `print` call with:\n",
       "\n",
       "```python\n",
       "if total_candies == 1:\n",
       "    print(\"Splitting 1 candy\")\n",
       "else:\n",
       "    print(\"Splitting\", total_candies, \"candies\")\n",
       "```\n",
       "\n",
       "Here's a slightly more succinct solution using a conditional expression:\n",
       "\n",
       "```python\n",
       "print(\"Splitting\", total_candies, \"candy\" if total_candies == 1 else \"candies\")\n",
       "```"
      ]
     },
     "metadata": {},
     "output_type": "display_data"
    }
   ],
   "source": [
    "# Check your answer (Run this code cell to receive credit!)\n",
    "q2.solution()"
   ]
  },
  {
   "cell_type": "markdown",
   "id": "08721847",
   "metadata": {
    "papermill": {
     "duration": 0.00991,
     "end_time": "2023-01-05T17:13:44.224532",
     "exception": false,
     "start_time": "2023-01-05T17:13:44.214622",
     "status": "completed"
    },
    "tags": []
   },
   "source": [
    "# 3. <span title=\"A bit spicy\" style=\"color: darkgreen \">🌶️</span>\n",
    "\n",
    "In the tutorial, we talked about deciding whether we're prepared for the weather. I said that I'm safe from today's weather if...\n",
    "- I have an umbrella...\n",
    "- or if the rain isn't too heavy and I have a hood...\n",
    "- otherwise, I'm still fine unless it's raining *and* it's a workday\n",
    "\n",
    "The function below uses our first attempt at turning this logic into a Python expression. I claimed that there was a bug in that code. Can you find it?\n",
    "\n",
    "To prove that `prepared_for_weather` is buggy, come up with a set of inputs where either:\n",
    "- the function returns `False` (but should have returned `True`), or\n",
    "- the function returned `True` (but should have returned `False`).\n",
    "\n",
    "To get credit for completing this question, your code should return a <font color='#33cc33'>Correct</font> result."
   ]
  },
  {
   "cell_type": "code",
   "execution_count": 8,
   "id": "c91acdb9",
   "metadata": {
    "execution": {
     "iopub.execute_input": "2023-01-05T17:13:44.246862Z",
     "iopub.status.busy": "2023-01-05T17:13:44.246470Z",
     "iopub.status.idle": "2023-01-05T17:13:44.258320Z",
     "shell.execute_reply": "2023-01-05T17:13:44.256684Z"
    },
    "papermill": {
     "duration": 0.026507,
     "end_time": "2023-01-05T17:13:44.261235",
     "exception": false,
     "start_time": "2023-01-05T17:13:44.234728",
     "status": "completed"
    },
    "tags": []
   },
   "outputs": [
    {
     "name": "stdout",
     "output_type": "stream",
     "text": [
      "False\n"
     ]
    },
    {
     "data": {
      "application/javascript": [
       "parent.postMessage({\"jupyterEvent\": \"custom.exercise_interaction\", \"data\": {\"outcomeType\": 1, \"valueTowardsCompletion\": 0.2, \"interactionType\": 1, \"questionType\": 1, \"questionId\": \"3_WeatherDebug\", \"learnToolsVersion\": \"0.3.4\", \"failureMessage\": \"\", \"exceptionClass\": \"\", \"trace\": \"\"}}, \"*\")"
      ],
      "text/plain": [
       "<IPython.core.display.Javascript object>"
      ]
     },
     "metadata": {},
     "output_type": "display_data"
    },
    {
     "data": {
      "text/markdown": [
       "<span style=\"color:#33cc33\">Correct:</span> \n",
       "\n",
       "One example of a failing test case is:\n",
       "\n",
       "```python\n",
       "have_umbrella = False\n",
       "rain_level = 0.0\n",
       "have_hood = False\n",
       "is_workday = False\n",
       "```\n",
       "\n",
       "Clearly we're prepared for the weather in this case. It's not raining. Not only that, it's not a workday, so we don't even need to leave the house! But our function will return False on these inputs.\n",
       "\n",
       "The key problem is that Python implictly parenthesizes the last part as:\n",
       "\n",
       "```python\n",
       "(not (rain_level > 0)) and is_workday\n",
       "```\n",
       "\n",
       "Whereas what we were trying to express would look more like:\n",
       "\n",
       "```python\n",
       "not (rain_level > 0 and is_workday)\n",
       "```\n"
      ],
      "text/plain": [
       "Correct: \n",
       "\n",
       "One example of a failing test case is:\n",
       "\n",
       "```python\n",
       "have_umbrella = False\n",
       "rain_level = 0.0\n",
       "have_hood = False\n",
       "is_workday = False\n",
       "```\n",
       "\n",
       "Clearly we're prepared for the weather in this case. It's not raining. Not only that, it's not a workday, so we don't even need to leave the house! But our function will return False on these inputs.\n",
       "\n",
       "The key problem is that Python implictly parenthesizes the last part as:\n",
       "\n",
       "```python\n",
       "(not (rain_level > 0)) and is_workday\n",
       "```\n",
       "\n",
       "Whereas what we were trying to express would look more like:\n",
       "\n",
       "```python\n",
       "not (rain_level > 0 and is_workday)\n",
       "```"
      ]
     },
     "metadata": {},
     "output_type": "display_data"
    }
   ],
   "source": [
    "def prepared_for_weather(have_umbrella, rain_level, have_hood, is_workday):\n",
    "    # Don't change this code. Our goal is just to find the bug, not fix it!\n",
    "    return have_umbrella or rain_level < 5 and have_hood or not rain_level > 0 and is_workday\n",
    "\n",
    "# Change the values of these inputs so they represent a case where prepared_for_weather\n",
    "# returns the wrong answer.\n",
    "have_umbrella = False\n",
    "rain_level = 0\n",
    "have_hood = False\n",
    "is_workday = False\n",
    "\n",
    "# Check what the function returns given the current values of the variables above\n",
    "actual = prepared_for_weather(have_umbrella, rain_level, have_hood, is_workday)\n",
    "print(actual)\n",
    "\n",
    "# Check your answer\n",
    "q3.check()"
   ]
  },
  {
   "cell_type": "code",
   "execution_count": 9,
   "id": "148e843a",
   "metadata": {
    "execution": {
     "iopub.execute_input": "2023-01-05T17:13:44.285901Z",
     "iopub.status.busy": "2023-01-05T17:13:44.284865Z",
     "iopub.status.idle": "2023-01-05T17:13:44.290562Z",
     "shell.execute_reply": "2023-01-05T17:13:44.289244Z"
    },
    "papermill": {
     "duration": 0.020235,
     "end_time": "2023-01-05T17:13:44.292805",
     "exception": false,
     "start_time": "2023-01-05T17:13:44.272570",
     "status": "completed"
    },
    "tags": []
   },
   "outputs": [],
   "source": [
    "# q3.hint()\n",
    "#q3.solution()"
   ]
  },
  {
   "cell_type": "markdown",
   "id": "bae9ed7c",
   "metadata": {
    "papermill": {
     "duration": 0.010843,
     "end_time": "2023-01-05T17:13:44.315270",
     "exception": false,
     "start_time": "2023-01-05T17:13:44.304427",
     "status": "completed"
    },
    "tags": []
   },
   "source": [
    "# 4.\n",
    "\n",
    "The function `is_negative` below is implemented correctly - it returns True if the given number is negative and False otherwise.\n",
    "\n",
    "However, it's more verbose than it needs to be. We can actually reduce the number of lines of code in this function by *75%* while keeping the same behaviour. \n",
    "\n",
    "See if you can come up with an equivalent body that uses just **one line** of code, and put it in the function `concise_is_negative`. (HINT: you don't even need Python's ternary syntax)"
   ]
  },
  {
   "cell_type": "code",
   "execution_count": 10,
   "id": "309275c2",
   "metadata": {
    "execution": {
     "iopub.execute_input": "2023-01-05T17:13:44.338538Z",
     "iopub.status.busy": "2023-01-05T17:13:44.338130Z",
     "iopub.status.idle": "2023-01-05T17:13:44.347624Z",
     "shell.execute_reply": "2023-01-05T17:13:44.346697Z"
    },
    "papermill": {
     "duration": 0.02348,
     "end_time": "2023-01-05T17:13:44.349709",
     "exception": false,
     "start_time": "2023-01-05T17:13:44.326229",
     "status": "completed"
    },
    "tags": []
   },
   "outputs": [
    {
     "data": {
      "application/javascript": [
       "parent.postMessage({\"jupyterEvent\": \"custom.exercise_interaction\", \"data\": {\"outcomeType\": 1, \"valueTowardsCompletion\": 0.2, \"interactionType\": 1, \"questionType\": 2, \"questionId\": \"4_ConciseIsNegative\", \"learnToolsVersion\": \"0.3.4\", \"failureMessage\": \"\", \"exceptionClass\": \"\", \"trace\": \"\"}}, \"*\")"
      ],
      "text/plain": [
       "<IPython.core.display.Javascript object>"
      ]
     },
     "metadata": {},
     "output_type": "display_data"
    },
    {
     "data": {
      "text/markdown": [
       "<span style=\"color:#33cc33\">Correct</span>"
      ],
      "text/plain": [
       "Correct"
      ]
     },
     "metadata": {},
     "output_type": "display_data"
    }
   ],
   "source": [
    "def is_negative(number):\n",
    "    if number < 0:\n",
    "        return True\n",
    "    else:\n",
    "        return False\n",
    "\n",
    "def concise_is_negative(number):\n",
    "    return True if number <0 else False# Your code goes here (try to keep it to one line!)\n",
    "\n",
    "# Check your answer\n",
    "q4.check()"
   ]
  },
  {
   "cell_type": "code",
   "execution_count": 11,
   "id": "f115c045",
   "metadata": {
    "execution": {
     "iopub.execute_input": "2023-01-05T17:13:44.372905Z",
     "iopub.status.busy": "2023-01-05T17:13:44.372505Z",
     "iopub.status.idle": "2023-01-05T17:13:44.377429Z",
     "shell.execute_reply": "2023-01-05T17:13:44.376201Z"
    },
    "papermill": {
     "duration": 0.019299,
     "end_time": "2023-01-05T17:13:44.379765",
     "exception": false,
     "start_time": "2023-01-05T17:13:44.360466",
     "status": "completed"
    },
    "tags": []
   },
   "outputs": [],
   "source": [
    "#q4.hint()\n",
    "#q4.solution()"
   ]
  },
  {
   "cell_type": "markdown",
   "id": "1eddbac3",
   "metadata": {
    "papermill": {
     "duration": 0.010463,
     "end_time": "2023-01-05T17:13:44.401172",
     "exception": false,
     "start_time": "2023-01-05T17:13:44.390709",
     "status": "completed"
    },
    "tags": []
   },
   "source": [
    "# 5a.\n",
    "\n",
    "The boolean variables `ketchup`, `mustard` and `onion` represent whether a customer wants a particular topping on their hot dog. We want to implement a number of boolean functions that correspond to some yes-or-no questions about the customer's order. For example:"
   ]
  },
  {
   "cell_type": "code",
   "execution_count": 12,
   "id": "b2128126",
   "metadata": {
    "execution": {
     "iopub.execute_input": "2023-01-05T17:13:44.424607Z",
     "iopub.status.busy": "2023-01-05T17:13:44.424201Z",
     "iopub.status.idle": "2023-01-05T17:13:44.430012Z",
     "shell.execute_reply": "2023-01-05T17:13:44.428707Z"
    },
    "papermill": {
     "duration": 0.020596,
     "end_time": "2023-01-05T17:13:44.432667",
     "exception": false,
     "start_time": "2023-01-05T17:13:44.412071",
     "status": "completed"
    },
    "tags": []
   },
   "outputs": [],
   "source": [
    "def onionless(ketchup, mustard, onion):\n",
    "    \"\"\"Return whether the customer doesn't want onions.\n",
    "    \"\"\"\n",
    "    return not onion"
   ]
  },
  {
   "cell_type": "code",
   "execution_count": 13,
   "id": "0d7077d3",
   "metadata": {
    "execution": {
     "iopub.execute_input": "2023-01-05T17:13:44.457591Z",
     "iopub.status.busy": "2023-01-05T17:13:44.457148Z",
     "iopub.status.idle": "2023-01-05T17:13:44.468762Z",
     "shell.execute_reply": "2023-01-05T17:13:44.467444Z"
    },
    "papermill": {
     "duration": 0.0276,
     "end_time": "2023-01-05T17:13:44.471267",
     "exception": false,
     "start_time": "2023-01-05T17:13:44.443667",
     "status": "completed"
    },
    "tags": []
   },
   "outputs": [
    {
     "data": {
      "application/javascript": [
       "parent.postMessage({\"jupyterEvent\": \"custom.exercise_interaction\", \"data\": {\"outcomeType\": 1, \"valueTowardsCompletion\": 0.2, \"interactionType\": 1, \"questionType\": 2, \"questionId\": \"5.1_AllToppings\", \"learnToolsVersion\": \"0.3.4\", \"failureMessage\": \"\", \"exceptionClass\": \"\", \"trace\": \"\"}}, \"*\")"
      ],
      "text/plain": [
       "<IPython.core.display.Javascript object>"
      ]
     },
     "metadata": {},
     "output_type": "display_data"
    },
    {
     "data": {
      "text/markdown": [
       "<span style=\"color:#33cc33\">Correct</span>"
      ],
      "text/plain": [
       "Correct"
      ]
     },
     "metadata": {},
     "output_type": "display_data"
    }
   ],
   "source": [
    "def wants_all_toppings(ketchup, mustard, onion):\n",
    "    \"\"\"Return whether the customer wants \"the works\" (all 3 toppings)\n",
    "    \"\"\"\n",
    "    return True if (ketchup == True and mustard==True and onion==True) else False\n",
    "\n",
    "# Check your answer\n",
    "q5.a.check()"
   ]
  },
  {
   "cell_type": "code",
   "execution_count": 14,
   "id": "81b438f9",
   "metadata": {
    "execution": {
     "iopub.execute_input": "2023-01-05T17:13:44.496481Z",
     "iopub.status.busy": "2023-01-05T17:13:44.496085Z",
     "iopub.status.idle": "2023-01-05T17:13:44.501261Z",
     "shell.execute_reply": "2023-01-05T17:13:44.500038Z"
    },
    "papermill": {
     "duration": 0.020188,
     "end_time": "2023-01-05T17:13:44.503766",
     "exception": false,
     "start_time": "2023-01-05T17:13:44.483578",
     "status": "completed"
    },
    "tags": []
   },
   "outputs": [],
   "source": [
    "#q5.a.hint()\n",
    "#q5.a.solution()"
   ]
  },
  {
   "cell_type": "markdown",
   "id": "344c8051",
   "metadata": {
    "papermill": {
     "duration": 0.010893,
     "end_time": "2023-01-05T17:13:44.526190",
     "exception": false,
     "start_time": "2023-01-05T17:13:44.515297",
     "status": "completed"
    },
    "tags": []
   },
   "source": [
    "# 5b.\n",
    "\n",
    "For the next function, fill in the body to match the English description in the docstring. "
   ]
  },
  {
   "cell_type": "code",
   "execution_count": 15,
   "id": "d5876946",
   "metadata": {
    "execution": {
     "iopub.execute_input": "2023-01-05T17:13:44.551094Z",
     "iopub.status.busy": "2023-01-05T17:13:44.550297Z",
     "iopub.status.idle": "2023-01-05T17:13:44.560798Z",
     "shell.execute_reply": "2023-01-05T17:13:44.559334Z"
    },
    "papermill": {
     "duration": 0.025567,
     "end_time": "2023-01-05T17:13:44.563272",
     "exception": false,
     "start_time": "2023-01-05T17:13:44.537705",
     "status": "completed"
    },
    "tags": []
   },
   "outputs": [
    {
     "data": {
      "application/javascript": [
       "parent.postMessage({\"jupyterEvent\": \"custom.exercise_interaction\", \"data\": {\"outcomeType\": 1, \"valueTowardsCompletion\": 0.2, \"interactionType\": 1, \"questionType\": 2, \"questionId\": \"5.2_PlainDog\", \"learnToolsVersion\": \"0.3.4\", \"failureMessage\": \"\", \"exceptionClass\": \"\", \"trace\": \"\"}}, \"*\")"
      ],
      "text/plain": [
       "<IPython.core.display.Javascript object>"
      ]
     },
     "metadata": {},
     "output_type": "display_data"
    },
    {
     "data": {
      "text/markdown": [
       "<span style=\"color:#33cc33\">Correct:</span> \n",
       "\n",
       "One solution looks like:\n",
       "```python\n",
       "return not ketchup and not mustard and not onion\n",
       "```\n",
       "\n",
       "We can also [\"factor out\" the nots](https://en.wikipedia.org/wiki/De_Morgan%27s_laws) to get:\n",
       "\n",
       "```python\n",
       "return not (ketchup or mustard or onion)\n",
       "```"
      ],
      "text/plain": [
       "Correct: \n",
       "\n",
       "One solution looks like:\n",
       "```python\n",
       "return not ketchup and not mustard and not onion\n",
       "```\n",
       "\n",
       "We can also [\"factor out\" the nots](https://en.wikipedia.org/wiki/De_Morgan%27s_laws) to get:\n",
       "\n",
       "```python\n",
       "return not (ketchup or mustard or onion)\n",
       "```"
      ]
     },
     "metadata": {},
     "output_type": "display_data"
    }
   ],
   "source": [
    "def wants_plain_hotdog(ketchup, mustard, onion):\n",
    "    \"\"\"Return whether the customer wants a plain hot dog with no toppings.\n",
    "    \"\"\"\n",
    "    return not (ketchup or mustard or onion)\n",
    "#     return True if (ketchup == False and mustard== False and onion==False) else False\n",
    "    \n",
    "\n",
    "# Check your answer\n",
    "q5.b.check()"
   ]
  },
  {
   "cell_type": "code",
   "execution_count": 16,
   "id": "d26fddd4",
   "metadata": {
    "execution": {
     "iopub.execute_input": "2023-01-05T17:13:44.587816Z",
     "iopub.status.busy": "2023-01-05T17:13:44.587422Z",
     "iopub.status.idle": "2023-01-05T17:13:44.592533Z",
     "shell.execute_reply": "2023-01-05T17:13:44.591164Z"
    },
    "papermill": {
     "duration": 0.02049,
     "end_time": "2023-01-05T17:13:44.595244",
     "exception": false,
     "start_time": "2023-01-05T17:13:44.574754",
     "status": "completed"
    },
    "tags": []
   },
   "outputs": [],
   "source": [
    "#q5.b.hint()\n",
    "#q5.b.solution()"
   ]
  },
  {
   "cell_type": "markdown",
   "id": "c727861c",
   "metadata": {
    "papermill": {
     "duration": 0.011343,
     "end_time": "2023-01-05T17:13:44.618967",
     "exception": false,
     "start_time": "2023-01-05T17:13:44.607624",
     "status": "completed"
    },
    "tags": []
   },
   "source": [
    "# 5c.\n",
    "\n",
    "You know what to do: for the next function, fill in the body to match the English description in the docstring."
   ]
  },
  {
   "cell_type": "code",
   "execution_count": 17,
   "id": "3fe982df",
   "metadata": {
    "execution": {
     "iopub.execute_input": "2023-01-05T17:13:44.645757Z",
     "iopub.status.busy": "2023-01-05T17:13:44.645333Z",
     "iopub.status.idle": "2023-01-05T17:13:44.656103Z",
     "shell.execute_reply": "2023-01-05T17:13:44.654882Z"
    },
    "papermill": {
     "duration": 0.02755,
     "end_time": "2023-01-05T17:13:44.658720",
     "exception": false,
     "start_time": "2023-01-05T17:13:44.631170",
     "status": "completed"
    },
    "tags": []
   },
   "outputs": [
    {
     "data": {
      "application/javascript": [
       "parent.postMessage({\"jupyterEvent\": \"custom.exercise_interaction\", \"data\": {\"outcomeType\": 1, \"valueTowardsCompletion\": 0.2, \"interactionType\": 1, \"questionType\": 2, \"questionId\": \"5.3_OneSauce\", \"learnToolsVersion\": \"0.3.4\", \"failureMessage\": \"\", \"exceptionClass\": \"\", \"trace\": \"\"}}, \"*\")"
      ],
      "text/plain": [
       "<IPython.core.display.Javascript object>"
      ]
     },
     "metadata": {},
     "output_type": "display_data"
    },
    {
     "data": {
      "text/markdown": [
       "<span style=\"color:#33cc33\">Correct</span>"
      ],
      "text/plain": [
       "Correct"
      ]
     },
     "metadata": {},
     "output_type": "display_data"
    }
   ],
   "source": [
    "def exactly_one_sauce(ketchup, mustard, onion):\n",
    "    \"\"\"Return whether the customer wants either ketchup or mustard, but not both.\n",
    "    (You may be familiar with this operation under the name \"exclusive or\")\n",
    "    \"\"\"\n",
    "    return ((not ketchup and mustard) or  (ketchup and not mustard) \n",
    "            or (not mustard and onion)or ( mustard and not onion))\n",
    "\n",
    "# Check your answer\n",
    "q5.c.check()"
   ]
  },
  {
   "cell_type": "code",
   "execution_count": 18,
   "id": "a01abb95",
   "metadata": {
    "execution": {
     "iopub.execute_input": "2023-01-05T17:13:44.684514Z",
     "iopub.status.busy": "2023-01-05T17:13:44.684113Z",
     "iopub.status.idle": "2023-01-05T17:13:44.688371Z",
     "shell.execute_reply": "2023-01-05T17:13:44.687148Z"
    },
    "papermill": {
     "duration": 0.020152,
     "end_time": "2023-01-05T17:13:44.690983",
     "exception": false,
     "start_time": "2023-01-05T17:13:44.670831",
     "status": "completed"
    },
    "tags": []
   },
   "outputs": [],
   "source": [
    "#q5.c.hint()\n",
    "#q5.c.solution()"
   ]
  },
  {
   "cell_type": "markdown",
   "id": "aa3aceb9",
   "metadata": {
    "papermill": {
     "duration": 0.012102,
     "end_time": "2023-01-05T17:13:44.714944",
     "exception": false,
     "start_time": "2023-01-05T17:13:44.702842",
     "status": "completed"
    },
    "tags": []
   },
   "source": [
    "# 6. <span title=\"A bit spicy\" style=\"color: darkgreen \">🌶️</span>\n",
    "\n",
    "We’ve seen that calling `bool()` on an integer returns `False` if it’s equal to 0 and `True` otherwise. What happens if we call `int()` on a bool? Try it out in the notebook cell below.\n",
    "\n",
    "Can you take advantage of this to write a succinct function that corresponds to the English sentence \"does the customer want exactly one topping?\"?"
   ]
  },
  {
   "cell_type": "code",
   "execution_count": 19,
   "id": "473fa931",
   "metadata": {
    "execution": {
     "iopub.execute_input": "2023-01-05T17:13:44.740807Z",
     "iopub.status.busy": "2023-01-05T17:13:44.740433Z",
     "iopub.status.idle": "2023-01-05T17:13:44.750318Z",
     "shell.execute_reply": "2023-01-05T17:13:44.749080Z"
    },
    "papermill": {
     "duration": 0.025662,
     "end_time": "2023-01-05T17:13:44.752611",
     "exception": false,
     "start_time": "2023-01-05T17:13:44.726949",
     "status": "completed"
    },
    "tags": []
   },
   "outputs": [
    {
     "data": {
      "application/javascript": [
       "parent.postMessage({\"jupyterEvent\": \"custom.exercise_interaction\", \"data\": {\"outcomeType\": 1, \"valueTowardsCompletion\": 0.2, \"interactionType\": 1, \"questionType\": 2, \"questionId\": \"6_OneTopping\", \"learnToolsVersion\": \"0.3.4\", \"failureMessage\": \"\", \"exceptionClass\": \"\", \"trace\": \"\"}}, \"*\")"
      ],
      "text/plain": [
       "<IPython.core.display.Javascript object>"
      ]
     },
     "metadata": {},
     "output_type": "display_data"
    },
    {
     "data": {
      "text/markdown": [
       "<span style=\"color:#33cc33\">Correct:</span> \n",
       "\n",
       "This condition would be pretty complicated to express using just `and`, `or` and `not`, but using boolean-to-integer conversion gives us this short solution:\n",
       "```python\n",
       "return (int(ketchup) + int(mustard) + int(onion)) == 1\n",
       "```\n",
       "\n",
       "Fun fact: we don't technically need to call `int` on the arguments. Just by doing addition with booleans, Python implicitly does the integer conversion. So we could also write...\n",
       "\n",
       "```python\n",
       "return (ketchup + mustard + onion) == 1\n",
       "```"
      ],
      "text/plain": [
       "Correct: \n",
       "\n",
       "This condition would be pretty complicated to express using just `and`, `or` and `not`, but using boolean-to-integer conversion gives us this short solution:\n",
       "```python\n",
       "return (int(ketchup) + int(mustard) + int(onion)) == 1\n",
       "```\n",
       "\n",
       "Fun fact: we don't technically need to call `int` on the arguments. Just by doing addition with booleans, Python implicitly does the integer conversion. So we could also write...\n",
       "\n",
       "```python\n",
       "return (ketchup + mustard + onion) == 1\n",
       "```"
      ]
     },
     "metadata": {},
     "output_type": "display_data"
    }
   ],
   "source": [
    "def exactly_one_topping(ketchup, mustard, onion):\n",
    "    \"\"\"Return whether the customer wants exactly one of the three available toppings\n",
    "    on their hot dog.\n",
    "    \"\"\"\n",
    "    return (ketchup + mustard + onion) == 1\n",
    "\n",
    "# Check your answer\n",
    "q6.check()"
   ]
  },
  {
   "cell_type": "code",
   "execution_count": 20,
   "id": "45dbd123",
   "metadata": {
    "execution": {
     "iopub.execute_input": "2023-01-05T17:13:44.778977Z",
     "iopub.status.busy": "2023-01-05T17:13:44.778564Z",
     "iopub.status.idle": "2023-01-05T17:13:44.782764Z",
     "shell.execute_reply": "2023-01-05T17:13:44.781847Z"
    },
    "papermill": {
     "duration": 0.019541,
     "end_time": "2023-01-05T17:13:44.785025",
     "exception": false,
     "start_time": "2023-01-05T17:13:44.765484",
     "status": "completed"
    },
    "tags": []
   },
   "outputs": [],
   "source": [
    "#q6.hint()\n",
    "# q6.solution()"
   ]
  },
  {
   "cell_type": "markdown",
   "id": "c082589a",
   "metadata": {
    "papermill": {
     "duration": 0.011656,
     "end_time": "2023-01-05T17:13:44.808635",
     "exception": false,
     "start_time": "2023-01-05T17:13:44.796979",
     "status": "completed"
    },
    "tags": []
   },
   "source": [
    "# 7. <span title=\"A bit spicy\" style=\"color: darkgreen \">🌶️</span> (Optional)\n",
    "\n",
    "In this problem we'll be working with a simplified version of [blackjack](https://en.wikipedia.org/wiki/Blackjack) (aka twenty-one). In this version there is one player (who you'll control) and a dealer. Play proceeds as follows:\n",
    "\n",
    "- The player is dealt two face-up cards. The dealer is dealt one face-up card.\n",
    "- The player may ask to be dealt another card ('hit') as many times as they wish. If the sum of their cards exceeds 21, they lose the round immediately.\n",
    "- The dealer then deals additional cards to himself until either:\n",
    "    - the sum of the dealer's cards exceeds 21, in which case the player wins the round\n",
    "    - the sum of the dealer's cards is greater than or equal to 17. If the player's total is greater than the dealer's, the player wins. Otherwise, the dealer wins (even in case of a tie).\n",
    "    \n",
    "When calculating the sum of cards, Jack, Queen, and King count for 10. Aces can count as 1 or 11 (when referring to a player's \"total\" above, we mean the largest total that can be made without exceeding 21. So e.g. A+8 = 19, A+8+8 = 17)\n",
    "\n",
    "For this problem, you'll write a function representing the player's decision-making strategy in this game. We've provided a very unintelligent implementation below:"
   ]
  },
  {
   "cell_type": "code",
   "execution_count": 21,
   "id": "ea9a587c",
   "metadata": {
    "execution": {
     "iopub.execute_input": "2023-01-05T17:13:44.835124Z",
     "iopub.status.busy": "2023-01-05T17:13:44.833910Z",
     "iopub.status.idle": "2023-01-05T17:13:44.842874Z",
     "shell.execute_reply": "2023-01-05T17:13:44.841626Z"
    },
    "papermill": {
     "duration": 0.024484,
     "end_time": "2023-01-05T17:13:44.844988",
     "exception": false,
     "start_time": "2023-01-05T17:13:44.820504",
     "status": "completed"
    },
    "tags": []
   },
   "outputs": [
    {
     "data": {
      "application/javascript": [
       "parent.postMessage({\"jupyterEvent\": \"custom.exercise_interaction\", \"data\": {\"outcomeType\": 3, \"failureMessage\": \"Sorry, no auto-checking available for this question.\", \"exceptionClass\": \"Uncheckable\", \"trace\": \"\", \"interactionType\": 1, \"questionType\": 2, \"questionId\": \"7_BlackJackProblem\", \"learnToolsVersion\": \"0.3.4\", \"valueTowardsCompletion\": 0.0}}, \"*\")"
      ],
      "text/plain": [
       "<IPython.core.display.Javascript object>"
      ]
     },
     "metadata": {},
     "output_type": "display_data"
    },
    {
     "data": {
      "text/markdown": [
       "<span style=\"color:#cc5533\">Sorry, no auto-checking available for this question.</span>"
      ],
      "text/plain": [
       "Sorry, no auto-checking available for this question."
      ]
     },
     "metadata": {},
     "output_type": "display_data"
    }
   ],
   "source": [
    "def should_hit(dealer_total, player_total, player_low_aces, player_high_aces):\n",
    "    \"\"\"Return True if the player should hit (request another card) given the current game\n",
    "    state, or False if the player should stay.\n",
    "    When calculating a hand's total value, we count aces as \"high\" (with value 11) if doing so\n",
    "    doesn't bring the total above 21, otherwise we count them as low (with value 1). \n",
    "    For example, if the player's hand is {A, A, A, 7}, we will count it as 11 + 1 + 1 + 7,\n",
    "    and therefore set player_total=20, player_low_aces=2, player_high_aces=1.\n",
    "    \"\"\"\n",
    "    return False\n",
    "q7.check()"
   ]
  },
  {
   "cell_type": "markdown",
   "id": "36d98698",
   "metadata": {
    "papermill": {
     "duration": 0.011833,
     "end_time": "2023-01-05T17:13:44.869217",
     "exception": false,
     "start_time": "2023-01-05T17:13:44.857384",
     "status": "completed"
    },
    "tags": []
   },
   "source": [
    "This very conservative agent *always* sticks with the hand of two cards that they're dealt.\n",
    "\n",
    "We'll be simulating games between your player agent and our own dealer agent by calling your function.\n",
    "\n",
    "Try running the function below to see an example of a simulated game:"
   ]
  },
  {
   "cell_type": "code",
   "execution_count": 22,
   "id": "1ac770ff",
   "metadata": {
    "execution": {
     "iopub.execute_input": "2023-01-05T17:13:44.897722Z",
     "iopub.status.busy": "2023-01-05T17:13:44.896494Z",
     "iopub.status.idle": "2023-01-05T17:13:44.901427Z",
     "shell.execute_reply": "2023-01-05T17:13:44.900464Z"
    },
    "papermill": {
     "duration": 0.021313,
     "end_time": "2023-01-05T17:13:44.903698",
     "exception": false,
     "start_time": "2023-01-05T17:13:44.882385",
     "status": "completed"
    },
    "tags": []
   },
   "outputs": [],
   "source": [
    "# q7.simulate_one_game()"
   ]
  },
  {
   "cell_type": "markdown",
   "id": "9309c6f0",
   "metadata": {
    "papermill": {
     "duration": 0.01217,
     "end_time": "2023-01-05T17:13:44.928525",
     "exception": false,
     "start_time": "2023-01-05T17:13:44.916355",
     "status": "completed"
    },
    "tags": []
   },
   "source": [
    "The real test of your agent's mettle is their average win rate over many games. Try calling the function below to simulate 50000 games of blackjack (it may take a couple seconds):"
   ]
  },
  {
   "cell_type": "code",
   "execution_count": 23,
   "id": "23a681a2",
   "metadata": {
    "execution": {
     "iopub.execute_input": "2023-01-05T17:13:44.956293Z",
     "iopub.status.busy": "2023-01-05T17:13:44.955300Z",
     "iopub.status.idle": "2023-01-05T17:13:46.610236Z",
     "shell.execute_reply": "2023-01-05T17:13:46.608165Z"
    },
    "papermill": {
     "duration": 1.672454,
     "end_time": "2023-01-05T17:13:46.613771",
     "exception": false,
     "start_time": "2023-01-05T17:13:44.941317",
     "status": "completed"
    },
    "tags": []
   },
   "outputs": [
    {
     "name": "stdout",
     "output_type": "stream",
     "text": [
      "Player won 19043 out of 50000 games (win rate = 38.1%)\n"
     ]
    }
   ],
   "source": [
    "q7.simulate(n_games=50000)"
   ]
  },
  {
   "cell_type": "markdown",
   "id": "98bb7d6a",
   "metadata": {
    "papermill": {
     "duration": 0.012016,
     "end_time": "2023-01-05T17:13:46.638204",
     "exception": false,
     "start_time": "2023-01-05T17:13:46.626188",
     "status": "completed"
    },
    "tags": []
   },
   "source": [
    "Our dumb agent that completely ignores the game state still manages to win shockingly often!\n",
    "\n",
    "Try adding some more smarts to the `should_hit` function and see how it affects the results."
   ]
  },
  {
   "cell_type": "code",
   "execution_count": 24,
   "id": "75b37b78",
   "metadata": {
    "execution": {
     "iopub.execute_input": "2023-01-05T17:13:46.665796Z",
     "iopub.status.busy": "2023-01-05T17:13:46.665384Z",
     "iopub.status.idle": "2023-01-05T17:13:48.517855Z",
     "shell.execute_reply": "2023-01-05T17:13:48.516410Z"
    },
    "papermill": {
     "duration": 1.869664,
     "end_time": "2023-01-05T17:13:48.520644",
     "exception": false,
     "start_time": "2023-01-05T17:13:46.650980",
     "status": "completed"
    },
    "tags": []
   },
   "outputs": [
    {
     "name": "stdout",
     "output_type": "stream",
     "text": [
      "Player won 20820 out of 50000 games (win rate = 41.6%)\n"
     ]
    },
    {
     "data": {
      "application/javascript": [
       "parent.postMessage({\"jupyterEvent\": \"custom.exercise_interaction\", \"data\": {\"outcomeType\": 3, \"failureMessage\": \"Sorry, no auto-checking available for this question.\", \"exceptionClass\": \"Uncheckable\", \"trace\": \"\", \"interactionType\": 1, \"questionType\": 2, \"questionId\": \"7_BlackJackProblem\", \"learnToolsVersion\": \"0.3.4\", \"valueTowardsCompletion\": 0.0}}, \"*\")"
      ],
      "text/plain": [
       "<IPython.core.display.Javascript object>"
      ]
     },
     "metadata": {},
     "output_type": "display_data"
    },
    {
     "data": {
      "text/markdown": [
       "<span style=\"color:#cc5533\">Sorry, no auto-checking available for this question.</span>"
      ],
      "text/plain": [
       "Sorry, no auto-checking available for this question."
      ]
     },
     "metadata": {},
     "output_type": "display_data"
    }
   ],
   "source": [
    "def should_hit(dealer_total, player_total, player_low_aces, player_high_aces):\n",
    "    \"\"\"Return True if the player should hit (request another card) given the current game\n",
    "    state, or False if the player should stay.\n",
    "    When calculating a hand's total value, we count aces as \"high\" (with value 11) if doing so\n",
    "    doesn't bring the total above 21, otherwise we count them as low (with value 1). \n",
    "    For example, if the player's hand is {A, A, A, 7}, we will count it as 11 + 1 + 1 + 7,\n",
    "    and therefore set player_total=20, player_low_aces=2, player_high_aces=1.\n",
    "    \"\"\"\n",
    "    if(dealer_total < 7):\n",
    "        return False\n",
    "    elif (player_total > 16):\n",
    "        return False\n",
    "    return True\n",
    "\n",
    "q7.simulate(n_games=50000)\n",
    "q7.check()\n",
    "# q7.solution()"
   ]
  },
  {
   "cell_type": "markdown",
   "id": "0326078f",
   "metadata": {
    "papermill": {
     "duration": 0.012808,
     "end_time": "2023-01-05T17:13:48.546157",
     "exception": false,
     "start_time": "2023-01-05T17:13:48.533349",
     "status": "completed"
    },
    "tags": []
   },
   "source": [
    "# Keep Going\n",
    "\n",
    "Learn about **[lists and tuples](https://www.kaggle.com/colinmorris/lists)** to handle multiple items of data in a systematic way."
   ]
  },
  {
   "cell_type": "markdown",
   "id": "afaa3248",
   "metadata": {
    "papermill": {
     "duration": 0.012438,
     "end_time": "2023-01-05T17:13:48.571395",
     "exception": false,
     "start_time": "2023-01-05T17:13:48.558957",
     "status": "completed"
    },
    "tags": []
   },
   "source": [
    "---\n",
    "\n",
    "\n",
    "\n",
    "\n",
    "*Have questions or comments? Visit the [course discussion forum](https://www.kaggle.com/learn/python/discussion) to chat with other learners.*"
   ]
  }
 ],
 "metadata": {
  "kernelspec": {
   "display_name": "Python 3",
   "language": "python",
   "name": "python3"
  },
  "language_info": {
   "codemirror_mode": {
    "name": "ipython",
    "version": 3
   },
   "file_extension": ".py",
   "mimetype": "text/x-python",
   "name": "python",
   "nbconvert_exporter": "python",
   "pygments_lexer": "ipython3",
   "version": "3.7.12"
  },
  "papermill": {
   "default_parameters": {},
   "duration": 14.74698,
   "end_time": "2023-01-05T17:13:49.308753",
   "environment_variables": {},
   "exception": null,
   "input_path": "__notebook__.ipynb",
   "output_path": "__notebook__.ipynb",
   "parameters": {},
   "start_time": "2023-01-05T17:13:34.561773",
   "version": "2.3.4"
  }
 },
 "nbformat": 4,
 "nbformat_minor": 5
}
