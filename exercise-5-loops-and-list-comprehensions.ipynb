{
 "cells": [
  {
   "cell_type": "markdown",
   "id": "76d8ffe7",
   "metadata": {
    "papermill": {
     "duration": 0.006334,
     "end_time": "2023-01-19T07:48:49.915174",
     "exception": false,
     "start_time": "2023-01-19T07:48:49.908840",
     "status": "completed"
    },
    "tags": []
   },
   "source": [
    "**This notebook is an exercise in the [Python](https://www.kaggle.com/learn/python) course.  You can reference the tutorial at [this link](https://www.kaggle.com/colinmorris/loops-and-list-comprehensions).**\n",
    "\n",
    "---\n"
   ]
  },
  {
   "cell_type": "markdown",
   "id": "3fb4c07d",
   "metadata": {
    "papermill": {
     "duration": 0.004503,
     "end_time": "2023-01-19T07:48:49.924826",
     "exception": false,
     "start_time": "2023-01-19T07:48:49.920323",
     "status": "completed"
    },
    "tags": []
   },
   "source": [
    "With all you've learned, you can start writing much more interesting programs. See if you can solve the problems below.\n",
    "\n",
    "As always, run the setup code below before working on the questions."
   ]
  },
  {
   "cell_type": "code",
   "execution_count": 1,
   "id": "ca526acb",
   "metadata": {
    "execution": {
     "iopub.execute_input": "2023-01-19T07:48:49.937785Z",
     "iopub.status.busy": "2023-01-19T07:48:49.936792Z",
     "iopub.status.idle": "2023-01-19T07:48:49.981289Z",
     "shell.execute_reply": "2023-01-19T07:48:49.979989Z"
    },
    "papermill": {
     "duration": 0.054628,
     "end_time": "2023-01-19T07:48:49.984552",
     "exception": false,
     "start_time": "2023-01-19T07:48:49.929924",
     "status": "completed"
    },
    "tags": []
   },
   "outputs": [
    {
     "name": "stdout",
     "output_type": "stream",
     "text": [
      "Setup complete.\n"
     ]
    }
   ],
   "source": [
    "from learntools.core import binder; binder.bind(globals())\n",
    "from learntools.python.ex5 import *\n",
    "print('Setup complete.')"
   ]
  },
  {
   "cell_type": "markdown",
   "id": "b3cc6278",
   "metadata": {
    "papermill": {
     "duration": 0.004747,
     "end_time": "2023-01-19T07:48:49.994675",
     "exception": false,
     "start_time": "2023-01-19T07:48:49.989928",
     "status": "completed"
    },
    "tags": []
   },
   "source": [
    "# 1.\n",
    "\n",
    "Have you ever felt debugging involved a bit of luck? The following program has a bug. Try to identify the bug and fix it."
   ]
  },
  {
   "cell_type": "code",
   "execution_count": 2,
   "id": "0a5cd204",
   "metadata": {
    "execution": {
     "iopub.execute_input": "2023-01-19T07:48:50.006539Z",
     "iopub.status.busy": "2023-01-19T07:48:50.005617Z",
     "iopub.status.idle": "2023-01-19T07:48:50.010957Z",
     "shell.execute_reply": "2023-01-19T07:48:50.010155Z"
    },
    "papermill": {
     "duration": 0.013466,
     "end_time": "2023-01-19T07:48:50.013017",
     "exception": false,
     "start_time": "2023-01-19T07:48:49.999551",
     "status": "completed"
    },
    "tags": []
   },
   "outputs": [],
   "source": [
    "def has_lucky_number(nums):\n",
    "    \"\"\"\n",
    "    Return whether the given list of numbers is lucky. A lucky list contains\n",
    "    at least one number divisible by 7.\n",
    "    \"\"\"\n",
    "    for num in nums:\n",
    "        if num % 7 == 0:\n",
    "            return True\n",
    "        else:\n",
    "            return False"
   ]
  },
  {
   "cell_type": "markdown",
   "id": "470edd2a",
   "metadata": {
    "papermill": {
     "duration": 0.004802,
     "end_time": "2023-01-19T07:48:50.022863",
     "exception": false,
     "start_time": "2023-01-19T07:48:50.018061",
     "status": "completed"
    },
    "tags": []
   },
   "source": [
    "Try to identify the bug and fix it in the cell below:"
   ]
  },
  {
   "cell_type": "code",
   "execution_count": 3,
   "id": "86ac025a",
   "metadata": {
    "execution": {
     "iopub.execute_input": "2023-01-19T07:48:50.035079Z",
     "iopub.status.busy": "2023-01-19T07:48:50.034124Z",
     "iopub.status.idle": "2023-01-19T07:48:50.046607Z",
     "shell.execute_reply": "2023-01-19T07:48:50.045183Z"
    },
    "papermill": {
     "duration": 0.021312,
     "end_time": "2023-01-19T07:48:50.049150",
     "exception": false,
     "start_time": "2023-01-19T07:48:50.027838",
     "status": "completed"
    },
    "tags": []
   },
   "outputs": [
    {
     "data": {
      "application/javascript": [
       "parent.postMessage({\"jupyterEvent\": \"custom.exercise_interaction\", \"data\": {\"outcomeType\": 1, \"valueTowardsCompletion\": 0.25, \"interactionType\": 1, \"questionType\": 2, \"questionId\": \"1_EarlyExitDebugging\", \"learnToolsVersion\": \"0.3.4\", \"failureMessage\": \"\", \"exceptionClass\": \"\", \"trace\": \"\"}}, \"*\")"
      ],
      "text/plain": [
       "<IPython.core.display.Javascript object>"
      ]
     },
     "metadata": {},
     "output_type": "display_data"
    },
    {
     "data": {
      "text/markdown": [
       "<span style=\"color:#33cc33\">Correct:</span> \n",
       "\n",
       "Remember that `return` causes a function to exit immediately. So our original implementation always ran for just one iteration. We can only return `False` if we've looked at every element of the list (and confirmed that none of them are lucky). Though we can return early if the answer is `True`:\n",
       "\n",
       "```python\n",
       "def has_lucky_number(nums):\n",
       "    for num in nums:\n",
       "        if num % 7 == 0:\n",
       "            return True\n",
       "    # We've exhausted the list without finding a lucky number\n",
       "    return False\n",
       "```\n",
       "\n",
       "Here's a one-line version using a list comprehension with Python's `any` function (you can read about what it does by calling `help(any)`):\n",
       "\n",
       "```python\n",
       "def has_lucky_number(nums):\n",
       "    return any([num % 7 == 0 for num in nums])\n",
       "```\n"
      ],
      "text/plain": [
       "Correct: \n",
       "\n",
       "Remember that `return` causes a function to exit immediately. So our original implementation always ran for just one iteration. We can only return `False` if we've looked at every element of the list (and confirmed that none of them are lucky). Though we can return early if the answer is `True`:\n",
       "\n",
       "```python\n",
       "def has_lucky_number(nums):\n",
       "    for num in nums:\n",
       "        if num % 7 == 0:\n",
       "            return True\n",
       "    # We've exhausted the list without finding a lucky number\n",
       "    return False\n",
       "```\n",
       "\n",
       "Here's a one-line version using a list comprehension with Python's `any` function (you can read about what it does by calling `help(any)`):\n",
       "\n",
       "```python\n",
       "def has_lucky_number(nums):\n",
       "    return any([num % 7 == 0 for num in nums])\n",
       "```"
      ]
     },
     "metadata": {},
     "output_type": "display_data"
    }
   ],
   "source": [
    "def has_lucky_number(nums):\n",
    "    \"\"\"\n",
    "    Return whether the given list of numbers is lucky. A lucky list contains\n",
    "    at least one number divisible by 7.\n",
    "    \"\"\"\n",
    "    lucky = []\n",
    "    for num in nums:\n",
    "        if num % 7 == 0:\n",
    "            return True\n",
    "    return False\n",
    "\n",
    "# Check your answer\n",
    "q1.check()"
   ]
  },
  {
   "cell_type": "code",
   "execution_count": 4,
   "id": "7ec71486",
   "metadata": {
    "execution": {
     "iopub.execute_input": "2023-01-19T07:48:50.061926Z",
     "iopub.status.busy": "2023-01-19T07:48:50.061281Z",
     "iopub.status.idle": "2023-01-19T07:48:50.065836Z",
     "shell.execute_reply": "2023-01-19T07:48:50.064562Z"
    },
    "papermill": {
     "duration": 0.013397,
     "end_time": "2023-01-19T07:48:50.068122",
     "exception": false,
     "start_time": "2023-01-19T07:48:50.054725",
     "status": "completed"
    },
    "tags": []
   },
   "outputs": [],
   "source": [
    "#q1.hint()\n",
    "#q1.solution()"
   ]
  },
  {
   "cell_type": "markdown",
   "id": "a40d4cdd",
   "metadata": {
    "papermill": {
     "duration": 0.006914,
     "end_time": "2023-01-19T07:48:50.080877",
     "exception": false,
     "start_time": "2023-01-19T07:48:50.073963",
     "status": "completed"
    },
    "tags": []
   },
   "source": [
    "# 2.\n",
    "Look at the Python expression below. What do you think we'll get when we run it? When you've made your prediction, uncomment the code and run the cell to see if you were right."
   ]
  },
  {
   "cell_type": "code",
   "execution_count": 5,
   "id": "9d389cf0",
   "metadata": {
    "execution": {
     "iopub.execute_input": "2023-01-19T07:48:50.094230Z",
     "iopub.status.busy": "2023-01-19T07:48:50.093590Z",
     "iopub.status.idle": "2023-01-19T07:48:50.097583Z",
     "shell.execute_reply": "2023-01-19T07:48:50.096773Z"
    },
    "papermill": {
     "duration": 0.013344,
     "end_time": "2023-01-19T07:48:50.099820",
     "exception": false,
     "start_time": "2023-01-19T07:48:50.086476",
     "status": "completed"
    },
    "tags": []
   },
   "outputs": [],
   "source": [
    "#[1, 2, 3, 4] > 2"
   ]
  },
  {
   "cell_type": "markdown",
   "id": "69f4e8d4",
   "metadata": {
    "papermill": {
     "duration": 0.005385,
     "end_time": "2023-01-19T07:48:50.111271",
     "exception": false,
     "start_time": "2023-01-19T07:48:50.105886",
     "status": "completed"
    },
    "tags": []
   },
   "source": [
    "R and Python have some libraries (like numpy and pandas) compare each element of the list to 2 (i.e. do an 'element-wise' comparison) and give us a list of booleans like `[False, False, True, True]`. \n",
    "\n",
    "Implement a function that reproduces this behaviour, returning a list of booleans corresponding to whether the corresponding element is greater than n."
   ]
  },
  {
   "cell_type": "code",
   "execution_count": 6,
   "id": "a16c6dff",
   "metadata": {
    "execution": {
     "iopub.execute_input": "2023-01-19T07:48:50.124832Z",
     "iopub.status.busy": "2023-01-19T07:48:50.123833Z",
     "iopub.status.idle": "2023-01-19T07:48:50.133567Z",
     "shell.execute_reply": "2023-01-19T07:48:50.132419Z"
    },
    "papermill": {
     "duration": 0.018987,
     "end_time": "2023-01-19T07:48:50.135868",
     "exception": false,
     "start_time": "2023-01-19T07:48:50.116881",
     "status": "completed"
    },
    "tags": []
   },
   "outputs": [
    {
     "data": {
      "application/javascript": [
       "parent.postMessage({\"jupyterEvent\": \"custom.exercise_interaction\", \"data\": {\"outcomeType\": 4, \"interactionType\": 1, \"questionType\": 2, \"questionId\": \"2_ElementWiseComparison\", \"learnToolsVersion\": \"0.3.4\", \"valueTowardsCompletion\": 0.0, \"failureMessage\": \"\", \"exceptionClass\": \"\", \"trace\": \"\"}}, \"*\")"
      ],
      "text/plain": [
       "<IPython.core.display.Javascript object>"
      ]
     },
     "metadata": {},
     "output_type": "display_data"
    },
    {
     "data": {
      "text/markdown": [
       "<span style=\"color:#ccaa33\">Check:</span> When you've updated the starter code, `check()` will tell you whether your code is correct. "
      ],
      "text/plain": [
       "Check: When you've updated the starter code, `check()` will tell you whether your code is correct. "
      ]
     },
     "metadata": {},
     "output_type": "display_data"
    }
   ],
   "source": [
    "def elementwise_greater_than(L, thresh):\n",
    "    \"\"\"Return a list with the same length as L, where the value at index i is \n",
    "    True if L[i] is greater than thresh, and False otherwise.\n",
    "    \n",
    "    >>> elementwise_greater_than([1, 2, 3, 4], 2)\n",
    "    [False, False, True, True]\n",
    "    \"\"\"\n",
    "    pass\n",
    "\n",
    "# Check your answer\n",
    "q2.check()"
   ]
  },
  {
   "cell_type": "code",
   "execution_count": 7,
   "id": "e25aa5ad",
   "metadata": {
    "execution": {
     "iopub.execute_input": "2023-01-19T07:48:50.149445Z",
     "iopub.status.busy": "2023-01-19T07:48:50.148992Z",
     "iopub.status.idle": "2023-01-19T07:48:50.154010Z",
     "shell.execute_reply": "2023-01-19T07:48:50.152698Z"
    },
    "papermill": {
     "duration": 0.014521,
     "end_time": "2023-01-19T07:48:50.156329",
     "exception": false,
     "start_time": "2023-01-19T07:48:50.141808",
     "status": "completed"
    },
    "tags": []
   },
   "outputs": [],
   "source": [
    "#q2.solution()"
   ]
  },
  {
   "cell_type": "markdown",
   "id": "cf4c4ca8",
   "metadata": {
    "papermill": {
     "duration": 0.005605,
     "end_time": "2023-01-19T07:48:50.168139",
     "exception": false,
     "start_time": "2023-01-19T07:48:50.162534",
     "status": "completed"
    },
    "tags": []
   },
   "source": [
    "# 3.\n",
    "\n",
    "Complete the body of the function below according to its docstring."
   ]
  },
  {
   "cell_type": "code",
   "execution_count": 8,
   "id": "026c90d3",
   "metadata": {
    "execution": {
     "iopub.execute_input": "2023-01-19T07:48:50.181971Z",
     "iopub.status.busy": "2023-01-19T07:48:50.181541Z",
     "iopub.status.idle": "2023-01-19T07:48:50.190884Z",
     "shell.execute_reply": "2023-01-19T07:48:50.189879Z"
    },
    "papermill": {
     "duration": 0.019032,
     "end_time": "2023-01-19T07:48:50.193233",
     "exception": false,
     "start_time": "2023-01-19T07:48:50.174201",
     "status": "completed"
    },
    "tags": []
   },
   "outputs": [
    {
     "data": {
      "application/javascript": [
       "parent.postMessage({\"jupyterEvent\": \"custom.exercise_interaction\", \"data\": {\"outcomeType\": 4, \"interactionType\": 1, \"questionType\": 2, \"questionId\": \"3_BoringMenu\", \"learnToolsVersion\": \"0.3.4\", \"valueTowardsCompletion\": 0.0, \"failureMessage\": \"\", \"exceptionClass\": \"\", \"trace\": \"\"}}, \"*\")"
      ],
      "text/plain": [
       "<IPython.core.display.Javascript object>"
      ]
     },
     "metadata": {},
     "output_type": "display_data"
    },
    {
     "data": {
      "text/markdown": [
       "<span style=\"color:#ccaa33\">Check:</span> When you've updated the starter code, `check()` will tell you whether your code is correct. "
      ],
      "text/plain": [
       "Check: When you've updated the starter code, `check()` will tell you whether your code is correct. "
      ]
     },
     "metadata": {},
     "output_type": "display_data"
    }
   ],
   "source": [
    "def menu_is_boring(meals):\n",
    "    \"\"\"Given a list of meals served over some period of time, return True if the\n",
    "    same meal has ever been served two days in a row, and False otherwise.\n",
    "    \"\"\"\n",
    "    pass\n",
    "\n",
    "# Check your answer\n",
    "q3.check()"
   ]
  },
  {
   "cell_type": "code",
   "execution_count": 9,
   "id": "1e2050dc",
   "metadata": {
    "execution": {
     "iopub.execute_input": "2023-01-19T07:48:50.208127Z",
     "iopub.status.busy": "2023-01-19T07:48:50.207750Z",
     "iopub.status.idle": "2023-01-19T07:48:50.211388Z",
     "shell.execute_reply": "2023-01-19T07:48:50.210627Z"
    },
    "papermill": {
     "duration": 0.014047,
     "end_time": "2023-01-19T07:48:50.213571",
     "exception": false,
     "start_time": "2023-01-19T07:48:50.199524",
     "status": "completed"
    },
    "tags": []
   },
   "outputs": [],
   "source": [
    "#q3.hint()\n",
    "#q3.solution()"
   ]
  },
  {
   "cell_type": "markdown",
   "id": "a2cd448a",
   "metadata": {
    "papermill": {
     "duration": 0.006048,
     "end_time": "2023-01-19T07:48:50.225959",
     "exception": false,
     "start_time": "2023-01-19T07:48:50.219911",
     "status": "completed"
    },
    "tags": []
   },
   "source": [
    "# 4. <span title=\"A bit spicy\" style=\"color: darkgreen \">🌶️</span>\n",
    "\n",
    "Next to the Blackjack table, the Python Challenge Casino has a slot machine. You can get a result from the slot machine by calling `play_slot_machine()`. The number it returns is your winnings in dollars. Usually it returns 0.  But sometimes you'll get lucky and get a big payday. Try running it below:"
   ]
  },
  {
   "cell_type": "code",
   "execution_count": 10,
   "id": "6624ec5f",
   "metadata": {
    "execution": {
     "iopub.execute_input": "2023-01-19T07:48:50.240755Z",
     "iopub.status.busy": "2023-01-19T07:48:50.239996Z",
     "iopub.status.idle": "2023-01-19T07:48:50.246703Z",
     "shell.execute_reply": "2023-01-19T07:48:50.245432Z"
    },
    "papermill": {
     "duration": 0.017032,
     "end_time": "2023-01-19T07:48:50.249385",
     "exception": false,
     "start_time": "2023-01-19T07:48:50.232353",
     "status": "completed"
    },
    "tags": []
   },
   "outputs": [
    {
     "data": {
      "text/plain": [
       "100"
      ]
     },
     "execution_count": 10,
     "metadata": {},
     "output_type": "execute_result"
    }
   ],
   "source": [
    "play_slot_machine()"
   ]
  },
  {
   "cell_type": "markdown",
   "id": "e2b6fe86",
   "metadata": {
    "papermill": {
     "duration": 0.006078,
     "end_time": "2023-01-19T07:48:50.262218",
     "exception": false,
     "start_time": "2023-01-19T07:48:50.256140",
     "status": "completed"
    },
    "tags": []
   },
   "source": [
    "By the way, did we mention that each play costs $1? Don't worry, we'll send you the bill later.\n",
    "\n",
    "On average, how much money can you expect to gain (or lose) every time you play the machine?  The casino keeps it a secret, but you can estimate the average value of each pull using a technique called the **Monte Carlo method**. To estimate the average outcome, we simulate the scenario many times, and return the average result.\n",
    "\n",
    "Complete the following function to calculate the average value per play of the slot machine."
   ]
  },
  {
   "cell_type": "code",
   "execution_count": 11,
   "id": "c2495210",
   "metadata": {
    "execution": {
     "iopub.execute_input": "2023-01-19T07:48:50.277004Z",
     "iopub.status.busy": "2023-01-19T07:48:50.276568Z",
     "iopub.status.idle": "2023-01-19T07:48:50.282214Z",
     "shell.execute_reply": "2023-01-19T07:48:50.280943Z"
    },
    "papermill": {
     "duration": 0.015795,
     "end_time": "2023-01-19T07:48:50.284600",
     "exception": false,
     "start_time": "2023-01-19T07:48:50.268805",
     "status": "completed"
    },
    "tags": []
   },
   "outputs": [],
   "source": [
    "def estimate_average_slot_payout(n_runs):\n",
    "    \"\"\"Run the slot machine n_runs times and return the average net profit per run.\n",
    "    Example calls (note that return value is nondeterministic!):\n",
    "    >>> estimate_average_slot_payout(1)\n",
    "    -1\n",
    "    >>> estimate_average_slot_payout(1)\n",
    "    0.5\n",
    "    \"\"\"\n",
    "    pass"
   ]
  },
  {
   "cell_type": "markdown",
   "id": "fc4bc38b",
   "metadata": {
    "papermill": {
     "duration": 0.006538,
     "end_time": "2023-01-19T07:48:50.297775",
     "exception": false,
     "start_time": "2023-01-19T07:48:50.291237",
     "status": "completed"
    },
    "tags": []
   },
   "source": [
    "When you think you know the expected value per spin, run the code cell below to view the solution and get credit for answering the question."
   ]
  },
  {
   "cell_type": "code",
   "execution_count": 12,
   "id": "9c55eec9",
   "metadata": {
    "execution": {
     "iopub.execute_input": "2023-01-19T07:48:50.312742Z",
     "iopub.status.busy": "2023-01-19T07:48:50.312299Z",
     "iopub.status.idle": "2023-01-19T07:48:50.321464Z",
     "shell.execute_reply": "2023-01-19T07:48:50.320322Z"
    },
    "papermill": {
     "duration": 0.019369,
     "end_time": "2023-01-19T07:48:50.323787",
     "exception": false,
     "start_time": "2023-01-19T07:48:50.304418",
     "status": "completed"
    },
    "tags": []
   },
   "outputs": [
    {
     "data": {
      "application/javascript": [
       "parent.postMessage({\"jupyterEvent\": \"custom.exercise_interaction\", \"data\": {\"interactionType\": 3, \"questionType\": 4, \"questionId\": \"4_ExpectedSlotsPayout\", \"learnToolsVersion\": \"0.3.4\", \"valueTowardsCompletion\": 0.0, \"failureMessage\": \"\", \"exceptionClass\": \"\", \"trace\": \"\", \"outcomeType\": 4}}, \"*\")"
      ],
      "text/plain": [
       "<IPython.core.display.Javascript object>"
      ]
     },
     "metadata": {},
     "output_type": "display_data"
    },
    {
     "data": {
      "text/markdown": [
       "<span style=\"color:#33cc99\">Solution:</span> \n",
       "    \n",
       "The exact expected value of one pull of the slot machine is 0.025 - i.e. a little more than 2 cents.  See?  Not every game in the Python Challenge Casino is rigged against the player!\n",
       "\n",
       "In order to get this answer, you'll need to implement the `estimate_average_slot_payout(n_runs)` function to simulate pulling the slot machine `n_runs` times.  It should return the payout averaged over those `n_runs`.\n",
       "\n",
       "Then, once the function is defined, in order to estimate the average slot payout, we need only call the function.\n",
       "\n",
       "Because of the high variance of the outcome (there are some very rare high payout results that significantly affect the average) you might need to run your function with a very high value of `n_runs` to get a stable answer close to the true expectation.  For instance, you might use a value for `n_runs` of 1000000.\n",
       "\n",
       "Here's an example for how the function could look:\n",
       "```python\n",
       "def estimate_average_slot_payout(n_runs):\n",
       "    # Play slot machine n_runs times, calculate payout of each\n",
       "    payouts = [play_slot_machine()-1 for i in range(n_runs)]\n",
       "    # Calculate the average value\n",
       "    avg_payout = sum(payouts) / n_runs\n",
       "    return avg_payout\n",
       "    \n",
       "estimate_average_slot_payout(10000000)\n",
       "\n",
       "```\n",
       "\n",
       "This should return an answer close to 0.025!\n",
       "            \n"
      ],
      "text/plain": [
       "Solution: \n",
       "    \n",
       "The exact expected value of one pull of the slot machine is 0.025 - i.e. a little more than 2 cents.  See?  Not every game in the Python Challenge Casino is rigged against the player!\n",
       "\n",
       "In order to get this answer, you'll need to implement the `estimate_average_slot_payout(n_runs)` function to simulate pulling the slot machine `n_runs` times.  It should return the payout averaged over those `n_runs`.\n",
       "\n",
       "Then, once the function is defined, in order to estimate the average slot payout, we need only call the function.\n",
       "\n",
       "Because of the high variance of the outcome (there are some very rare high payout results that significantly affect the average) you might need to run your function with a very high value of `n_runs` to get a stable answer close to the true expectation.  For instance, you might use a value for `n_runs` of 1000000.\n",
       "\n",
       "Here's an example for how the function could look:\n",
       "```python\n",
       "def estimate_average_slot_payout(n_runs):\n",
       "    # Play slot machine n_runs times, calculate payout of each\n",
       "    payouts = [play_slot_machine()-1 for i in range(n_runs)]\n",
       "    # Calculate the average value\n",
       "    avg_payout = sum(payouts) / n_runs\n",
       "    return avg_payout\n",
       "    \n",
       "estimate_average_slot_payout(10000000)\n",
       "\n",
       "```\n",
       "\n",
       "This should return an answer close to 0.025!\n",
       "            "
      ]
     },
     "metadata": {},
     "output_type": "display_data"
    }
   ],
   "source": [
    "# Check your answer (Run this code cell to receive credit!)\n",
    "q4.solution()"
   ]
  },
  {
   "cell_type": "markdown",
   "id": "f33e6096",
   "metadata": {
    "papermill": {
     "duration": 0.006464,
     "end_time": "2023-01-19T07:48:50.337185",
     "exception": false,
     "start_time": "2023-01-19T07:48:50.330721",
     "status": "completed"
    },
    "tags": []
   },
   "source": [
    "# Keep Going\n",
    "\n",
    "Many programmers report that dictionaries are their favorite data structure. You'll get to **[learn about them](https://www.kaggle.com/colinmorris/strings-and-dictionaries)** (as well as strings) in the next lesson."
   ]
  },
  {
   "cell_type": "markdown",
   "id": "d652b0bc",
   "metadata": {
    "papermill": {
     "duration": 0.006505,
     "end_time": "2023-01-19T07:48:50.350526",
     "exception": false,
     "start_time": "2023-01-19T07:48:50.344021",
     "status": "completed"
    },
    "tags": []
   },
   "source": [
    "---\n",
    "\n",
    "\n",
    "\n",
    "\n",
    "*Have questions or comments? Visit the [course discussion forum](https://www.kaggle.com/learn/python/discussion) to chat with other learners.*"
   ]
  }
 ],
 "metadata": {
  "kernelspec": {
   "display_name": "Python 3",
   "language": "python",
   "name": "python3"
  },
  "language_info": {
   "codemirror_mode": {
    "name": "ipython",
    "version": 3
   },
   "file_extension": ".py",
   "mimetype": "text/x-python",
   "name": "python",
   "nbconvert_exporter": "python",
   "pygments_lexer": "ipython3",
   "version": "3.7.12"
  },
  "papermill": {
   "default_parameters": {},
   "duration": 9.474456,
   "end_time": "2023-01-19T07:48:50.978593",
   "environment_variables": {},
   "exception": null,
   "input_path": "__notebook__.ipynb",
   "output_path": "__notebook__.ipynb",
   "parameters": {},
   "start_time": "2023-01-19T07:48:41.504137",
   "version": "2.3.4"
  }
 },
 "nbformat": 4,
 "nbformat_minor": 5
}
