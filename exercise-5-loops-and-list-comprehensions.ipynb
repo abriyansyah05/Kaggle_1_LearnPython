{
 "cells": [
  {
   "cell_type": "markdown",
   "id": "0f9de85c",
   "metadata": {
    "papermill": {
     "duration": 0.007048,
     "end_time": "2023-01-19T07:56:17.483521",
     "exception": false,
     "start_time": "2023-01-19T07:56:17.476473",
     "status": "completed"
    },
    "tags": []
   },
   "source": [
    "**This notebook is an exercise in the [Python](https://www.kaggle.com/learn/python) course.  You can reference the tutorial at [this link](https://www.kaggle.com/colinmorris/loops-and-list-comprehensions).**\n",
    "\n",
    "---\n"
   ]
  },
  {
   "cell_type": "markdown",
   "id": "cd415e72",
   "metadata": {
    "papermill": {
     "duration": 0.004698,
     "end_time": "2023-01-19T07:56:17.493439",
     "exception": false,
     "start_time": "2023-01-19T07:56:17.488741",
     "status": "completed"
    },
    "tags": []
   },
   "source": [
    "With all you've learned, you can start writing much more interesting programs. See if you can solve the problems below.\n",
    "\n",
    "As always, run the setup code below before working on the questions."
   ]
  },
  {
   "cell_type": "code",
   "execution_count": 1,
   "id": "aff04dcb",
   "metadata": {
    "execution": {
     "iopub.execute_input": "2023-01-19T07:56:17.506437Z",
     "iopub.status.busy": "2023-01-19T07:56:17.505434Z",
     "iopub.status.idle": "2023-01-19T07:56:17.556025Z",
     "shell.execute_reply": "2023-01-19T07:56:17.554945Z"
    },
    "papermill": {
     "duration": 0.061772,
     "end_time": "2023-01-19T07:56:17.560307",
     "exception": false,
     "start_time": "2023-01-19T07:56:17.498535",
     "status": "completed"
    },
    "tags": []
   },
   "outputs": [
    {
     "name": "stdout",
     "output_type": "stream",
     "text": [
      "Setup complete.\n"
     ]
    }
   ],
   "source": [
    "from learntools.core import binder; binder.bind(globals())\n",
    "from learntools.python.ex5 import *\n",
    "print('Setup complete.')"
   ]
  },
  {
   "cell_type": "markdown",
   "id": "60c8d4dc",
   "metadata": {
    "papermill": {
     "duration": 0.005718,
     "end_time": "2023-01-19T07:56:17.574176",
     "exception": false,
     "start_time": "2023-01-19T07:56:17.568458",
     "status": "completed"
    },
    "tags": []
   },
   "source": [
    "# 1.\n",
    "\n",
    "Have you ever felt debugging involved a bit of luck? The following program has a bug. Try to identify the bug and fix it."
   ]
  },
  {
   "cell_type": "code",
   "execution_count": 2,
   "id": "db9b2af2",
   "metadata": {
    "execution": {
     "iopub.execute_input": "2023-01-19T07:56:17.588212Z",
     "iopub.status.busy": "2023-01-19T07:56:17.586940Z",
     "iopub.status.idle": "2023-01-19T07:56:17.592823Z",
     "shell.execute_reply": "2023-01-19T07:56:17.591989Z"
    },
    "papermill": {
     "duration": 0.015441,
     "end_time": "2023-01-19T07:56:17.595049",
     "exception": false,
     "start_time": "2023-01-19T07:56:17.579608",
     "status": "completed"
    },
    "tags": []
   },
   "outputs": [],
   "source": [
    "def has_lucky_number(nums):\n",
    "    \"\"\"\n",
    "    Return whether the given list of numbers is lucky. A lucky list contains\n",
    "    at least one number divisible by 7.\n",
    "    \"\"\"\n",
    "    for num in nums:\n",
    "        if num % 7 == 0:\n",
    "            return True\n",
    "        else:\n",
    "            return False"
   ]
  },
  {
   "cell_type": "markdown",
   "id": "1327b12c",
   "metadata": {
    "papermill": {
     "duration": 0.006565,
     "end_time": "2023-01-19T07:56:17.607724",
     "exception": false,
     "start_time": "2023-01-19T07:56:17.601159",
     "status": "completed"
    },
    "tags": []
   },
   "source": [
    "Try to identify the bug and fix it in the cell below:"
   ]
  },
  {
   "cell_type": "code",
   "execution_count": 3,
   "id": "ab34eef4",
   "metadata": {
    "execution": {
     "iopub.execute_input": "2023-01-19T07:56:17.622566Z",
     "iopub.status.busy": "2023-01-19T07:56:17.622166Z",
     "iopub.status.idle": "2023-01-19T07:56:17.634979Z",
     "shell.execute_reply": "2023-01-19T07:56:17.633780Z"
    },
    "papermill": {
     "duration": 0.022009,
     "end_time": "2023-01-19T07:56:17.637767",
     "exception": false,
     "start_time": "2023-01-19T07:56:17.615758",
     "status": "completed"
    },
    "tags": []
   },
   "outputs": [
    {
     "data": {
      "application/javascript": [
       "parent.postMessage({\"jupyterEvent\": \"custom.exercise_interaction\", \"data\": {\"outcomeType\": 1, \"valueTowardsCompletion\": 0.25, \"interactionType\": 1, \"questionType\": 2, \"questionId\": \"1_EarlyExitDebugging\", \"learnToolsVersion\": \"0.3.4\", \"failureMessage\": \"\", \"exceptionClass\": \"\", \"trace\": \"\"}}, \"*\")"
      ],
      "text/plain": [
       "<IPython.core.display.Javascript object>"
      ]
     },
     "metadata": {},
     "output_type": "display_data"
    },
    {
     "data": {
      "text/markdown": [
       "<span style=\"color:#33cc33\">Correct:</span> \n",
       "\n",
       "Remember that `return` causes a function to exit immediately. So our original implementation always ran for just one iteration. We can only return `False` if we've looked at every element of the list (and confirmed that none of them are lucky). Though we can return early if the answer is `True`:\n",
       "\n",
       "```python\n",
       "def has_lucky_number(nums):\n",
       "    for num in nums:\n",
       "        if num % 7 == 0:\n",
       "            return True\n",
       "    # We've exhausted the list without finding a lucky number\n",
       "    return False\n",
       "```\n",
       "\n",
       "Here's a one-line version using a list comprehension with Python's `any` function (you can read about what it does by calling `help(any)`):\n",
       "\n",
       "```python\n",
       "def has_lucky_number(nums):\n",
       "    return any([num % 7 == 0 for num in nums])\n",
       "```\n"
      ],
      "text/plain": [
       "Correct: \n",
       "\n",
       "Remember that `return` causes a function to exit immediately. So our original implementation always ran for just one iteration. We can only return `False` if we've looked at every element of the list (and confirmed that none of them are lucky). Though we can return early if the answer is `True`:\n",
       "\n",
       "```python\n",
       "def has_lucky_number(nums):\n",
       "    for num in nums:\n",
       "        if num % 7 == 0:\n",
       "            return True\n",
       "    # We've exhausted the list without finding a lucky number\n",
       "    return False\n",
       "```\n",
       "\n",
       "Here's a one-line version using a list comprehension with Python's `any` function (you can read about what it does by calling `help(any)`):\n",
       "\n",
       "```python\n",
       "def has_lucky_number(nums):\n",
       "    return any([num % 7 == 0 for num in nums])\n",
       "```"
      ]
     },
     "metadata": {},
     "output_type": "display_data"
    }
   ],
   "source": [
    "def has_lucky_number(nums):\n",
    "    \"\"\"\n",
    "    Return whether the given list of numbers is lucky. A lucky list contains\n",
    "    at least one number divisible by 7.\n",
    "    \"\"\"\n",
    "    lucky = []\n",
    "    for num in nums:\n",
    "        if num % 7 == 0:\n",
    "            return True\n",
    "    return False\n",
    "\n",
    "# Check your answer\n",
    "q1.check()"
   ]
  },
  {
   "cell_type": "code",
   "execution_count": 4,
   "id": "7057cf7a",
   "metadata": {
    "execution": {
     "iopub.execute_input": "2023-01-19T07:56:17.651217Z",
     "iopub.status.busy": "2023-01-19T07:56:17.650818Z",
     "iopub.status.idle": "2023-01-19T07:56:17.655067Z",
     "shell.execute_reply": "2023-01-19T07:56:17.653888Z"
    },
    "papermill": {
     "duration": 0.013568,
     "end_time": "2023-01-19T07:56:17.657275",
     "exception": false,
     "start_time": "2023-01-19T07:56:17.643707",
     "status": "completed"
    },
    "tags": []
   },
   "outputs": [],
   "source": [
    "#q1.hint()\n",
    "#q1.solution()"
   ]
  },
  {
   "cell_type": "markdown",
   "id": "de025618",
   "metadata": {
    "papermill": {
     "duration": 0.006759,
     "end_time": "2023-01-19T07:56:17.669581",
     "exception": false,
     "start_time": "2023-01-19T07:56:17.662822",
     "status": "completed"
    },
    "tags": []
   },
   "source": [
    "# 2.\n",
    "Look at the Python expression below. What do you think we'll get when we run it? When you've made your prediction, uncomment the code and run the cell to see if you were right."
   ]
  },
  {
   "cell_type": "code",
   "execution_count": 5,
   "id": "94c954fa",
   "metadata": {
    "execution": {
     "iopub.execute_input": "2023-01-19T07:56:17.682404Z",
     "iopub.status.busy": "2023-01-19T07:56:17.681544Z",
     "iopub.status.idle": "2023-01-19T07:56:17.687104Z",
     "shell.execute_reply": "2023-01-19T07:56:17.685998Z"
    },
    "papermill": {
     "duration": 0.014959,
     "end_time": "2023-01-19T07:56:17.689972",
     "exception": false,
     "start_time": "2023-01-19T07:56:17.675013",
     "status": "completed"
    },
    "tags": []
   },
   "outputs": [],
   "source": [
    "#[1, 2, 3, 4] > 2"
   ]
  },
  {
   "cell_type": "markdown",
   "id": "bcdcf5f0",
   "metadata": {
    "papermill": {
     "duration": 0.005341,
     "end_time": "2023-01-19T07:56:17.701193",
     "exception": false,
     "start_time": "2023-01-19T07:56:17.695852",
     "status": "completed"
    },
    "tags": []
   },
   "source": [
    "R and Python have some libraries (like numpy and pandas) compare each element of the list to 2 (i.e. do an 'element-wise' comparison) and give us a list of booleans like `[False, False, True, True]`. \n",
    "\n",
    "Implement a function that reproduces this behaviour, returning a list of booleans corresponding to whether the corresponding element is greater than n."
   ]
  },
  {
   "cell_type": "code",
   "execution_count": 6,
   "id": "63e7746a",
   "metadata": {
    "execution": {
     "iopub.execute_input": "2023-01-19T07:56:17.714056Z",
     "iopub.status.busy": "2023-01-19T07:56:17.713636Z",
     "iopub.status.idle": "2023-01-19T07:56:17.724215Z",
     "shell.execute_reply": "2023-01-19T07:56:17.723143Z"
    },
    "papermill": {
     "duration": 0.019848,
     "end_time": "2023-01-19T07:56:17.726597",
     "exception": false,
     "start_time": "2023-01-19T07:56:17.706749",
     "status": "completed"
    },
    "tags": []
   },
   "outputs": [
    {
     "data": {
      "application/javascript": [
       "parent.postMessage({\"jupyterEvent\": \"custom.exercise_interaction\", \"data\": {\"outcomeType\": 1, \"valueTowardsCompletion\": 0.25, \"interactionType\": 1, \"questionType\": 2, \"questionId\": \"2_ElementWiseComparison\", \"learnToolsVersion\": \"0.3.4\", \"failureMessage\": \"\", \"exceptionClass\": \"\", \"trace\": \"\"}}, \"*\")"
      ],
      "text/plain": [
       "<IPython.core.display.Javascript object>"
      ]
     },
     "metadata": {},
     "output_type": "display_data"
    },
    {
     "data": {
      "text/markdown": [
       "<span style=\"color:#33cc33\">Correct:</span> \n",
       "\n",
       "Here's one solution:\n",
       "```python\n",
       "def elementwise_greater_than(L, thresh):\n",
       "    res = []\n",
       "    for ele in L:\n",
       "        res.append(ele > thresh)\n",
       "    return res\n",
       "```\n",
       "\n",
       "And here's the list comprehension version:\n",
       "```python\n",
       "def elementwise_greater_than(L, thresh):\n",
       "    return [ele > thresh for ele in L]\n",
       "```\n"
      ],
      "text/plain": [
       "Correct: \n",
       "\n",
       "Here's one solution:\n",
       "```python\n",
       "def elementwise_greater_than(L, thresh):\n",
       "    res = []\n",
       "    for ele in L:\n",
       "        res.append(ele > thresh)\n",
       "    return res\n",
       "```\n",
       "\n",
       "And here's the list comprehension version:\n",
       "```python\n",
       "def elementwise_greater_than(L, thresh):\n",
       "    return [ele > thresh for ele in L]\n",
       "```"
      ]
     },
     "metadata": {},
     "output_type": "display_data"
    }
   ],
   "source": [
    "def elementwise_greater_than(L, thresh):\n",
    "    \"\"\"Return a list with the same length as L, where the value at index i is \n",
    "    True if L[i] is greater than thresh, and False otherwise.\n",
    "    \n",
    "    >>> elementwise_greater_than([1, 2, 3, 4], 2)\n",
    "    [False, False, True, True]\n",
    "    \"\"\"\n",
    "    K = []\n",
    "    for i in L:\n",
    "        if i > thresh:\n",
    "            K.append(True)\n",
    "        else :\n",
    "            K.append(False)\n",
    "            \n",
    "    return K\n",
    "\n",
    "# Check your answer\n",
    "q2.check()"
   ]
  },
  {
   "cell_type": "code",
   "execution_count": 7,
   "id": "4e8ca06a",
   "metadata": {
    "execution": {
     "iopub.execute_input": "2023-01-19T07:56:17.740504Z",
     "iopub.status.busy": "2023-01-19T07:56:17.739824Z",
     "iopub.status.idle": "2023-01-19T07:56:17.744641Z",
     "shell.execute_reply": "2023-01-19T07:56:17.743505Z"
    },
    "papermill": {
     "duration": 0.01425,
     "end_time": "2023-01-19T07:56:17.746869",
     "exception": false,
     "start_time": "2023-01-19T07:56:17.732619",
     "status": "completed"
    },
    "tags": []
   },
   "outputs": [],
   "source": [
    "#q2.solution()"
   ]
  },
  {
   "cell_type": "markdown",
   "id": "f14c9c43",
   "metadata": {
    "papermill": {
     "duration": 0.005856,
     "end_time": "2023-01-19T07:56:17.758814",
     "exception": false,
     "start_time": "2023-01-19T07:56:17.752958",
     "status": "completed"
    },
    "tags": []
   },
   "source": [
    "# 3.\n",
    "\n",
    "Complete the body of the function below according to its docstring."
   ]
  },
  {
   "cell_type": "code",
   "execution_count": 8,
   "id": "fc1b4215",
   "metadata": {
    "execution": {
     "iopub.execute_input": "2023-01-19T07:56:17.773606Z",
     "iopub.status.busy": "2023-01-19T07:56:17.772922Z",
     "iopub.status.idle": "2023-01-19T07:56:17.781833Z",
     "shell.execute_reply": "2023-01-19T07:56:17.780966Z"
    },
    "papermill": {
     "duration": 0.019077,
     "end_time": "2023-01-19T07:56:17.784107",
     "exception": false,
     "start_time": "2023-01-19T07:56:17.765030",
     "status": "completed"
    },
    "tags": []
   },
   "outputs": [
    {
     "data": {
      "application/javascript": [
       "parent.postMessage({\"jupyterEvent\": \"custom.exercise_interaction\", \"data\": {\"outcomeType\": 1, \"valueTowardsCompletion\": 0.25, \"interactionType\": 1, \"questionType\": 2, \"questionId\": \"3_BoringMenu\", \"learnToolsVersion\": \"0.3.4\", \"failureMessage\": \"\", \"exceptionClass\": \"\", \"trace\": \"\"}}, \"*\")"
      ],
      "text/plain": [
       "<IPython.core.display.Javascript object>"
      ]
     },
     "metadata": {},
     "output_type": "display_data"
    },
    {
     "data": {
      "text/markdown": [
       "<span style=\"color:#33cc33\">Correct:</span> \n",
       "\n",
       "\n",
       "\n",
       "```python\n",
       "def menu_is_boring(meals):\n",
       "    # Iterate over all indices of the list, except the last one\n",
       "    for i in range(len(meals)-1):\n",
       "        if meals[i] == meals[i+1]:\n",
       "            return True\n",
       "    return False\n",
       "```\n",
       "\n",
       "The key to our solution is the call to `range`. `range(len(meals))` would give us all the indices of `meals`. If we had used that range, the last iteration of the loop would be comparing the last element to the element after it, which is... `IndexError`! `range(len(meals)-1)` gives us all the indices except the index of the last element.\n",
       "\n",
       "But don't we need to check if `meals` is empty? Turns out that `range(0) == range(-1)` - they're both empty. So if `meals` has length 0 or 1, we just won't do any iterations of our for loop.\n"
      ],
      "text/plain": [
       "Correct: \n",
       "\n",
       "\n",
       "\n",
       "```python\n",
       "def menu_is_boring(meals):\n",
       "    # Iterate over all indices of the list, except the last one\n",
       "    for i in range(len(meals)-1):\n",
       "        if meals[i] == meals[i+1]:\n",
       "            return True\n",
       "    return False\n",
       "```\n",
       "\n",
       "The key to our solution is the call to `range`. `range(len(meals))` would give us all the indices of `meals`. If we had used that range, the last iteration of the loop would be comparing the last element to the element after it, which is... `IndexError`! `range(len(meals)-1)` gives us all the indices except the index of the last element.\n",
       "\n",
       "But don't we need to check if `meals` is empty? Turns out that `range(0) == range(-1)` - they're both empty. So if `meals` has length 0 or 1, we just won't do any iterations of our for loop."
      ]
     },
     "metadata": {},
     "output_type": "display_data"
    }
   ],
   "source": [
    "def menu_is_boring(meals):\n",
    "    \"\"\"Given a list of meals served over some period of time, return True if the\n",
    "    same meal has ever been served two days in a row, and False otherwise.\n",
    "    \"\"\"\n",
    "    for meal in range (len(meals)-1):\n",
    "        if meals[meal] == meals[meal+1]:\n",
    "            return True\n",
    "    return False\n",
    "#     pass\n",
    "\n",
    "# Check your answer\n",
    "q3.check()"
   ]
  },
  {
   "cell_type": "code",
   "execution_count": 9,
   "id": "c75d18f7",
   "metadata": {
    "execution": {
     "iopub.execute_input": "2023-01-19T07:56:17.799546Z",
     "iopub.status.busy": "2023-01-19T07:56:17.798721Z",
     "iopub.status.idle": "2023-01-19T07:56:17.802915Z",
     "shell.execute_reply": "2023-01-19T07:56:17.801789Z"
    },
    "papermill": {
     "duration": 0.015051,
     "end_time": "2023-01-19T07:56:17.805534",
     "exception": false,
     "start_time": "2023-01-19T07:56:17.790483",
     "status": "completed"
    },
    "tags": []
   },
   "outputs": [],
   "source": [
    "#q3.hint()\n",
    "#q3.solution()"
   ]
  },
  {
   "cell_type": "markdown",
   "id": "cffa9de8",
   "metadata": {
    "papermill": {
     "duration": 0.006202,
     "end_time": "2023-01-19T07:56:17.818103",
     "exception": false,
     "start_time": "2023-01-19T07:56:17.811901",
     "status": "completed"
    },
    "tags": []
   },
   "source": [
    "# 4. <span title=\"A bit spicy\" style=\"color: darkgreen \">🌶️</span>\n",
    "\n",
    "Next to the Blackjack table, the Python Challenge Casino has a slot machine. You can get a result from the slot machine by calling `play_slot_machine()`. The number it returns is your winnings in dollars. Usually it returns 0.  But sometimes you'll get lucky and get a big payday. Try running it below:"
   ]
  },
  {
   "cell_type": "code",
   "execution_count": 10,
   "id": "8fb49724",
   "metadata": {
    "execution": {
     "iopub.execute_input": "2023-01-19T07:56:17.832504Z",
     "iopub.status.busy": "2023-01-19T07:56:17.832081Z",
     "iopub.status.idle": "2023-01-19T07:56:17.838767Z",
     "shell.execute_reply": "2023-01-19T07:56:17.837628Z"
    },
    "papermill": {
     "duration": 0.016651,
     "end_time": "2023-01-19T07:56:17.841059",
     "exception": false,
     "start_time": "2023-01-19T07:56:17.824408",
     "status": "completed"
    },
    "tags": []
   },
   "outputs": [
    {
     "data": {
      "text/plain": [
       "0"
      ]
     },
     "execution_count": 10,
     "metadata": {},
     "output_type": "execute_result"
    }
   ],
   "source": [
    "play_slot_machine()"
   ]
  },
  {
   "cell_type": "markdown",
   "id": "6f6e6aad",
   "metadata": {
    "papermill": {
     "duration": 0.006119,
     "end_time": "2023-01-19T07:56:17.853654",
     "exception": false,
     "start_time": "2023-01-19T07:56:17.847535",
     "status": "completed"
    },
    "tags": []
   },
   "source": [
    "By the way, did we mention that each play costs $1? Don't worry, we'll send you the bill later.\n",
    "\n",
    "On average, how much money can you expect to gain (or lose) every time you play the machine?  The casino keeps it a secret, but you can estimate the average value of each pull using a technique called the **Monte Carlo method**. To estimate the average outcome, we simulate the scenario many times, and return the average result.\n",
    "\n",
    "Complete the following function to calculate the average value per play of the slot machine."
   ]
  },
  {
   "cell_type": "code",
   "execution_count": 11,
   "id": "b1d536e5",
   "metadata": {
    "execution": {
     "iopub.execute_input": "2023-01-19T07:56:17.869011Z",
     "iopub.status.busy": "2023-01-19T07:56:17.867998Z",
     "iopub.status.idle": "2023-01-19T07:56:17.873357Z",
     "shell.execute_reply": "2023-01-19T07:56:17.872334Z"
    },
    "papermill": {
     "duration": 0.015591,
     "end_time": "2023-01-19T07:56:17.875827",
     "exception": false,
     "start_time": "2023-01-19T07:56:17.860236",
     "status": "completed"
    },
    "tags": []
   },
   "outputs": [],
   "source": [
    "def estimate_average_slot_payout(n_runs):\n",
    "    \"\"\"Run the slot machine n_runs times and return the average net profit per run.\n",
    "    Example calls (note that return value is nondeterministic!):\n",
    "    >>> estimate_average_slot_payout(1)\n",
    "    -1\n",
    "    >>> estimate_average_slot_payout(1)\n",
    "    0.5\n",
    "    \"\"\"\n",
    "    pass"
   ]
  },
  {
   "cell_type": "markdown",
   "id": "a46ee454",
   "metadata": {
    "papermill": {
     "duration": 0.006244,
     "end_time": "2023-01-19T07:56:17.888614",
     "exception": false,
     "start_time": "2023-01-19T07:56:17.882370",
     "status": "completed"
    },
    "tags": []
   },
   "source": [
    "When you think you know the expected value per spin, run the code cell below to view the solution and get credit for answering the question."
   ]
  },
  {
   "cell_type": "code",
   "execution_count": 12,
   "id": "13ab1ccb",
   "metadata": {
    "execution": {
     "iopub.execute_input": "2023-01-19T07:56:17.904316Z",
     "iopub.status.busy": "2023-01-19T07:56:17.903727Z",
     "iopub.status.idle": "2023-01-19T07:56:17.912959Z",
     "shell.execute_reply": "2023-01-19T07:56:17.911886Z"
    },
    "papermill": {
     "duration": 0.020108,
     "end_time": "2023-01-19T07:56:17.915427",
     "exception": false,
     "start_time": "2023-01-19T07:56:17.895319",
     "status": "completed"
    },
    "tags": []
   },
   "outputs": [
    {
     "data": {
      "application/javascript": [
       "parent.postMessage({\"jupyterEvent\": \"custom.exercise_interaction\", \"data\": {\"interactionType\": 3, \"questionType\": 4, \"questionId\": \"4_ExpectedSlotsPayout\", \"learnToolsVersion\": \"0.3.4\", \"valueTowardsCompletion\": 0.0, \"failureMessage\": \"\", \"exceptionClass\": \"\", \"trace\": \"\", \"outcomeType\": 4}}, \"*\")"
      ],
      "text/plain": [
       "<IPython.core.display.Javascript object>"
      ]
     },
     "metadata": {},
     "output_type": "display_data"
    },
    {
     "data": {
      "text/markdown": [
       "<span style=\"color:#33cc99\">Solution:</span> \n",
       "    \n",
       "The exact expected value of one pull of the slot machine is 0.025 - i.e. a little more than 2 cents.  See?  Not every game in the Python Challenge Casino is rigged against the player!\n",
       "\n",
       "In order to get this answer, you'll need to implement the `estimate_average_slot_payout(n_runs)` function to simulate pulling the slot machine `n_runs` times.  It should return the payout averaged over those `n_runs`.\n",
       "\n",
       "Then, once the function is defined, in order to estimate the average slot payout, we need only call the function.\n",
       "\n",
       "Because of the high variance of the outcome (there are some very rare high payout results that significantly affect the average) you might need to run your function with a very high value of `n_runs` to get a stable answer close to the true expectation.  For instance, you might use a value for `n_runs` of 1000000.\n",
       "\n",
       "Here's an example for how the function could look:\n",
       "```python\n",
       "def estimate_average_slot_payout(n_runs):\n",
       "    # Play slot machine n_runs times, calculate payout of each\n",
       "    payouts = [play_slot_machine()-1 for i in range(n_runs)]\n",
       "    # Calculate the average value\n",
       "    avg_payout = sum(payouts) / n_runs\n",
       "    return avg_payout\n",
       "    \n",
       "estimate_average_slot_payout(10000000)\n",
       "\n",
       "```\n",
       "\n",
       "This should return an answer close to 0.025!\n",
       "            \n"
      ],
      "text/plain": [
       "Solution: \n",
       "    \n",
       "The exact expected value of one pull of the slot machine is 0.025 - i.e. a little more than 2 cents.  See?  Not every game in the Python Challenge Casino is rigged against the player!\n",
       "\n",
       "In order to get this answer, you'll need to implement the `estimate_average_slot_payout(n_runs)` function to simulate pulling the slot machine `n_runs` times.  It should return the payout averaged over those `n_runs`.\n",
       "\n",
       "Then, once the function is defined, in order to estimate the average slot payout, we need only call the function.\n",
       "\n",
       "Because of the high variance of the outcome (there are some very rare high payout results that significantly affect the average) you might need to run your function with a very high value of `n_runs` to get a stable answer close to the true expectation.  For instance, you might use a value for `n_runs` of 1000000.\n",
       "\n",
       "Here's an example for how the function could look:\n",
       "```python\n",
       "def estimate_average_slot_payout(n_runs):\n",
       "    # Play slot machine n_runs times, calculate payout of each\n",
       "    payouts = [play_slot_machine()-1 for i in range(n_runs)]\n",
       "    # Calculate the average value\n",
       "    avg_payout = sum(payouts) / n_runs\n",
       "    return avg_payout\n",
       "    \n",
       "estimate_average_slot_payout(10000000)\n",
       "\n",
       "```\n",
       "\n",
       "This should return an answer close to 0.025!\n",
       "            "
      ]
     },
     "metadata": {},
     "output_type": "display_data"
    }
   ],
   "source": [
    "# Check your answer (Run this code cell to receive credit!)\n",
    "q4.solution()"
   ]
  },
  {
   "cell_type": "markdown",
   "id": "e27c6bcf",
   "metadata": {
    "papermill": {
     "duration": 0.00649,
     "end_time": "2023-01-19T07:56:17.929276",
     "exception": false,
     "start_time": "2023-01-19T07:56:17.922786",
     "status": "completed"
    },
    "tags": []
   },
   "source": [
    "# Keep Going\n",
    "\n",
    "Many programmers report that dictionaries are their favorite data structure. You'll get to **[learn about them](https://www.kaggle.com/colinmorris/strings-and-dictionaries)** (as well as strings) in the next lesson."
   ]
  },
  {
   "cell_type": "markdown",
   "id": "d9556f6a",
   "metadata": {
    "papermill": {
     "duration": 0.006554,
     "end_time": "2023-01-19T07:56:17.942626",
     "exception": false,
     "start_time": "2023-01-19T07:56:17.936072",
     "status": "completed"
    },
    "tags": []
   },
   "source": [
    "---\n",
    "\n",
    "\n",
    "\n",
    "\n",
    "*Have questions or comments? Visit the [course discussion forum](https://www.kaggle.com/learn/python/discussion) to chat with other learners.*"
   ]
  }
 ],
 "metadata": {
  "kernelspec": {
   "display_name": "Python 3",
   "language": "python",
   "name": "python3"
  },
  "language_info": {
   "codemirror_mode": {
    "name": "ipython",
    "version": 3
   },
   "file_extension": ".py",
   "mimetype": "text/x-python",
   "name": "python",
   "nbconvert_exporter": "python",
   "pygments_lexer": "ipython3",
   "version": "3.7.12"
  },
  "papermill": {
   "default_parameters": {},
   "duration": 10.127595,
   "end_time": "2023-01-19T07:56:18.570872",
   "environment_variables": {},
   "exception": null,
   "input_path": "__notebook__.ipynb",
   "output_path": "__notebook__.ipynb",
   "parameters": {},
   "start_time": "2023-01-19T07:56:08.443277",
   "version": "2.3.4"
  }
 },
 "nbformat": 4,
 "nbformat_minor": 5
}
