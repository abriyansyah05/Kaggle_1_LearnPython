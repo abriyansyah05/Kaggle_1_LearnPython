{
 "cells": [
  {
   "cell_type": "markdown",
   "id": "2227644c",
   "metadata": {
    "papermill": {
     "duration": 0.007988,
     "end_time": "2022-05-29T14:38:19.207211",
     "exception": false,
     "start_time": "2022-05-29T14:38:19.199223",
     "status": "completed"
    },
    "tags": []
   },
   "source": [
    "**This notebook is an exercise in the [Python](https://www.kaggle.com/learn/python) course.  You can reference the tutorial at [this link](https://www.kaggle.com/colinmorris/lists).**\n",
    "\n",
    "---\n"
   ]
  },
  {
   "cell_type": "markdown",
   "id": "43122fd3",
   "metadata": {
    "papermill": {
     "duration": 0.003847,
     "end_time": "2022-05-29T14:38:19.216002",
     "exception": false,
     "start_time": "2022-05-29T14:38:19.212155",
     "status": "completed"
    },
    "tags": []
   },
   "source": [
    "Things get more interesting with lists. You'll apply your new knowledge to solve the questions below. Remember to run the following cell first."
   ]
  },
  {
   "cell_type": "code",
   "execution_count": 1,
   "id": "56c1de6b",
   "metadata": {
    "execution": {
     "iopub.execute_input": "2022-05-29T14:38:19.225806Z",
     "iopub.status.busy": "2022-05-29T14:38:19.225187Z",
     "iopub.status.idle": "2022-05-29T14:38:19.273803Z",
     "shell.execute_reply": "2022-05-29T14:38:19.272651Z"
    },
    "papermill": {
     "duration": 0.056668,
     "end_time": "2022-05-29T14:38:19.276620",
     "exception": false,
     "start_time": "2022-05-29T14:38:19.219952",
     "status": "completed"
    },
    "tags": []
   },
   "outputs": [
    {
     "name": "stdout",
     "output_type": "stream",
     "text": [
      "Setup complete.\n"
     ]
    }
   ],
   "source": [
    "from learntools.core import binder; binder.bind(globals())\n",
    "from learntools.python.ex4 import *\n",
    "print('Setup complete.')"
   ]
  },
  {
   "cell_type": "markdown",
   "id": "199f8f1f",
   "metadata": {
    "papermill": {
     "duration": 0.006711,
     "end_time": "2022-05-29T14:38:19.288210",
     "exception": false,
     "start_time": "2022-05-29T14:38:19.281499",
     "status": "completed"
    },
    "tags": []
   },
   "source": [
    "# 1.\n",
    "\n",
    "Complete the function below according to its docstring."
   ]
  },
  {
   "cell_type": "code",
   "execution_count": 2,
   "id": "c9bca382",
   "metadata": {
    "execution": {
     "iopub.execute_input": "2022-05-29T14:38:19.299592Z",
     "iopub.status.busy": "2022-05-29T14:38:19.298839Z",
     "iopub.status.idle": "2022-05-29T14:38:19.311616Z",
     "shell.execute_reply": "2022-05-29T14:38:19.310735Z"
    },
    "papermill": {
     "duration": 0.020251,
     "end_time": "2022-05-29T14:38:19.313436",
     "exception": false,
     "start_time": "2022-05-29T14:38:19.293185",
     "status": "completed"
    },
    "tags": []
   },
   "outputs": [
    {
     "data": {
      "application/javascript": [
       "parent.postMessage({\"jupyterEvent\": \"custom.exercise_interaction\", \"data\": {\"outcomeType\": 1, \"valueTowardsCompletion\": 0.2, \"interactionType\": 1, \"questionType\": 2, \"questionId\": \"1_SelectSecondItem\", \"learnToolsVersion\": \"0.3.4\", \"failureMessage\": \"\", \"exceptionClass\": \"\", \"trace\": \"\"}}, \"*\")"
      ],
      "text/plain": [
       "<IPython.core.display.Javascript object>"
      ]
     },
     "metadata": {},
     "output_type": "display_data"
    },
    {
     "data": {
      "text/markdown": [
       "<span style=\"color:#33cc33\">Correct</span>"
      ],
      "text/plain": [
       "Correct"
      ]
     },
     "metadata": {},
     "output_type": "display_data"
    }
   ],
   "source": [
    "def select_second(L):\n",
    "    \"\"\"Return the second element of the given list. If the list has no second\n",
    "    element, return None.\n",
    "    \"\"\"\n",
    "    if len(L) > 1:\n",
    "        return L[1]\n",
    "    else:\n",
    "        return None\n",
    "#     return int(L[:1]) if len(L) > 1 else L == None\n",
    "\n",
    "select_second([1,2])\n",
    "# Check your answer\n",
    "q1.check()"
   ]
  },
  {
   "cell_type": "markdown",
   "id": "4d5d9ace",
   "metadata": {
    "papermill": {
     "duration": 0.004136,
     "end_time": "2022-05-29T14:38:19.322036",
     "exception": false,
     "start_time": "2022-05-29T14:38:19.317900",
     "status": "completed"
    },
    "tags": []
   },
   "source": []
  },
  {
   "cell_type": "code",
   "execution_count": 3,
   "id": "4d18039d",
   "metadata": {
    "collapsed": true,
    "execution": {
     "iopub.execute_input": "2022-05-29T14:38:19.332714Z",
     "iopub.status.busy": "2022-05-29T14:38:19.331912Z",
     "iopub.status.idle": "2022-05-29T14:38:19.337617Z",
     "shell.execute_reply": "2022-05-29T14:38:19.336173Z"
    },
    "jupyter": {
     "outputs_hidden": true
    },
    "papermill": {
     "duration": 0.013851,
     "end_time": "2022-05-29T14:38:19.340125",
     "exception": false,
     "start_time": "2022-05-29T14:38:19.326274",
     "status": "completed"
    },
    "tags": []
   },
   "outputs": [],
   "source": [
    "#q1.hint()\n",
    "#q1.solution()"
   ]
  },
  {
   "cell_type": "markdown",
   "id": "f29d3511",
   "metadata": {
    "papermill": {
     "duration": 0.004168,
     "end_time": "2022-05-29T14:38:19.348981",
     "exception": false,
     "start_time": "2022-05-29T14:38:19.344813",
     "status": "completed"
    },
    "tags": []
   },
   "source": [
    "# 2.\n",
    "\n",
    "You are analyzing sports teams.  Members of each team are stored in a list. The Coach is the first name in the list, the captain is the second name in the list, and other players are listed after that. \n",
    "These lists are stored in another list, which starts with the best team and proceeds through the list to the worst team last.  Complete the function below to select the **captain** of the worst team."
   ]
  },
  {
   "cell_type": "code",
   "execution_count": 4,
   "id": "da392ed7",
   "metadata": {
    "execution": {
     "iopub.execute_input": "2022-05-29T14:38:19.359340Z",
     "iopub.status.busy": "2022-05-29T14:38:19.358722Z",
     "iopub.status.idle": "2022-05-29T14:38:19.365991Z",
     "shell.execute_reply": "2022-05-29T14:38:19.365023Z"
    },
    "papermill": {
     "duration": 0.014546,
     "end_time": "2022-05-29T14:38:19.367797",
     "exception": false,
     "start_time": "2022-05-29T14:38:19.353251",
     "status": "completed"
    },
    "tags": []
   },
   "outputs": [
    {
     "data": {
      "application/javascript": [
       "parent.postMessage({\"jupyterEvent\": \"custom.exercise_interaction\", \"data\": {\"outcomeType\": 1, \"valueTowardsCompletion\": 0.2, \"interactionType\": 1, \"questionType\": 2, \"questionId\": \"2_LosingTeamCaptain\", \"learnToolsVersion\": \"0.3.4\", \"failureMessage\": \"\", \"exceptionClass\": \"\", \"trace\": \"\"}}, \"*\")"
      ],
      "text/plain": [
       "<IPython.core.display.Javascript object>"
      ]
     },
     "metadata": {},
     "output_type": "display_data"
    },
    {
     "data": {
      "text/markdown": [
       "<span style=\"color:#33cc33\">Correct</span>"
      ],
      "text/plain": [
       "Correct"
      ]
     },
     "metadata": {},
     "output_type": "display_data"
    }
   ],
   "source": [
    "def losing_team_captain(teams):\n",
    "    \"\"\"Given a list of teams, where each team is a list of names, return the 2nd player (captain)\n",
    "    from the last listed team\n",
    "    \"\"\"\n",
    "#     x = []\n",
    "    return teams[-1][1]\n",
    "#     pass\n",
    "\n",
    "# Check your answer\n",
    "q2.check()"
   ]
  },
  {
   "cell_type": "code",
   "execution_count": 5,
   "id": "eda76065",
   "metadata": {
    "execution": {
     "iopub.execute_input": "2022-05-29T14:38:19.378975Z",
     "iopub.status.busy": "2022-05-29T14:38:19.378284Z",
     "iopub.status.idle": "2022-05-29T14:38:19.382155Z",
     "shell.execute_reply": "2022-05-29T14:38:19.381499Z"
    },
    "papermill": {
     "duration": 0.011415,
     "end_time": "2022-05-29T14:38:19.383998",
     "exception": false,
     "start_time": "2022-05-29T14:38:19.372583",
     "status": "completed"
    },
    "tags": []
   },
   "outputs": [],
   "source": [
    "#q2.hint()\n",
    "# q2.solution()"
   ]
  },
  {
   "cell_type": "markdown",
   "id": "ccc2aafa",
   "metadata": {
    "papermill": {
     "duration": 0.004458,
     "end_time": "2022-05-29T14:38:19.393124",
     "exception": false,
     "start_time": "2022-05-29T14:38:19.388666",
     "status": "completed"
    },
    "tags": []
   },
   "source": [
    "# 3.\n",
    "\n",
    "The next iteration of Mario Kart will feature an extra-infuriating new item, the *Purple Shell*. When used, it warps the last place racer into first place and the first place racer into last place. Complete the function below to implement the Purple Shell's effect."
   ]
  },
  {
   "cell_type": "code",
   "execution_count": 6,
   "id": "4edd3949",
   "metadata": {
    "execution": {
     "iopub.execute_input": "2022-05-29T14:38:19.404057Z",
     "iopub.status.busy": "2022-05-29T14:38:19.403441Z",
     "iopub.status.idle": "2022-05-29T14:38:19.411688Z",
     "shell.execute_reply": "2022-05-29T14:38:19.410996Z"
    },
    "papermill": {
     "duration": 0.015748,
     "end_time": "2022-05-29T14:38:19.413435",
     "exception": false,
     "start_time": "2022-05-29T14:38:19.397687",
     "status": "completed"
    },
    "tags": []
   },
   "outputs": [
    {
     "data": {
      "application/javascript": [
       "parent.postMessage({\"jupyterEvent\": \"custom.exercise_interaction\", \"data\": {\"outcomeType\": 1, \"valueTowardsCompletion\": 0.2, \"interactionType\": 1, \"questionType\": 2, \"questionId\": \"3_PurpleShell\", \"learnToolsVersion\": \"0.3.4\", \"failureMessage\": \"\", \"exceptionClass\": \"\", \"trace\": \"\"}}, \"*\")"
      ],
      "text/plain": [
       "<IPython.core.display.Javascript object>"
      ]
     },
     "metadata": {},
     "output_type": "display_data"
    },
    {
     "data": {
      "text/markdown": [
       "<span style=\"color:#33cc33\">Correct</span>"
      ],
      "text/plain": [
       "Correct"
      ]
     },
     "metadata": {},
     "output_type": "display_data"
    }
   ],
   "source": [
    "def purple_shell(racers):\n",
    "    \"\"\"Given a list of racers, set the first place racer (at the front of the list) to last\n",
    "    place and vice versa.\n",
    "    \n",
    "    >>> r = [\"Mario\", \"Bowser\", \"Luigi\"]\n",
    "    >>> purple_shell(r)\n",
    "    >>> r\n",
    "    [\"Luigi\", \"Bowser\", \"Mario\"]\n",
    "    \"\"\"\n",
    "    racers[0],racers[-1] = racers[-1],racers[0]\n",
    "\n",
    "# Check your answer\n",
    "q3.check()"
   ]
  },
  {
   "cell_type": "code",
   "execution_count": 7,
   "id": "2c77ccf4",
   "metadata": {
    "execution": {
     "iopub.execute_input": "2022-05-29T14:38:19.424317Z",
     "iopub.status.busy": "2022-05-29T14:38:19.423954Z",
     "iopub.status.idle": "2022-05-29T14:38:19.427827Z",
     "shell.execute_reply": "2022-05-29T14:38:19.426890Z"
    },
    "papermill": {
     "duration": 0.011339,
     "end_time": "2022-05-29T14:38:19.429539",
     "exception": false,
     "start_time": "2022-05-29T14:38:19.418200",
     "status": "completed"
    },
    "tags": []
   },
   "outputs": [],
   "source": [
    "#q3.hint()\n",
    "# q3.solution()"
   ]
  },
  {
   "cell_type": "markdown",
   "id": "c85abf56",
   "metadata": {
    "papermill": {
     "duration": 0.004956,
     "end_time": "2022-05-29T14:38:19.439381",
     "exception": false,
     "start_time": "2022-05-29T14:38:19.434425",
     "status": "completed"
    },
    "tags": []
   },
   "source": [
    "# 4.\n",
    "\n",
    "What are the lengths of the following lists? Fill in the variable `lengths` with your predictions. (Try to make a prediction for each list *without* just calling `len()` on it.)"
   ]
  },
  {
   "cell_type": "code",
   "execution_count": 8,
   "id": "bb3620a2",
   "metadata": {
    "execution": {
     "iopub.execute_input": "2022-05-29T14:38:19.450886Z",
     "iopub.status.busy": "2022-05-29T14:38:19.450502Z",
     "iopub.status.idle": "2022-05-29T14:38:19.459026Z",
     "shell.execute_reply": "2022-05-29T14:38:19.458098Z"
    },
    "papermill": {
     "duration": 0.01635,
     "end_time": "2022-05-29T14:38:19.460845",
     "exception": false,
     "start_time": "2022-05-29T14:38:19.444495",
     "status": "completed"
    },
    "tags": []
   },
   "outputs": [
    {
     "data": {
      "application/javascript": [
       "parent.postMessage({\"jupyterEvent\": \"custom.exercise_interaction\", \"data\": {\"outcomeType\": 1, \"valueTowardsCompletion\": 0.2, \"interactionType\": 1, \"questionType\": 1, \"questionId\": \"4_UnderstandLen\", \"learnToolsVersion\": \"0.3.4\", \"failureMessage\": \"\", \"exceptionClass\": \"\", \"trace\": \"\"}}, \"*\")"
      ],
      "text/plain": [
       "<IPython.core.display.Javascript object>"
      ]
     },
     "metadata": {},
     "output_type": "display_data"
    },
    {
     "data": {
      "text/markdown": [
       "<span style=\"color:#33cc33\">Correct:</span> \n",
       "\n",
       "\n",
       "- a: There are three items in this list. Nothing tricky yet.\n",
       "- b: The list `[2, 3]` counts as a single item. It has one item before it. So we have 2 items in the list\n",
       "- c: The empty list has 0 items\n",
       "- d: The expression is the same as the list `[2, 3]`, which has length 2."
      ],
      "text/plain": [
       "Correct: \n",
       "\n",
       "\n",
       "- a: There are three items in this list. Nothing tricky yet.\n",
       "- b: The list `[2, 3]` counts as a single item. It has one item before it. So we have 2 items in the list\n",
       "- c: The empty list has 0 items\n",
       "- d: The expression is the same as the list `[2, 3]`, which has length 2."
      ]
     },
     "metadata": {},
     "output_type": "display_data"
    }
   ],
   "source": [
    "a = [1, 2, 3]\n",
    "b = [1, [2, 3]]\n",
    "c = []\n",
    "d = [1, 2, 3][1:]\n",
    "\n",
    "# Put your predictions in the list below. Lengths should contain 4 numbers, the\n",
    "# first being the length of a, the second being the length of b and so on.\n",
    "lengths = [3,2,0,2]\n",
    "\n",
    "# Check your answer\n",
    "q4.check()"
   ]
  },
  {
   "cell_type": "code",
   "execution_count": 9,
   "id": "b68aef45",
   "metadata": {
    "collapsed": true,
    "execution": {
     "iopub.execute_input": "2022-05-29T14:38:19.472508Z",
     "iopub.status.busy": "2022-05-29T14:38:19.471983Z",
     "iopub.status.idle": "2022-05-29T14:38:19.475862Z",
     "shell.execute_reply": "2022-05-29T14:38:19.475234Z"
    },
    "jupyter": {
     "outputs_hidden": true
    },
    "papermill": {
     "duration": 0.011512,
     "end_time": "2022-05-29T14:38:19.477381",
     "exception": false,
     "start_time": "2022-05-29T14:38:19.465869",
     "status": "completed"
    },
    "tags": []
   },
   "outputs": [],
   "source": [
    "# line below provides some explanation\n",
    "#q4.solution()"
   ]
  },
  {
   "cell_type": "markdown",
   "id": "a54a5c94",
   "metadata": {
    "papermill": {
     "duration": 0.004845,
     "end_time": "2022-05-29T14:38:19.487399",
     "exception": false,
     "start_time": "2022-05-29T14:38:19.482554",
     "status": "completed"
    },
    "tags": []
   },
   "source": [
    "# 5. <span title=\"A bit spicy\" style=\"color: darkgreen \">🌶️</span>\n",
    "\n",
    "We're using lists to record people who attended our party and what order they arrived in. For example, the following list represents a party with 7 guests, in which Adela showed up first and Ford was the last to arrive:\n",
    "\n",
    "    party_attendees = ['Adela', 'Fleda', 'Owen', 'May', 'Mona', 'Gilbert', 'Ford']\n",
    "\n",
    "A guest is considered 'fashionably late' if they arrived after at least half of the party's guests. However, they must not be the very last guest (that's taking it too far). In the above example, Mona and Gilbert are the only guests who were fashionably late.\n",
    "\n",
    "Complete the function below which takes a list of party attendees as well as a person, and tells us whether that person is fashionably late."
   ]
  },
  {
   "cell_type": "code",
   "execution_count": 10,
   "id": "56878856",
   "metadata": {
    "execution": {
     "iopub.execute_input": "2022-05-29T14:38:19.499577Z",
     "iopub.status.busy": "2022-05-29T14:38:19.499047Z",
     "iopub.status.idle": "2022-05-29T14:38:19.505848Z",
     "shell.execute_reply": "2022-05-29T14:38:19.505276Z"
    },
    "papermill": {
     "duration": 0.014684,
     "end_time": "2022-05-29T14:38:19.507383",
     "exception": false,
     "start_time": "2022-05-29T14:38:19.492699",
     "status": "completed"
    },
    "tags": []
   },
   "outputs": [
    {
     "data": {
      "application/javascript": [
       "parent.postMessage({\"jupyterEvent\": \"custom.exercise_interaction\", \"data\": {\"outcomeType\": 1, \"valueTowardsCompletion\": 0.2, \"interactionType\": 1, \"questionType\": 2, \"questionId\": \"5_FashionablyLate\", \"learnToolsVersion\": \"0.3.4\", \"failureMessage\": \"\", \"exceptionClass\": \"\", \"trace\": \"\"}}, \"*\")"
      ],
      "text/plain": [
       "<IPython.core.display.Javascript object>"
      ]
     },
     "metadata": {},
     "output_type": "display_data"
    },
    {
     "data": {
      "text/markdown": [
       "<span style=\"color:#33cc33\">Correct</span>"
      ],
      "text/plain": [
       "Correct"
      ]
     },
     "metadata": {},
     "output_type": "display_data"
    }
   ],
   "source": [
    "def fashionably_late(arrivals, name):\n",
    "    \"\"\"Given an ordered list of arrivals to the party and a name, return whether the guest with that\n",
    "    name was fashionably late.\n",
    "    \"\"\"\n",
    "    check = arrivals.index(name)\n",
    "    return check >= len(arrivals)/2 and check != len(arrivals)-1\n",
    "\n",
    "# Check your answer\n",
    "q5.check()"
   ]
  },
  {
   "cell_type": "code",
   "execution_count": 11,
   "id": "ed70740e",
   "metadata": {
    "execution": {
     "iopub.execute_input": "2022-05-29T14:38:19.519335Z",
     "iopub.status.busy": "2022-05-29T14:38:19.518796Z",
     "iopub.status.idle": "2022-05-29T14:38:19.527490Z",
     "shell.execute_reply": "2022-05-29T14:38:19.526696Z"
    },
    "papermill": {
     "duration": 0.016753,
     "end_time": "2022-05-29T14:38:19.529364",
     "exception": false,
     "start_time": "2022-05-29T14:38:19.512611",
     "status": "completed"
    },
    "tags": []
   },
   "outputs": [
    {
     "data": {
      "application/javascript": [
       "parent.postMessage({\"jupyterEvent\": \"custom.exercise_interaction\", \"data\": {\"interactionType\": 2, \"questionType\": 2, \"questionId\": \"5_FashionablyLate\", \"learnToolsVersion\": \"0.3.4\", \"valueTowardsCompletion\": 0.0, \"failureMessage\": \"\", \"exceptionClass\": \"\", \"trace\": \"\", \"outcomeType\": 4}}, \"*\")"
      ],
      "text/plain": [
       "<IPython.core.display.Javascript object>"
      ]
     },
     "metadata": {},
     "output_type": "display_data"
    },
    {
     "data": {
      "text/markdown": [
       "<span style=\"color:#3366cc\">Hint:</span> Use the index method to find when the person arrived. Check whether that is a fashionably late spot given the list length (`len`). Think about 0-indexing"
      ],
      "text/plain": [
       "Hint: Use the index method to find when the person arrived. Check whether that is a fashionably late spot given the list length (`len`). Think about 0-indexing"
      ]
     },
     "metadata": {},
     "output_type": "display_data"
    },
    {
     "data": {
      "application/javascript": [
       "parent.postMessage({\"jupyterEvent\": \"custom.exercise_interaction\", \"data\": {\"interactionType\": 3, \"questionType\": 2, \"questionId\": \"5_FashionablyLate\", \"learnToolsVersion\": \"0.3.4\", \"valueTowardsCompletion\": 0.0, \"failureMessage\": \"\", \"exceptionClass\": \"\", \"trace\": \"\", \"outcomeType\": 4}}, \"*\")"
      ],
      "text/plain": [
       "<IPython.core.display.Javascript object>"
      ]
     },
     "metadata": {},
     "output_type": "display_data"
    },
    {
     "data": {
      "text/markdown": [
       "<span style=\"color:#33cc99\">Solution:</span> \n",
       "```python\n",
       "def fashionably_late(arrivals, name):\n",
       "    order = arrivals.index(name)\n",
       "    return order >= len(arrivals) / 2 and order != len(arrivals) - 1\n",
       "```"
      ],
      "text/plain": [
       "Solution: \n",
       "```python\n",
       "def fashionably_late(arrivals, name):\n",
       "    order = arrivals.index(name)\n",
       "    return order >= len(arrivals) / 2 and order != len(arrivals) - 1\n",
       "```"
      ]
     },
     "metadata": {},
     "output_type": "display_data"
    }
   ],
   "source": [
    "q5.hint()\n",
    "q5.solution()\n"
   ]
  },
  {
   "cell_type": "markdown",
   "id": "4d890502",
   "metadata": {
    "papermill": {
     "duration": 0.005167,
     "end_time": "2022-05-29T14:38:19.539946",
     "exception": false,
     "start_time": "2022-05-29T14:38:19.534779",
     "status": "completed"
    },
    "tags": []
   },
   "source": [
    "# Keep Going\n",
    "\n",
    "That's it for lists and tuples! Now you have the baseline knowledge to **[learn about loops](https://www.kaggle.com/colinmorris/loops-and-list-comprehensions)**, which is where lists and tuples get really interesting. "
   ]
  },
  {
   "cell_type": "markdown",
   "id": "97ff7255",
   "metadata": {
    "papermill": {
     "duration": 0.005076,
     "end_time": "2022-05-29T14:38:19.550397",
     "exception": false,
     "start_time": "2022-05-29T14:38:19.545321",
     "status": "completed"
    },
    "tags": []
   },
   "source": [
    "---\n",
    "\n",
    "\n",
    "\n",
    "\n",
    "*Have questions or comments? Visit the [course discussion forum](https://www.kaggle.com/learn/python/discussion) to chat with other learners.*"
   ]
  }
 ],
 "metadata": {
  "kernelspec": {
   "display_name": "Python 3",
   "language": "python",
   "name": "python3"
  },
  "language_info": {
   "codemirror_mode": {
    "name": "ipython",
    "version": 3
   },
   "file_extension": ".py",
   "mimetype": "text/x-python",
   "name": "python",
   "nbconvert_exporter": "python",
   "pygments_lexer": "ipython3",
   "version": "3.7.12"
  },
  "papermill": {
   "default_parameters": {},
   "duration": 9.451702,
   "end_time": "2022-05-29T14:38:20.175063",
   "environment_variables": {},
   "exception": null,
   "input_path": "__notebook__.ipynb",
   "output_path": "__notebook__.ipynb",
   "parameters": {},
   "start_time": "2022-05-29T14:38:10.723361",
   "version": "2.3.4"
  }
 },
 "nbformat": 4,
 "nbformat_minor": 5
}
