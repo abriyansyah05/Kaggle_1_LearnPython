{
 "cells": [
  {
   "cell_type": "markdown",
   "id": "0345aa57",
   "metadata": {
    "papermill": {
     "duration": 0.006269,
     "end_time": "2023-01-17T14:18:33.604646",
     "exception": false,
     "start_time": "2023-01-17T14:18:33.598377",
     "status": "completed"
    },
    "tags": []
   },
   "source": [
    "**This notebook is an exercise in the [Python](https://www.kaggle.com/learn/python) course.  You can reference the tutorial at [this link](https://www.kaggle.com/colinmorris/lists).**\n",
    "\n",
    "---\n"
   ]
  },
  {
   "cell_type": "markdown",
   "id": "762eb5f2",
   "metadata": {
    "papermill": {
     "duration": 0.004675,
     "end_time": "2023-01-17T14:18:33.614688",
     "exception": false,
     "start_time": "2023-01-17T14:18:33.610013",
     "status": "completed"
    },
    "tags": []
   },
   "source": [
    "Things get more interesting with lists. You'll apply your new knowledge to solve the questions below. Remember to run the following cell first."
   ]
  },
  {
   "cell_type": "code",
   "execution_count": 1,
   "id": "4ab961ac",
   "metadata": {
    "execution": {
     "iopub.execute_input": "2023-01-17T14:18:33.627715Z",
     "iopub.status.busy": "2023-01-17T14:18:33.626701Z",
     "iopub.status.idle": "2023-01-17T14:18:33.674725Z",
     "shell.execute_reply": "2023-01-17T14:18:33.673476Z"
    },
    "papermill": {
     "duration": 0.058392,
     "end_time": "2023-01-17T14:18:33.678116",
     "exception": false,
     "start_time": "2023-01-17T14:18:33.619724",
     "status": "completed"
    },
    "tags": []
   },
   "outputs": [
    {
     "name": "stdout",
     "output_type": "stream",
     "text": [
      "Setup complete.\n"
     ]
    }
   ],
   "source": [
    "from learntools.core import binder; binder.bind(globals())\n",
    "from learntools.python.ex4 import *\n",
    "print('Setup complete.')"
   ]
  },
  {
   "cell_type": "markdown",
   "id": "946c952d",
   "metadata": {
    "papermill": {
     "duration": 0.005635,
     "end_time": "2023-01-17T14:18:33.688849",
     "exception": false,
     "start_time": "2023-01-17T14:18:33.683214",
     "status": "completed"
    },
    "tags": []
   },
   "source": [
    "# 1.\n",
    "\n",
    "Complete the function below according to its docstring."
   ]
  },
  {
   "cell_type": "code",
   "execution_count": 2,
   "id": "67631ad0",
   "metadata": {
    "execution": {
     "iopub.execute_input": "2023-01-17T14:18:33.701588Z",
     "iopub.status.busy": "2023-01-17T14:18:33.700944Z",
     "iopub.status.idle": "2023-01-17T14:18:33.718078Z",
     "shell.execute_reply": "2023-01-17T14:18:33.715912Z"
    },
    "papermill": {
     "duration": 0.027715,
     "end_time": "2023-01-17T14:18:33.721909",
     "exception": false,
     "start_time": "2023-01-17T14:18:33.694194",
     "status": "completed"
    },
    "tags": []
   },
   "outputs": [
    {
     "data": {
      "application/javascript": [
       "parent.postMessage({\"jupyterEvent\": \"custom.exercise_interaction\", \"data\": {\"outcomeType\": 1, \"valueTowardsCompletion\": 0.2, \"interactionType\": 1, \"questionType\": 2, \"questionId\": \"1_SelectSecondItem\", \"learnToolsVersion\": \"0.3.4\", \"failureMessage\": \"\", \"exceptionClass\": \"\", \"trace\": \"\"}}, \"*\")"
      ],
      "text/plain": [
       "<IPython.core.display.Javascript object>"
      ]
     },
     "metadata": {},
     "output_type": "display_data"
    },
    {
     "data": {
      "text/markdown": [
       "<span style=\"color:#33cc33\">Correct</span>"
      ],
      "text/plain": [
       "Correct"
      ]
     },
     "metadata": {},
     "output_type": "display_data"
    }
   ],
   "source": [
    "def select_second(L):\n",
    "    \"\"\"Return the second element of the given list. If the list has no second\n",
    "    element, return None.\n",
    "    \"\"\"\n",
    "    if len(L) > 1:\n",
    "        return L[1]\n",
    "    else:\n",
    "        return None\n",
    "#     return int(L[:1]) if len(L) > 1 else L == None\n",
    "\n",
    "select_second([1,2])\n",
    "# Check your answer\n",
    "q1.check()"
   ]
  },
  {
   "cell_type": "markdown",
   "id": "1cc4f643",
   "metadata": {
    "papermill": {
     "duration": 0.006384,
     "end_time": "2023-01-17T14:18:33.736791",
     "exception": false,
     "start_time": "2023-01-17T14:18:33.730407",
     "status": "completed"
    },
    "tags": []
   },
   "source": []
  },
  {
   "cell_type": "code",
   "execution_count": 3,
   "id": "f7d78b27",
   "metadata": {
    "collapsed": true,
    "execution": {
     "iopub.execute_input": "2023-01-17T14:18:33.751104Z",
     "iopub.status.busy": "2023-01-17T14:18:33.749585Z",
     "iopub.status.idle": "2023-01-17T14:18:33.756340Z",
     "shell.execute_reply": "2023-01-17T14:18:33.754700Z"
    },
    "jupyter": {
     "outputs_hidden": true
    },
    "papermill": {
     "duration": 0.016853,
     "end_time": "2023-01-17T14:18:33.759167",
     "exception": false,
     "start_time": "2023-01-17T14:18:33.742314",
     "status": "completed"
    },
    "tags": []
   },
   "outputs": [],
   "source": [
    "#q1.hint()\n",
    "#q1.solution()"
   ]
  },
  {
   "cell_type": "markdown",
   "id": "6a71e29c",
   "metadata": {
    "papermill": {
     "duration": 0.005504,
     "end_time": "2023-01-17T14:18:33.770154",
     "exception": false,
     "start_time": "2023-01-17T14:18:33.764650",
     "status": "completed"
    },
    "tags": []
   },
   "source": [
    "# 2.\n",
    "\n",
    "You are analyzing sports teams.  Members of each team are stored in a list. The Coach is the first name in the list, the captain is the second name in the list, and other players are listed after that. \n",
    "These lists are stored in another list, which starts with the best team and proceeds through the list to the worst team last.  Complete the function below to select the **captain** of the worst team."
   ]
  },
  {
   "cell_type": "code",
   "execution_count": 4,
   "id": "7d574ff8",
   "metadata": {
    "execution": {
     "iopub.execute_input": "2023-01-17T14:18:33.783026Z",
     "iopub.status.busy": "2023-01-17T14:18:33.782304Z",
     "iopub.status.idle": "2023-01-17T14:18:33.791353Z",
     "shell.execute_reply": "2023-01-17T14:18:33.790217Z"
    },
    "papermill": {
     "duration": 0.017987,
     "end_time": "2023-01-17T14:18:33.793553",
     "exception": false,
     "start_time": "2023-01-17T14:18:33.775566",
     "status": "completed"
    },
    "tags": []
   },
   "outputs": [
    {
     "data": {
      "application/javascript": [
       "parent.postMessage({\"jupyterEvent\": \"custom.exercise_interaction\", \"data\": {\"outcomeType\": 1, \"valueTowardsCompletion\": 0.2, \"interactionType\": 1, \"questionType\": 2, \"questionId\": \"2_LosingTeamCaptain\", \"learnToolsVersion\": \"0.3.4\", \"failureMessage\": \"\", \"exceptionClass\": \"\", \"trace\": \"\"}}, \"*\")"
      ],
      "text/plain": [
       "<IPython.core.display.Javascript object>"
      ]
     },
     "metadata": {},
     "output_type": "display_data"
    },
    {
     "data": {
      "text/markdown": [
       "<span style=\"color:#33cc33\">Correct</span>"
      ],
      "text/plain": [
       "Correct"
      ]
     },
     "metadata": {},
     "output_type": "display_data"
    }
   ],
   "source": [
    "def losing_team_captain(teams):\n",
    "    \"\"\"Given a list of teams, where each team is a list of names, return the 2nd player (captain)\n",
    "    from the last listed team\n",
    "    \"\"\"\n",
    "#     x = []\n",
    "    return teams[-1][1]\n",
    "#     pass\n",
    "\n",
    "# Check your answer\n",
    "q2.check()"
   ]
  },
  {
   "cell_type": "code",
   "execution_count": 5,
   "id": "ebd8bc8c",
   "metadata": {
    "execution": {
     "iopub.execute_input": "2023-01-17T14:18:33.808585Z",
     "iopub.status.busy": "2023-01-17T14:18:33.807749Z",
     "iopub.status.idle": "2023-01-17T14:18:33.812203Z",
     "shell.execute_reply": "2023-01-17T14:18:33.811338Z"
    },
    "papermill": {
     "duration": 0.013491,
     "end_time": "2023-01-17T14:18:33.814330",
     "exception": false,
     "start_time": "2023-01-17T14:18:33.800839",
     "status": "completed"
    },
    "tags": []
   },
   "outputs": [],
   "source": [
    "#q2.hint()\n",
    "# q2.solution()"
   ]
  },
  {
   "cell_type": "markdown",
   "id": "d957436e",
   "metadata": {
    "papermill": {
     "duration": 0.005362,
     "end_time": "2023-01-17T14:18:33.825447",
     "exception": false,
     "start_time": "2023-01-17T14:18:33.820085",
     "status": "completed"
    },
    "tags": []
   },
   "source": [
    "# 3.\n",
    "\n",
    "The next iteration of Mario Kart will feature an extra-infuriating new item, the *Purple Shell*. When used, it warps the last place racer into first place and the first place racer into last place. Complete the function below to implement the Purple Shell's effect."
   ]
  },
  {
   "cell_type": "code",
   "execution_count": 6,
   "id": "08a6f424",
   "metadata": {
    "execution": {
     "iopub.execute_input": "2023-01-17T14:18:33.838335Z",
     "iopub.status.busy": "2023-01-17T14:18:33.837544Z",
     "iopub.status.idle": "2023-01-17T14:18:33.847782Z",
     "shell.execute_reply": "2023-01-17T14:18:33.846634Z"
    },
    "papermill": {
     "duration": 0.019219,
     "end_time": "2023-01-17T14:18:33.850086",
     "exception": false,
     "start_time": "2023-01-17T14:18:33.830867",
     "status": "completed"
    },
    "tags": []
   },
   "outputs": [
    {
     "data": {
      "application/javascript": [
       "parent.postMessage({\"jupyterEvent\": \"custom.exercise_interaction\", \"data\": {\"outcomeType\": 1, \"valueTowardsCompletion\": 0.2, \"interactionType\": 1, \"questionType\": 2, \"questionId\": \"3_PurpleShell\", \"learnToolsVersion\": \"0.3.4\", \"failureMessage\": \"\", \"exceptionClass\": \"\", \"trace\": \"\"}}, \"*\")"
      ],
      "text/plain": [
       "<IPython.core.display.Javascript object>"
      ]
     },
     "metadata": {},
     "output_type": "display_data"
    },
    {
     "data": {
      "text/markdown": [
       "<span style=\"color:#33cc33\">Correct</span>"
      ],
      "text/plain": [
       "Correct"
      ]
     },
     "metadata": {},
     "output_type": "display_data"
    }
   ],
   "source": [
    "def purple_shell(racers):\n",
    "    \"\"\"Given a list of racers, set the first place racer (at the front of the list) to last\n",
    "    place and vice versa.\n",
    "    \n",
    "    >>> r = [\"Mario\", \"Bowser\", \"Luigi\"]\n",
    "    >>> purple_shell(r)\n",
    "    >>> r\n",
    "    [\"Luigi\", \"Bowser\", \"Mario\"]\n",
    "    \"\"\"\n",
    "    racers[0],racers[-1] = racers[-1],racers[0]\n",
    "\n",
    "# Check your answer\n",
    "q3.check()"
   ]
  },
  {
   "cell_type": "code",
   "execution_count": 7,
   "id": "22ec3513",
   "metadata": {
    "execution": {
     "iopub.execute_input": "2023-01-17T14:18:33.864052Z",
     "iopub.status.busy": "2023-01-17T14:18:33.863258Z",
     "iopub.status.idle": "2023-01-17T14:18:33.867774Z",
     "shell.execute_reply": "2023-01-17T14:18:33.867018Z"
    },
    "papermill": {
     "duration": 0.014132,
     "end_time": "2023-01-17T14:18:33.869984",
     "exception": false,
     "start_time": "2023-01-17T14:18:33.855852",
     "status": "completed"
    },
    "tags": []
   },
   "outputs": [],
   "source": [
    "#q3.hint()\n",
    "# q3.solution()"
   ]
  },
  {
   "cell_type": "markdown",
   "id": "31f91f16",
   "metadata": {
    "papermill": {
     "duration": 0.00809,
     "end_time": "2023-01-17T14:18:33.884604",
     "exception": false,
     "start_time": "2023-01-17T14:18:33.876514",
     "status": "completed"
    },
    "tags": []
   },
   "source": [
    "# 4.\n",
    "\n",
    "What are the lengths of the following lists? Fill in the variable `lengths` with your predictions. (Try to make a prediction for each list *without* just calling `len()` on it.)"
   ]
  },
  {
   "cell_type": "code",
   "execution_count": 8,
   "id": "15913e40",
   "metadata": {
    "execution": {
     "iopub.execute_input": "2023-01-17T14:18:33.904771Z",
     "iopub.status.busy": "2023-01-17T14:18:33.902771Z",
     "iopub.status.idle": "2023-01-17T14:18:33.917826Z",
     "shell.execute_reply": "2023-01-17T14:18:33.916744Z"
    },
    "papermill": {
     "duration": 0.026056,
     "end_time": "2023-01-17T14:18:33.920093",
     "exception": false,
     "start_time": "2023-01-17T14:18:33.894037",
     "status": "completed"
    },
    "tags": []
   },
   "outputs": [
    {
     "data": {
      "application/javascript": [
       "parent.postMessage({\"jupyterEvent\": \"custom.exercise_interaction\", \"data\": {\"outcomeType\": 1, \"valueTowardsCompletion\": 0.2, \"interactionType\": 1, \"questionType\": 1, \"questionId\": \"4_UnderstandLen\", \"learnToolsVersion\": \"0.3.4\", \"failureMessage\": \"\", \"exceptionClass\": \"\", \"trace\": \"\"}}, \"*\")"
      ],
      "text/plain": [
       "<IPython.core.display.Javascript object>"
      ]
     },
     "metadata": {},
     "output_type": "display_data"
    },
    {
     "data": {
      "text/markdown": [
       "<span style=\"color:#33cc33\">Correct:</span> \n",
       "\n",
       "\n",
       "- a: There are three items in this list. Nothing tricky yet.\n",
       "- b: The list `[2, 3]` counts as a single item. It has one item before it. So we have 2 items in the list\n",
       "- c: The empty list has 0 items\n",
       "- d: The expression is the same as the list `[2, 3]`, which has length 2."
      ],
      "text/plain": [
       "Correct: \n",
       "\n",
       "\n",
       "- a: There are three items in this list. Nothing tricky yet.\n",
       "- b: The list `[2, 3]` counts as a single item. It has one item before it. So we have 2 items in the list\n",
       "- c: The empty list has 0 items\n",
       "- d: The expression is the same as the list `[2, 3]`, which has length 2."
      ]
     },
     "metadata": {},
     "output_type": "display_data"
    }
   ],
   "source": [
    "a = [1, 2, 3]\n",
    "b = [1, [2, 3]]\n",
    "c = []\n",
    "d = [1, 2, 3][1:]\n",
    "\n",
    "# Put your predictions in the list below. Lengths should contain 4 numbers, the\n",
    "# first being the length of a, the second being the length of b and so on.\n",
    "lengths = [3,2,0,2]\n",
    "\n",
    "# Check your answer\n",
    "q4.check()"
   ]
  },
  {
   "cell_type": "code",
   "execution_count": 9,
   "id": "099c25a1",
   "metadata": {
    "collapsed": true,
    "execution": {
     "iopub.execute_input": "2023-01-17T14:18:33.935059Z",
     "iopub.status.busy": "2023-01-17T14:18:33.934328Z",
     "iopub.status.idle": "2023-01-17T14:18:33.939359Z",
     "shell.execute_reply": "2023-01-17T14:18:33.938262Z"
    },
    "jupyter": {
     "outputs_hidden": true
    },
    "papermill": {
     "duration": 0.01496,
     "end_time": "2023-01-17T14:18:33.941652",
     "exception": false,
     "start_time": "2023-01-17T14:18:33.926692",
     "status": "completed"
    },
    "tags": []
   },
   "outputs": [],
   "source": [
    "# line below provides some explanation\n",
    "#q4.solution()"
   ]
  },
  {
   "cell_type": "markdown",
   "id": "9ab54d2d",
   "metadata": {
    "papermill": {
     "duration": 0.006199,
     "end_time": "2023-01-17T14:18:33.954108",
     "exception": false,
     "start_time": "2023-01-17T14:18:33.947909",
     "status": "completed"
    },
    "tags": []
   },
   "source": [
    "# 5. <span title=\"A bit spicy\" style=\"color: darkgreen \">🌶️</span>\n",
    "\n",
    "We're using lists to record people who attended our party and what order they arrived in. For example, the following list represents a party with 7 guests, in which Adela showed up first and Ford was the last to arrive:\n",
    "\n",
    "    party_attendees = ['Adela', 'Fleda', 'Owen', 'May', 'Mona', 'Gilbert', 'Ford']\n",
    "\n",
    "A guest is considered 'fashionably late' if they arrived after at least half of the party's guests. However, they must not be the very last guest (that's taking it too far). In the above example, Mona and Gilbert are the only guests who were fashionably late.\n",
    "\n",
    "Complete the function below which takes a list of party attendees as well as a person, and tells us whether that person is fashionably late."
   ]
  },
  {
   "cell_type": "code",
   "execution_count": 10,
   "id": "8a44421b",
   "metadata": {
    "execution": {
     "iopub.execute_input": "2023-01-17T14:18:33.969800Z",
     "iopub.status.busy": "2023-01-17T14:18:33.969025Z",
     "iopub.status.idle": "2023-01-17T14:18:33.979305Z",
     "shell.execute_reply": "2023-01-17T14:18:33.978227Z"
    },
    "papermill": {
     "duration": 0.020625,
     "end_time": "2023-01-17T14:18:33.981425",
     "exception": false,
     "start_time": "2023-01-17T14:18:33.960800",
     "status": "completed"
    },
    "tags": []
   },
   "outputs": [
    {
     "data": {
      "application/javascript": [
       "parent.postMessage({\"jupyterEvent\": \"custom.exercise_interaction\", \"data\": {\"outcomeType\": 1, \"valueTowardsCompletion\": 0.2, \"interactionType\": 1, \"questionType\": 2, \"questionId\": \"5_FashionablyLate\", \"learnToolsVersion\": \"0.3.4\", \"failureMessage\": \"\", \"exceptionClass\": \"\", \"trace\": \"\"}}, \"*\")"
      ],
      "text/plain": [
       "<IPython.core.display.Javascript object>"
      ]
     },
     "metadata": {},
     "output_type": "display_data"
    },
    {
     "data": {
      "text/markdown": [
       "<span style=\"color:#33cc33\">Correct</span>"
      ],
      "text/plain": [
       "Correct"
      ]
     },
     "metadata": {},
     "output_type": "display_data"
    }
   ],
   "source": [
    "def fashionably_late(arrivals, name):\n",
    "    \"\"\"Given an ordered list of arrivals to the party and a name, return whether the guest with that\n",
    "    name was fashionably late.\n",
    "    \"\"\"\n",
    "    check = arrivals.index(name)\n",
    "    return check >= len(arrivals)/2 and check != len(arrivals)-1\n",
    "\n",
    "# Check your answer\n",
    "q5.check()"
   ]
  },
  {
   "cell_type": "code",
   "execution_count": 11,
   "id": "4b8c2e07",
   "metadata": {
    "execution": {
     "iopub.execute_input": "2023-01-17T14:18:33.999370Z",
     "iopub.status.busy": "2023-01-17T14:18:33.998737Z",
     "iopub.status.idle": "2023-01-17T14:18:34.009534Z",
     "shell.execute_reply": "2023-01-17T14:18:34.008438Z"
    },
    "papermill": {
     "duration": 0.020955,
     "end_time": "2023-01-17T14:18:34.011702",
     "exception": false,
     "start_time": "2023-01-17T14:18:33.990747",
     "status": "completed"
    },
    "tags": []
   },
   "outputs": [
    {
     "data": {
      "application/javascript": [
       "parent.postMessage({\"jupyterEvent\": \"custom.exercise_interaction\", \"data\": {\"interactionType\": 2, \"questionType\": 2, \"questionId\": \"5_FashionablyLate\", \"learnToolsVersion\": \"0.3.4\", \"valueTowardsCompletion\": 0.0, \"failureMessage\": \"\", \"exceptionClass\": \"\", \"trace\": \"\", \"outcomeType\": 4}}, \"*\")"
      ],
      "text/plain": [
       "<IPython.core.display.Javascript object>"
      ]
     },
     "metadata": {},
     "output_type": "display_data"
    },
    {
     "data": {
      "text/markdown": [
       "<span style=\"color:#3366cc\">Hint:</span> Use the index method to find when the person arrived. Check whether that is a fashionably late spot given the list length (`len`). Think about 0-indexing"
      ],
      "text/plain": [
       "Hint: Use the index method to find when the person arrived. Check whether that is a fashionably late spot given the list length (`len`). Think about 0-indexing"
      ]
     },
     "metadata": {},
     "output_type": "display_data"
    },
    {
     "data": {
      "application/javascript": [
       "parent.postMessage({\"jupyterEvent\": \"custom.exercise_interaction\", \"data\": {\"interactionType\": 3, \"questionType\": 2, \"questionId\": \"5_FashionablyLate\", \"learnToolsVersion\": \"0.3.4\", \"valueTowardsCompletion\": 0.0, \"failureMessage\": \"\", \"exceptionClass\": \"\", \"trace\": \"\", \"outcomeType\": 4}}, \"*\")"
      ],
      "text/plain": [
       "<IPython.core.display.Javascript object>"
      ]
     },
     "metadata": {},
     "output_type": "display_data"
    },
    {
     "data": {
      "text/markdown": [
       "<span style=\"color:#33cc99\">Solution:</span> \n",
       "```python\n",
       "def fashionably_late(arrivals, name):\n",
       "    order = arrivals.index(name)\n",
       "    return order >= len(arrivals) / 2 and order != len(arrivals) - 1\n",
       "```"
      ],
      "text/plain": [
       "Solution: \n",
       "```python\n",
       "def fashionably_late(arrivals, name):\n",
       "    order = arrivals.index(name)\n",
       "    return order >= len(arrivals) / 2 and order != len(arrivals) - 1\n",
       "```"
      ]
     },
     "metadata": {},
     "output_type": "display_data"
    }
   ],
   "source": [
    "q5.hint()\n",
    "q5.solution()\n"
   ]
  },
  {
   "cell_type": "markdown",
   "id": "275fae81",
   "metadata": {
    "papermill": {
     "duration": 0.006649,
     "end_time": "2023-01-17T14:18:34.025207",
     "exception": false,
     "start_time": "2023-01-17T14:18:34.018558",
     "status": "completed"
    },
    "tags": []
   },
   "source": [
    "# Keep Going\n",
    "\n",
    "That's it for lists and tuples! Now you have the baseline knowledge to **[learn about loops](https://www.kaggle.com/colinmorris/loops-and-list-comprehensions)**, which is where lists and tuples get really interesting. "
   ]
  },
  {
   "cell_type": "markdown",
   "id": "48026f99",
   "metadata": {
    "papermill": {
     "duration": 0.006646,
     "end_time": "2023-01-17T14:18:34.038570",
     "exception": false,
     "start_time": "2023-01-17T14:18:34.031924",
     "status": "completed"
    },
    "tags": []
   },
   "source": [
    "---\n",
    "\n",
    "\n",
    "\n",
    "\n",
    "*Have questions or comments? Visit the [course discussion forum](https://www.kaggle.com/learn/python/discussion) to chat with other learners.*"
   ]
  }
 ],
 "metadata": {
  "kernelspec": {
   "display_name": "Python 3",
   "language": "python",
   "name": "python3"
  },
  "language_info": {
   "codemirror_mode": {
    "name": "ipython",
    "version": 3
   },
   "file_extension": ".py",
   "mimetype": "text/x-python",
   "name": "python",
   "nbconvert_exporter": "python",
   "pygments_lexer": "ipython3",
   "version": "3.7.12"
  },
  "papermill": {
   "default_parameters": {},
   "duration": 10.075712,
   "end_time": "2023-01-17T14:18:34.767650",
   "environment_variables": {},
   "exception": null,
   "input_path": "__notebook__.ipynb",
   "output_path": "__notebook__.ipynb",
   "parameters": {},
   "start_time": "2023-01-17T14:18:24.691938",
   "version": "2.3.4"
  }
 },
 "nbformat": 4,
 "nbformat_minor": 5
}
